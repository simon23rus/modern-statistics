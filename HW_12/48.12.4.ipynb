{
 "cells": [
  {
   "cell_type": "code",
   "execution_count": 10,
   "metadata": {},
   "outputs": [
    {
     "data": {
      "text/html": [
       "<table>\n",
       "<thead><tr><th scope=col>V1</th><th scope=col>V2</th></tr></thead>\n",
       "<tbody>\n",
       "\t<tr><td>1950    </td><td>101936.8</td></tr>\n",
       "\t<tr><td>1951    </td><td>103506.9</td></tr>\n",
       "\t<tr><td>1952    </td><td>105385.1</td></tr>\n",
       "\t<tr><td>1953    </td><td>107302.8</td></tr>\n",
       "\t<tr><td>1954    </td><td>109208.9</td></tr>\n",
       "\t<tr><td>1955    </td><td>111125.5</td></tr>\n",
       "</tbody>\n",
       "</table>\n"
      ],
      "text/latex": [
       "\\begin{tabular}{r|ll}\n",
       " V1 & V2\\\\\n",
       "\\hline\n",
       "\t 1950     & 101936.8\\\\\n",
       "\t 1951     & 103506.9\\\\\n",
       "\t 1952     & 105385.1\\\\\n",
       "\t 1953     & 107302.8\\\\\n",
       "\t 1954     & 109208.9\\\\\n",
       "\t 1955     & 111125.5\\\\\n",
       "\\end{tabular}\n"
      ],
      "text/markdown": [
       "\n",
       "V1 | V2 | \n",
       "|---|---|---|---|---|---|\n",
       "| 1950     | 101936.8 | \n",
       "| 1951     | 103506.9 | \n",
       "| 1952     | 105385.1 | \n",
       "| 1953     | 107302.8 | \n",
       "| 1954     | 109208.9 | \n",
       "| 1955     | 111125.5 | \n",
       "\n",
       "\n"
      ],
      "text/plain": [
       "  V1   V2      \n",
       "1 1950 101936.8\n",
       "2 1951 103506.9\n",
       "3 1952 105385.1\n",
       "4 1953 107302.8\n",
       "5 1954 109208.9\n",
       "6 1955 111125.5"
      ]
     },
     "metadata": {},
     "output_type": "display_data"
    }
   ],
   "source": [
    "data = read.table('./population-for-russia.csv', sep=',')\n",
    "head(data)"
   ]
  },
  {
   "cell_type": "code",
   "execution_count": 22,
   "metadata": {},
   "outputs": [
    {
     "data": {
      "text/html": [
       "<ol class=list-inline>\n",
       "\t<li>101936.816</li>\n",
       "\t<li>103506.916</li>\n",
       "\t<li>105385.09</li>\n",
       "\t<li>107302.806</li>\n",
       "\t<li>109208.917</li>\n",
       "\t<li>111125.498</li>\n",
       "\t<li>112859.299</li>\n",
       "\t<li>114554.838</li>\n",
       "\t<li>116259.155</li>\n",
       "\t<li>117956.865</li>\n",
       "\t<li>119631.633</li>\n",
       "\t<li>121324.346</li>\n",
       "\t<li>122877.56</li>\n",
       "\t<li>124276.517</li>\n",
       "\t<li>125521.51</li>\n",
       "\t<li>126541.293</li>\n",
       "\t<li>127414.772</li>\n",
       "\t<li>128183.863</li>\n",
       "\t<li>128876.498</li>\n",
       "\t<li>129572.617</li>\n",
       "\t<li>130245.476</li>\n",
       "\t<li>130977.408</li>\n",
       "\t<li>131768.681</li>\n",
       "\t<li>132556.176</li>\n",
       "\t<li>133378.674</li>\n",
       "\t<li>134293.372</li>\n",
       "\t<li>135269.263</li>\n",
       "\t<li>136263.686</li>\n",
       "\t<li>137245.87</li>\n",
       "\t<li>138163.68</li>\n",
       "\t<li>139038.849</li>\n",
       "\t<li>139899.972</li>\n",
       "\t<li>140821.82</li>\n",
       "\t<li>141861.725</li>\n",
       "\t<li>142922.263</li>\n",
       "\t<li>143937.997</li>\n",
       "\t<li>144966.55</li>\n",
       "\t<li>145958.907</li>\n",
       "\t<li>146865.701</li>\n",
       "\t<li>147351.694</li>\n",
       "\t<li>147973.076</li>\n",
       "\t<li>148298.707</li>\n",
       "\t<li>148399.815</li>\n",
       "\t<li>148390.228</li>\n",
       "\t<li>148442.367</li>\n",
       "\t<li>148490.269</li>\n",
       "\t<li>148311.699</li>\n",
       "\t<li>148067.409</li>\n",
       "\t<li>147813.351</li>\n",
       "\t<li>147352.175</li>\n",
       "\t<li>146709.971</li>\n",
       "\t<li>145990.308</li>\n",
       "\t<li>145162.621</li>\n",
       "\t<li>144307.852</li>\n",
       "\t<li>143507.43</li>\n",
       "\t<li>142775.578</li>\n",
       "\t<li>142069.494</li>\n",
       "\t<li>141377.752</li>\n",
       "\t<li>140702.094</li>\n",
       "\t<li>140041.247</li>\n",
       "\t<li>139390.205</li>\n",
       "</ol>\n"
      ],
      "text/latex": [
       "\\begin{enumerate*}\n",
       "\\item 101936.816\n",
       "\\item 103506.916\n",
       "\\item 105385.09\n",
       "\\item 107302.806\n",
       "\\item 109208.917\n",
       "\\item 111125.498\n",
       "\\item 112859.299\n",
       "\\item 114554.838\n",
       "\\item 116259.155\n",
       "\\item 117956.865\n",
       "\\item 119631.633\n",
       "\\item 121324.346\n",
       "\\item 122877.56\n",
       "\\item 124276.517\n",
       "\\item 125521.51\n",
       "\\item 126541.293\n",
       "\\item 127414.772\n",
       "\\item 128183.863\n",
       "\\item 128876.498\n",
       "\\item 129572.617\n",
       "\\item 130245.476\n",
       "\\item 130977.408\n",
       "\\item 131768.681\n",
       "\\item 132556.176\n",
       "\\item 133378.674\n",
       "\\item 134293.372\n",
       "\\item 135269.263\n",
       "\\item 136263.686\n",
       "\\item 137245.87\n",
       "\\item 138163.68\n",
       "\\item 139038.849\n",
       "\\item 139899.972\n",
       "\\item 140821.82\n",
       "\\item 141861.725\n",
       "\\item 142922.263\n",
       "\\item 143937.997\n",
       "\\item 144966.55\n",
       "\\item 145958.907\n",
       "\\item 146865.701\n",
       "\\item 147351.694\n",
       "\\item 147973.076\n",
       "\\item 148298.707\n",
       "\\item 148399.815\n",
       "\\item 148390.228\n",
       "\\item 148442.367\n",
       "\\item 148490.269\n",
       "\\item 148311.699\n",
       "\\item 148067.409\n",
       "\\item 147813.351\n",
       "\\item 147352.175\n",
       "\\item 146709.971\n",
       "\\item 145990.308\n",
       "\\item 145162.621\n",
       "\\item 144307.852\n",
       "\\item 143507.43\n",
       "\\item 142775.578\n",
       "\\item 142069.494\n",
       "\\item 141377.752\n",
       "\\item 140702.094\n",
       "\\item 140041.247\n",
       "\\item 139390.205\n",
       "\\end{enumerate*}\n"
      ],
      "text/markdown": [
       "1. 101936.816\n",
       "2. 103506.916\n",
       "3. 105385.09\n",
       "4. 107302.806\n",
       "5. 109208.917\n",
       "6. 111125.498\n",
       "7. 112859.299\n",
       "8. 114554.838\n",
       "9. 116259.155\n",
       "10. 117956.865\n",
       "11. 119631.633\n",
       "12. 121324.346\n",
       "13. 122877.56\n",
       "14. 124276.517\n",
       "15. 125521.51\n",
       "16. 126541.293\n",
       "17. 127414.772\n",
       "18. 128183.863\n",
       "19. 128876.498\n",
       "20. 129572.617\n",
       "21. 130245.476\n",
       "22. 130977.408\n",
       "23. 131768.681\n",
       "24. 132556.176\n",
       "25. 133378.674\n",
       "26. 134293.372\n",
       "27. 135269.263\n",
       "28. 136263.686\n",
       "29. 137245.87\n",
       "30. 138163.68\n",
       "31. 139038.849\n",
       "32. 139899.972\n",
       "33. 140821.82\n",
       "34. 141861.725\n",
       "35. 142922.263\n",
       "36. 143937.997\n",
       "37. 144966.55\n",
       "38. 145958.907\n",
       "39. 146865.701\n",
       "40. 147351.694\n",
       "41. 147973.076\n",
       "42. 148298.707\n",
       "43. 148399.815\n",
       "44. 148390.228\n",
       "45. 148442.367\n",
       "46. 148490.269\n",
       "47. 148311.699\n",
       "48. 148067.409\n",
       "49. 147813.351\n",
       "50. 147352.175\n",
       "51. 146709.971\n",
       "52. 145990.308\n",
       "53. 145162.621\n",
       "54. 144307.852\n",
       "55. 143507.43\n",
       "56. 142775.578\n",
       "57. 142069.494\n",
       "58. 141377.752\n",
       "59. 140702.094\n",
       "60. 140041.247\n",
       "61. 139390.205\n",
       "\n",
       "\n"
      ],
      "text/plain": [
       " [1] 101936.8 103506.9 105385.1 107302.8 109208.9 111125.5 112859.3 114554.8\n",
       " [9] 116259.2 117956.9 119631.6 121324.3 122877.6 124276.5 125521.5 126541.3\n",
       "[17] 127414.8 128183.9 128876.5 129572.6 130245.5 130977.4 131768.7 132556.2\n",
       "[25] 133378.7 134293.4 135269.3 136263.7 137245.9 138163.7 139038.8 139900.0\n",
       "[33] 140821.8 141861.7 142922.3 143938.0 144966.5 145958.9 146865.7 147351.7\n",
       "[41] 147973.1 148298.7 148399.8 148390.2 148442.4 148490.3 148311.7 148067.4\n",
       "[49] 147813.4 147352.2 146710.0 145990.3 145162.6 144307.9 143507.4 142775.6\n",
       "[57] 142069.5 141377.8 140702.1 140041.2 139390.2"
      ]
     },
     "metadata": {},
     "output_type": "display_data"
    }
   ],
   "source": [
    "as.double(unlist(data['V2']))"
   ]
  },
  {
   "cell_type": "code",
   "execution_count": 26,
   "metadata": {
    "collapsed": true
   },
   "outputs": [],
   "source": [
    "data['V2'] = as.double(unlist(data['V2']))"
   ]
  },
  {
   "cell_type": "code",
   "execution_count": 31,
   "metadata": {
    "collapsed": true
   },
   "outputs": [
    {
     "data": {
      "text/html": [
       "<table>\n",
       "<thead><tr><th scope=col>V1</th></tr></thead>\n",
       "<tbody>\n",
       "\t<tr><td>1950</td></tr>\n",
       "\t<tr><td>1951</td></tr>\n",
       "\t<tr><td>1952</td></tr>\n",
       "\t<tr><td>1953</td></tr>\n",
       "\t<tr><td>1954</td></tr>\n",
       "\t<tr><td>1955</td></tr>\n",
       "\t<tr><td>1956</td></tr>\n",
       "\t<tr><td>1957</td></tr>\n",
       "\t<tr><td>1958</td></tr>\n",
       "\t<tr><td>1959</td></tr>\n",
       "\t<tr><td>1960</td></tr>\n",
       "\t<tr><td>1961</td></tr>\n",
       "\t<tr><td>1962</td></tr>\n",
       "\t<tr><td>1963</td></tr>\n",
       "\t<tr><td>1964</td></tr>\n",
       "\t<tr><td>1965</td></tr>\n",
       "\t<tr><td>1966</td></tr>\n",
       "\t<tr><td>1967</td></tr>\n",
       "\t<tr><td>1968</td></tr>\n",
       "\t<tr><td>1969</td></tr>\n",
       "\t<tr><td>1970</td></tr>\n",
       "\t<tr><td>1971</td></tr>\n",
       "\t<tr><td>1972</td></tr>\n",
       "\t<tr><td>1973</td></tr>\n",
       "\t<tr><td>1974</td></tr>\n",
       "\t<tr><td>1975</td></tr>\n",
       "\t<tr><td>1976</td></tr>\n",
       "\t<tr><td>1977</td></tr>\n",
       "\t<tr><td>1978</td></tr>\n",
       "\t<tr><td>1979</td></tr>\n",
       "\t<tr><td>⋮</td></tr>\n",
       "\t<tr><td>1981</td></tr>\n",
       "\t<tr><td>1982</td></tr>\n",
       "\t<tr><td>1983</td></tr>\n",
       "\t<tr><td>1984</td></tr>\n",
       "\t<tr><td>1985</td></tr>\n",
       "\t<tr><td>1986</td></tr>\n",
       "\t<tr><td>1987</td></tr>\n",
       "\t<tr><td>1988</td></tr>\n",
       "\t<tr><td>1989</td></tr>\n",
       "\t<tr><td>1990</td></tr>\n",
       "\t<tr><td>1991</td></tr>\n",
       "\t<tr><td>1992</td></tr>\n",
       "\t<tr><td>1993</td></tr>\n",
       "\t<tr><td>1994</td></tr>\n",
       "\t<tr><td>1995</td></tr>\n",
       "\t<tr><td>1996</td></tr>\n",
       "\t<tr><td>1997</td></tr>\n",
       "\t<tr><td>1998</td></tr>\n",
       "\t<tr><td>1999</td></tr>\n",
       "\t<tr><td>2000</td></tr>\n",
       "\t<tr><td>2001</td></tr>\n",
       "\t<tr><td>2002</td></tr>\n",
       "\t<tr><td>2003</td></tr>\n",
       "\t<tr><td>2004</td></tr>\n",
       "\t<tr><td>2005</td></tr>\n",
       "\t<tr><td>2006</td></tr>\n",
       "\t<tr><td>2007</td></tr>\n",
       "\t<tr><td>2008</td></tr>\n",
       "\t<tr><td>2009</td></tr>\n",
       "\t<tr><td>2010</td></tr>\n",
       "</tbody>\n",
       "</table>\n"
      ],
      "text/latex": [
       "\\begin{tabular}{r|l}\n",
       " V1\\\\\n",
       "\\hline\n",
       "\t 1950\\\\\n",
       "\t 1951\\\\\n",
       "\t 1952\\\\\n",
       "\t 1953\\\\\n",
       "\t 1954\\\\\n",
       "\t 1955\\\\\n",
       "\t 1956\\\\\n",
       "\t 1957\\\\\n",
       "\t 1958\\\\\n",
       "\t 1959\\\\\n",
       "\t 1960\\\\\n",
       "\t 1961\\\\\n",
       "\t 1962\\\\\n",
       "\t 1963\\\\\n",
       "\t 1964\\\\\n",
       "\t 1965\\\\\n",
       "\t 1966\\\\\n",
       "\t 1967\\\\\n",
       "\t 1968\\\\\n",
       "\t 1969\\\\\n",
       "\t 1970\\\\\n",
       "\t 1971\\\\\n",
       "\t 1972\\\\\n",
       "\t 1973\\\\\n",
       "\t 1974\\\\\n",
       "\t 1975\\\\\n",
       "\t 1976\\\\\n",
       "\t 1977\\\\\n",
       "\t 1978\\\\\n",
       "\t 1979\\\\\n",
       "\t ⋮\\\\\n",
       "\t 1981\\\\\n",
       "\t 1982\\\\\n",
       "\t 1983\\\\\n",
       "\t 1984\\\\\n",
       "\t 1985\\\\\n",
       "\t 1986\\\\\n",
       "\t 1987\\\\\n",
       "\t 1988\\\\\n",
       "\t 1989\\\\\n",
       "\t 1990\\\\\n",
       "\t 1991\\\\\n",
       "\t 1992\\\\\n",
       "\t 1993\\\\\n",
       "\t 1994\\\\\n",
       "\t 1995\\\\\n",
       "\t 1996\\\\\n",
       "\t 1997\\\\\n",
       "\t 1998\\\\\n",
       "\t 1999\\\\\n",
       "\t 2000\\\\\n",
       "\t 2001\\\\\n",
       "\t 2002\\\\\n",
       "\t 2003\\\\\n",
       "\t 2004\\\\\n",
       "\t 2005\\\\\n",
       "\t 2006\\\\\n",
       "\t 2007\\\\\n",
       "\t 2008\\\\\n",
       "\t 2009\\\\\n",
       "\t 2010\\\\\n",
       "\\end{tabular}\n"
      ],
      "text/markdown": [
       "\n",
       "V1 | \n",
       "|---|---|---|---|---|---|---|---|---|---|---|---|---|---|---|---|---|---|---|---|---|---|---|---|---|---|---|---|---|---|---|---|---|---|---|---|---|---|---|---|---|---|---|---|---|---|---|---|---|---|---|---|---|---|---|---|---|---|---|---|---|\n",
       "| 1950 | \n",
       "| 1951 | \n",
       "| 1952 | \n",
       "| 1953 | \n",
       "| 1954 | \n",
       "| 1955 | \n",
       "| 1956 | \n",
       "| 1957 | \n",
       "| 1958 | \n",
       "| 1959 | \n",
       "| 1960 | \n",
       "| 1961 | \n",
       "| 1962 | \n",
       "| 1963 | \n",
       "| 1964 | \n",
       "| 1965 | \n",
       "| 1966 | \n",
       "| 1967 | \n",
       "| 1968 | \n",
       "| 1969 | \n",
       "| 1970 | \n",
       "| 1971 | \n",
       "| 1972 | \n",
       "| 1973 | \n",
       "| 1974 | \n",
       "| 1975 | \n",
       "| 1976 | \n",
       "| 1977 | \n",
       "| 1978 | \n",
       "| 1979 | \n",
       "| ⋮ | \n",
       "| 1981 | \n",
       "| 1982 | \n",
       "| 1983 | \n",
       "| 1984 | \n",
       "| 1985 | \n",
       "| 1986 | \n",
       "| 1987 | \n",
       "| 1988 | \n",
       "| 1989 | \n",
       "| 1990 | \n",
       "| 1991 | \n",
       "| 1992 | \n",
       "| 1993 | \n",
       "| 1994 | \n",
       "| 1995 | \n",
       "| 1996 | \n",
       "| 1997 | \n",
       "| 1998 | \n",
       "| 1999 | \n",
       "| 2000 | \n",
       "| 2001 | \n",
       "| 2002 | \n",
       "| 2003 | \n",
       "| 2004 | \n",
       "| 2005 | \n",
       "| 2006 | \n",
       "| 2007 | \n",
       "| 2008 | \n",
       "| 2009 | \n",
       "| 2010 | \n",
       "\n",
       "\n"
      ],
      "text/plain": [
       "   V1  \n",
       "1  1950\n",
       "2  1951\n",
       "3  1952\n",
       "4  1953\n",
       "5  1954\n",
       "6  1955\n",
       "7  1956\n",
       "8  1957\n",
       "9  1958\n",
       "10 1959\n",
       "11 1960\n",
       "12 1961\n",
       "13 1962\n",
       "14 1963\n",
       "15 1964\n",
       "16 1965\n",
       "17 1966\n",
       "18 1967\n",
       "19 1968\n",
       "20 1969\n",
       "21 1970\n",
       "22 1971\n",
       "23 1972\n",
       "24 1973\n",
       "25 1974\n",
       "26 1975\n",
       "27 1976\n",
       "28 1977\n",
       "29 1978\n",
       "30 1979\n",
       "⋮  ⋮   \n",
       "32 1981\n",
       "33 1982\n",
       "34 1983\n",
       "35 1984\n",
       "36 1985\n",
       "37 1986\n",
       "38 1987\n",
       "39 1988\n",
       "40 1989\n",
       "41 1990\n",
       "42 1991\n",
       "43 1992\n",
       "44 1993\n",
       "45 1994\n",
       "46 1995\n",
       "47 1996\n",
       "48 1997\n",
       "49 1998\n",
       "50 1999\n",
       "51 2000\n",
       "52 2001\n",
       "53 2002\n",
       "54 2003\n",
       "55 2004\n",
       "56 2005\n",
       "57 2006\n",
       "58 2007\n",
       "59 2008\n",
       "60 2009\n",
       "61 2010"
      ]
     },
     "metadata": {},
     "output_type": "display_data"
    }
   ],
   "source": [
    "data['V1']"
   ]
  },
  {
   "cell_type": "code",
   "execution_count": 32,
   "metadata": {
    "collapsed": true
   },
   "outputs": [],
   "source": [
    "library('forecast')"
   ]
  },
  {
   "cell_type": "code",
   "execution_count": 42,
   "metadata": {
    "collapsed": true
   },
   "outputs": [],
   "source": [
    "model_arima <- forecast::auto.arima(data['V2'], seasonal = FALSE)"
   ]
  },
  {
   "cell_type": "markdown",
   "metadata": {},
   "source": [
    "Получили, что лучшие параметры - 2, 2, 2\n",
    "ТО есть 2 дифференцирования и p и q = 2"
   ]
  },
  {
   "cell_type": "code",
   "execution_count": 44,
   "metadata": {},
   "outputs": [
    {
     "name": "stdout",
     "output_type": "stream",
     "text": [
      "Series: data[\"V2\"] \n",
      "ARIMA(2,2,2)                    \n",
      "\n",
      "Coefficients:\n",
      "         ar1      ar2      ma1     ma2\n",
      "      1.2592  -0.6773  -1.1161  0.8856\n",
      "s.e.  0.1434   0.1701   0.1209  0.1379\n",
      "\n",
      "sigma^2 estimated as 11606:  log likelihood=-357.76\n",
      "AIC=725.51   AICc=726.65   BIC=735.9\n",
      "\n",
      "Training set error measures:\n",
      "                    ME     RMSE      MAE         MPE       MAPE       MASE\n",
      "Training set -20.98444 102.2956 74.85312 -0.01512785 0.05642833 0.08067128\n",
      "                    ACF1\n",
      "Training set -0.09884148\n"
     ]
    }
   ],
   "source": [
    "summary(model_arima)"
   ]
  },
  {
   "cell_type": "code",
   "execution_count": 62,
   "metadata": {},
   "outputs": [
    {
     "data": {
      "text/html": [
       "61"
      ],
      "text/latex": [
       "61"
      ],
      "text/markdown": [
       "61"
      ],
      "text/plain": [
       "[1] 61"
      ]
     },
     "metadata": {},
     "output_type": "display_data"
    }
   ],
   "source": [
    "nrow(data)"
   ]
  },
  {
   "cell_type": "code",
   "execution_count": 63,
   "metadata": {
    "collapsed": true
   },
   "outputs": [],
   "source": [
    "train <- head(data, 40)\n",
    "test <- tail(data, 21)"
   ]
  },
  {
   "cell_type": "code",
   "execution_count": 66,
   "metadata": {
    "collapsed": true
   },
   "outputs": [],
   "source": [
    "model_arima <- forecast::auto.arima(train['V2'], seasonal = FALSE)"
   ]
  },
  {
   "cell_type": "code",
   "execution_count": 67,
   "metadata": {
    "collapsed": true
   },
   "outputs": [],
   "source": [
    "preds_arima <- forecast(model_arima, 21)"
   ]
  },
  {
   "cell_type": "code",
   "execution_count": 71,
   "metadata": {
    "collapsed": true
   },
   "outputs": [
    {
     "data": {
      "text/html": [
       "<table>\n",
       "<thead><tr><th></th><th scope=col>V2</th></tr></thead>\n",
       "<tbody>\n",
       "\t<tr><th scope=row>41</th><td>147973.1</td></tr>\n",
       "\t<tr><th scope=row>42</th><td>148298.7</td></tr>\n",
       "\t<tr><th scope=row>43</th><td>148399.8</td></tr>\n",
       "\t<tr><th scope=row>44</th><td>148390.2</td></tr>\n",
       "\t<tr><th scope=row>45</th><td>148442.4</td></tr>\n",
       "\t<tr><th scope=row>46</th><td>148490.3</td></tr>\n",
       "\t<tr><th scope=row>47</th><td>148311.7</td></tr>\n",
       "\t<tr><th scope=row>48</th><td>148067.4</td></tr>\n",
       "\t<tr><th scope=row>49</th><td>147813.4</td></tr>\n",
       "\t<tr><th scope=row>50</th><td>147352.2</td></tr>\n",
       "\t<tr><th scope=row>51</th><td>146710.0</td></tr>\n",
       "\t<tr><th scope=row>52</th><td>145990.3</td></tr>\n",
       "\t<tr><th scope=row>53</th><td>145162.6</td></tr>\n",
       "\t<tr><th scope=row>54</th><td>144307.9</td></tr>\n",
       "\t<tr><th scope=row>55</th><td>143507.4</td></tr>\n",
       "\t<tr><th scope=row>56</th><td>142775.6</td></tr>\n",
       "\t<tr><th scope=row>57</th><td>142069.5</td></tr>\n",
       "\t<tr><th scope=row>58</th><td>141377.8</td></tr>\n",
       "\t<tr><th scope=row>59</th><td>140702.1</td></tr>\n",
       "\t<tr><th scope=row>60</th><td>140041.2</td></tr>\n",
       "\t<tr><th scope=row>61</th><td>139390.2</td></tr>\n",
       "</tbody>\n",
       "</table>\n"
      ],
      "text/latex": [
       "\\begin{tabular}{r|l}\n",
       "  & V2\\\\\n",
       "\\hline\n",
       "\t41 & 147973.1\\\\\n",
       "\t42 & 148298.7\\\\\n",
       "\t43 & 148399.8\\\\\n",
       "\t44 & 148390.2\\\\\n",
       "\t45 & 148442.4\\\\\n",
       "\t46 & 148490.3\\\\\n",
       "\t47 & 148311.7\\\\\n",
       "\t48 & 148067.4\\\\\n",
       "\t49 & 147813.4\\\\\n",
       "\t50 & 147352.2\\\\\n",
       "\t51 & 146710.0\\\\\n",
       "\t52 & 145990.3\\\\\n",
       "\t53 & 145162.6\\\\\n",
       "\t54 & 144307.9\\\\\n",
       "\t55 & 143507.4\\\\\n",
       "\t56 & 142775.6\\\\\n",
       "\t57 & 142069.5\\\\\n",
       "\t58 & 141377.8\\\\\n",
       "\t59 & 140702.1\\\\\n",
       "\t60 & 140041.2\\\\\n",
       "\t61 & 139390.2\\\\\n",
       "\\end{tabular}\n"
      ],
      "text/markdown": [
       "\n",
       "| <!--/--> | V2 | \n",
       "|---|---|---|---|---|---|---|---|---|---|---|---|---|---|---|---|---|---|---|---|---|\n",
       "| 41 | 147973.1 | \n",
       "| 42 | 148298.7 | \n",
       "| 43 | 148399.8 | \n",
       "| 44 | 148390.2 | \n",
       "| 45 | 148442.4 | \n",
       "| 46 | 148490.3 | \n",
       "| 47 | 148311.7 | \n",
       "| 48 | 148067.4 | \n",
       "| 49 | 147813.4 | \n",
       "| 50 | 147352.2 | \n",
       "| 51 | 146710.0 | \n",
       "| 52 | 145990.3 | \n",
       "| 53 | 145162.6 | \n",
       "| 54 | 144307.9 | \n",
       "| 55 | 143507.4 | \n",
       "| 56 | 142775.6 | \n",
       "| 57 | 142069.5 | \n",
       "| 58 | 141377.8 | \n",
       "| 59 | 140702.1 | \n",
       "| 60 | 140041.2 | \n",
       "| 61 | 139390.2 | \n",
       "\n",
       "\n"
      ],
      "text/plain": [
       "   V2      \n",
       "41 147973.1\n",
       "42 148298.7\n",
       "43 148399.8\n",
       "44 148390.2\n",
       "45 148442.4\n",
       "46 148490.3\n",
       "47 148311.7\n",
       "48 148067.4\n",
       "49 147813.4\n",
       "50 147352.2\n",
       "51 146710.0\n",
       "52 145990.3\n",
       "53 145162.6\n",
       "54 144307.9\n",
       "55 143507.4\n",
       "56 142775.6\n",
       "57 142069.5\n",
       "58 141377.8\n",
       "59 140702.1\n",
       "60 140041.2\n",
       "61 139390.2"
      ]
     },
     "metadata": {},
     "output_type": "display_data"
    }
   ],
   "source": [
    "as.vector(test['V2'])"
   ]
  },
  {
   "cell_type": "code",
   "execution_count": 84,
   "metadata": {},
   "outputs": [
    {
     "data": {
      "text/html": [
       "<table>\n",
       "<thead><tr><th></th><th scope=col>ME</th><th scope=col>RMSE</th><th scope=col>MAE</th><th scope=col>MPE</th><th scope=col>MAPE</th><th scope=col>MASE</th><th scope=col>ACF1</th></tr></thead>\n",
       "<tbody>\n",
       "\t<tr><th scope=row>Training set</th><td> -19.27982 </td><td>  95.57472 </td><td>  66.84511 </td><td>-0.01476525</td><td>0.05372173 </td><td>0.0574032  </td><td>-0.1881495 </td></tr>\n",
       "\t<tr><th scope=row>Test set</th><td>4383.52068 </td><td>4813.47324 </td><td>4383.52068 </td><td> 3.04054551</td><td>3.04054551 </td><td>3.7643458  </td><td>        NA </td></tr>\n",
       "</tbody>\n",
       "</table>\n"
      ],
      "text/latex": [
       "\\begin{tabular}{r|lllllll}\n",
       "  & ME & RMSE & MAE & MPE & MAPE & MASE & ACF1\\\\\n",
       "\\hline\n",
       "\tTraining set &  -19.27982  &   95.57472  &   66.84511  & -0.01476525 & 0.05372173  & 0.0574032   & -0.1881495 \\\\\n",
       "\tTest set & 4383.52068  & 4813.47324  & 4383.52068  &  3.04054551 & 3.04054551  & 3.7643458   &         NA \\\\\n",
       "\\end{tabular}\n"
      ],
      "text/markdown": [
       "\n",
       "| <!--/--> | ME | RMSE | MAE | MPE | MAPE | MASE | ACF1 | \n",
       "|---|---|\n",
       "| Training set |  -19.27982  |   95.57472  |   66.84511  | -0.01476525 | 0.05372173  | 0.0574032   | -0.1881495  | \n",
       "| Test set | 4383.52068  | 4813.47324  | 4383.52068  |  3.04054551 | 3.04054551  | 3.7643458   |         NA  | \n",
       "\n",
       "\n"
      ],
      "text/plain": [
       "             ME         RMSE       MAE        MPE         MAPE       MASE     \n",
       "Training set  -19.27982   95.57472   66.84511 -0.01476525 0.05372173 0.0574032\n",
       "Test set     4383.52068 4813.47324 4383.52068  3.04054551 3.04054551 3.7643458\n",
       "             ACF1      \n",
       "Training set -0.1881495\n",
       "Test set             NA"
      ]
     },
     "metadata": {},
     "output_type": "display_data"
    }
   ],
   "source": [
    "forecast::accuracy(preds_arima,(test[,'V2']))"
   ]
  },
  {
   "cell_type": "code",
   "execution_count": 88,
   "metadata": {},
   "outputs": [
    {
     "name": "stderr",
     "output_type": "stream",
     "text": [
      "Loading required package: MASS\n",
      "Loading required package: TSA\n",
      "Loading required package: leaps\n",
      "Loading required package: locfit\n",
      "locfit 1.5-9.1 \t 2013-03-22\n",
      "Loading required package: mgcv\n",
      "Loading required package: nlme\n",
      "\n",
      "Attaching package: ‘nlme’\n",
      "\n",
      "The following object is masked from ‘package:forecast’:\n",
      "\n",
      "    getResponse\n",
      "\n",
      "This is mgcv 1.8-16. For overview type 'help(\"mgcv-package\")'.\n",
      "Loading required package: tseries\n",
      "\n",
      "Attaching package: ‘TSA’\n",
      "\n",
      "The following objects are masked from ‘package:forecast’:\n",
      "\n",
      "    fitted.Arima, plot.Arima\n",
      "\n",
      "The following objects are masked from ‘package:stats’:\n",
      "\n",
      "    acf, arima\n",
      "\n",
      "The following object is masked from ‘package:utils’:\n",
      "\n",
      "    tar\n",
      "\n",
      "Loading required package: TTR\n",
      "Loading required package: urca\n",
      "\n",
      "Attaching package: ‘AnalyzeTS’\n",
      "\n",
      "The following object is masked from ‘package:base’:\n",
      "\n",
      "    pmax\n",
      "\n"
     ]
    }
   ],
   "source": [
    "library('AnalyzeTS')"
   ]
  },
  {
   "cell_type": "code",
   "execution_count": 98,
   "metadata": {
    "collapsed": true
   },
   "outputs": [
    {
     "data": {
      "text/html": [
       "<table>\n",
       "<thead><tr><th></th><th scope=col>V2</th></tr></thead>\n",
       "<tbody>\n",
       "\t<tr><th scope=row>41</th><td>147973.1</td></tr>\n",
       "\t<tr><th scope=row>42</th><td>148298.7</td></tr>\n",
       "\t<tr><th scope=row>43</th><td>148399.8</td></tr>\n",
       "\t<tr><th scope=row>44</th><td>148390.2</td></tr>\n",
       "\t<tr><th scope=row>45</th><td>148442.4</td></tr>\n",
       "\t<tr><th scope=row>46</th><td>148490.3</td></tr>\n",
       "\t<tr><th scope=row>47</th><td>148311.7</td></tr>\n",
       "\t<tr><th scope=row>48</th><td>148067.4</td></tr>\n",
       "\t<tr><th scope=row>49</th><td>147813.4</td></tr>\n",
       "\t<tr><th scope=row>50</th><td>147352.2</td></tr>\n",
       "\t<tr><th scope=row>51</th><td>146710.0</td></tr>\n",
       "\t<tr><th scope=row>52</th><td>145990.3</td></tr>\n",
       "\t<tr><th scope=row>53</th><td>145162.6</td></tr>\n",
       "\t<tr><th scope=row>54</th><td>144307.9</td></tr>\n",
       "\t<tr><th scope=row>55</th><td>143507.4</td></tr>\n",
       "\t<tr><th scope=row>56</th><td>142775.6</td></tr>\n",
       "\t<tr><th scope=row>57</th><td>142069.5</td></tr>\n",
       "\t<tr><th scope=row>58</th><td>141377.8</td></tr>\n",
       "\t<tr><th scope=row>59</th><td>140702.1</td></tr>\n",
       "\t<tr><th scope=row>60</th><td>140041.2</td></tr>\n",
       "\t<tr><th scope=row>61</th><td>139390.2</td></tr>\n",
       "</tbody>\n",
       "</table>\n"
      ],
      "text/latex": [
       "\\begin{tabular}{r|l}\n",
       "  & V2\\\\\n",
       "\\hline\n",
       "\t41 & 147973.1\\\\\n",
       "\t42 & 148298.7\\\\\n",
       "\t43 & 148399.8\\\\\n",
       "\t44 & 148390.2\\\\\n",
       "\t45 & 148442.4\\\\\n",
       "\t46 & 148490.3\\\\\n",
       "\t47 & 148311.7\\\\\n",
       "\t48 & 148067.4\\\\\n",
       "\t49 & 147813.4\\\\\n",
       "\t50 & 147352.2\\\\\n",
       "\t51 & 146710.0\\\\\n",
       "\t52 & 145990.3\\\\\n",
       "\t53 & 145162.6\\\\\n",
       "\t54 & 144307.9\\\\\n",
       "\t55 & 143507.4\\\\\n",
       "\t56 & 142775.6\\\\\n",
       "\t57 & 142069.5\\\\\n",
       "\t58 & 141377.8\\\\\n",
       "\t59 & 140702.1\\\\\n",
       "\t60 & 140041.2\\\\\n",
       "\t61 & 139390.2\\\\\n",
       "\\end{tabular}\n"
      ],
      "text/markdown": [
       "\n",
       "| <!--/--> | V2 | \n",
       "|---|---|---|---|---|---|---|---|---|---|---|---|---|---|---|---|---|---|---|---|---|\n",
       "| 41 | 147973.1 | \n",
       "| 42 | 148298.7 | \n",
       "| 43 | 148399.8 | \n",
       "| 44 | 148390.2 | \n",
       "| 45 | 148442.4 | \n",
       "| 46 | 148490.3 | \n",
       "| 47 | 148311.7 | \n",
       "| 48 | 148067.4 | \n",
       "| 49 | 147813.4 | \n",
       "| 50 | 147352.2 | \n",
       "| 51 | 146710.0 | \n",
       "| 52 | 145990.3 | \n",
       "| 53 | 145162.6 | \n",
       "| 54 | 144307.9 | \n",
       "| 55 | 143507.4 | \n",
       "| 56 | 142775.6 | \n",
       "| 57 | 142069.5 | \n",
       "| 58 | 141377.8 | \n",
       "| 59 | 140702.1 | \n",
       "| 60 | 140041.2 | \n",
       "| 61 | 139390.2 | \n",
       "\n",
       "\n"
      ],
      "text/plain": [
       "   V2      \n",
       "41 147973.1\n",
       "42 148298.7\n",
       "43 148399.8\n",
       "44 148390.2\n",
       "45 148442.4\n",
       "46 148490.3\n",
       "47 148311.7\n",
       "48 148067.4\n",
       "49 147813.4\n",
       "50 147352.2\n",
       "51 146710.0\n",
       "52 145990.3\n",
       "53 145162.6\n",
       "54 144307.9\n",
       "55 143507.4\n",
       "56 142775.6\n",
       "57 142069.5\n",
       "58 141377.8\n",
       "59 140702.1\n",
       "60 140041.2\n",
       "61 139390.2"
      ]
     },
     "metadata": {},
     "output_type": "display_data"
    }
   ],
   "source": [
    "data.frame(test['V2'])"
   ]
  },
  {
   "cell_type": "code",
   "execution_count": 101,
   "metadata": {},
   "outputs": [
    {
     "data": {
      "text/html": [
       "<table>\n",
       "<thead><tr><th></th><th scope=col>Point.Forecast</th><th scope=col>Lo.80</th><th scope=col>Hi.80</th><th scope=col>Lo.95</th><th scope=col>Hi.95</th><th scope=col>min.model</th></tr></thead>\n",
       "<tbody>\n",
       "\t<tr><th scope=row>ME</th><td>    4383.520  </td><td>1.414034e+04  </td><td>   -5373.294  </td><td>1.930528e+04  </td><td>   -10538.240 </td><td>Hi.95         </td></tr>\n",
       "\t<tr><th scope=row>MAE</th><td>    4383.520  </td><td>1.414034e+04  </td><td>    5608.989  </td><td>1.930528e+04  </td><td>    10602.770 </td><td>Point.Forecast</td></tr>\n",
       "\t<tr><th scope=row>MPE</th><td>       3.040  </td><td>9.870000e+00  </td><td>      -3.789  </td><td>1.348500e+01  </td><td>       -7.404 </td><td>Hi.95         </td></tr>\n",
       "\t<tr><th scope=row>MAPE</th><td>       3.040  </td><td>9.870000e+00  </td><td>       3.948  </td><td>1.348500e+01  </td><td>        7.448 </td><td>Point.Forecast</td></tr>\n",
       "\t<tr><th scope=row>MSE</th><td>23169524.626  </td><td>2.944980e+08  </td><td>66783113.313  </td><td>5.656189e+08  </td><td>217359057.174 </td><td>Point.Forecast</td></tr>\n",
       "\t<tr><th scope=row>RMSE</th><td>    4813.473  </td><td>1.716094e+04  </td><td>    8172.093  </td><td>2.378274e+04  </td><td>    14743.102 </td><td>Point.Forecast</td></tr>\n",
       "\t<tr><th scope=row>U</th><td>       8.783  </td><td>3.131400e+01  </td><td>      14.912  </td><td>4.339800e+01  </td><td>       26.902 </td><td>Point.Forecast</td></tr>\n",
       "</tbody>\n",
       "</table>\n"
      ],
      "text/latex": [
       "\\begin{tabular}{r|llllll}\n",
       "  & Point.Forecast & Lo.80 & Hi.80 & Lo.95 & Hi.95 & min.model\\\\\n",
       "\\hline\n",
       "\tME &     4383.520   & 1.414034e+04   &    -5373.294   & 1.930528e+04   &    -10538.240  & Hi.95         \\\\\n",
       "\tMAE &     4383.520   & 1.414034e+04   &     5608.989   & 1.930528e+04   &     10602.770  & Point.Forecast\\\\\n",
       "\tMPE &        3.040   & 9.870000e+00   &       -3.789   & 1.348500e+01   &        -7.404  & Hi.95         \\\\\n",
       "\tMAPE &        3.040   & 9.870000e+00   &        3.948   & 1.348500e+01   &         7.448  & Point.Forecast\\\\\n",
       "\tMSE & 23169524.626   & 2.944980e+08   & 66783113.313   & 5.656189e+08   & 217359057.174  & Point.Forecast\\\\\n",
       "\tRMSE &     4813.473   & 1.716094e+04   &     8172.093   & 2.378274e+04   &     14743.102  & Point.Forecast\\\\\n",
       "\tU &        8.783   & 3.131400e+01   &       14.912   & 4.339800e+01   &        26.902  & Point.Forecast\\\\\n",
       "\\end{tabular}\n"
      ],
      "text/markdown": [
       "\n",
       "| <!--/--> | Point.Forecast | Lo.80 | Hi.80 | Lo.95 | Hi.95 | min.model | \n",
       "|---|---|---|---|---|---|---|\n",
       "| ME |     4383.520   | 1.414034e+04   |    -5373.294   | 1.930528e+04   |    -10538.240  | Hi.95          | \n",
       "| MAE |     4383.520   | 1.414034e+04   |     5608.989   | 1.930528e+04   |     10602.770  | Point.Forecast | \n",
       "| MPE |        3.040   | 9.870000e+00   |       -3.789   | 1.348500e+01   |        -7.404  | Hi.95          | \n",
       "| MAPE |        3.040   | 9.870000e+00   |        3.948   | 1.348500e+01   |         7.448  | Point.Forecast | \n",
       "| MSE | 23169524.626   | 2.944980e+08   | 66783113.313   | 5.656189e+08   | 217359057.174  | Point.Forecast | \n",
       "| RMSE |     4813.473   | 1.716094e+04   |     8172.093   | 2.378274e+04   |     14743.102  | Point.Forecast | \n",
       "| U |        8.783   | 3.131400e+01   |       14.912   | 4.339800e+01   |        26.902  | Point.Forecast | \n",
       "\n",
       "\n"
      ],
      "text/plain": [
       "     Point.Forecast Lo.80        Hi.80        Lo.95        Hi.95        \n",
       "ME       4383.520   1.414034e+04    -5373.294 1.930528e+04    -10538.240\n",
       "MAE      4383.520   1.414034e+04     5608.989 1.930528e+04     10602.770\n",
       "MPE         3.040   9.870000e+00       -3.789 1.348500e+01        -7.404\n",
       "MAPE        3.040   9.870000e+00        3.948 1.348500e+01         7.448\n",
       "MSE  23169524.626   2.944980e+08 66783113.313 5.656189e+08 217359057.174\n",
       "RMSE     4813.473   1.716094e+04     8172.093 2.378274e+04     14743.102\n",
       "U           8.783   3.131400e+01       14.912 4.339800e+01        26.902\n",
       "     min.model     \n",
       "ME   Hi.95         \n",
       "MAE  Point.Forecast\n",
       "MPE  Hi.95         \n",
       "MAPE Point.Forecast\n",
       "MSE  Point.Forecast\n",
       "RMSE Point.Forecast\n",
       "U    Point.Forecast"
      ]
     },
     "metadata": {},
     "output_type": "display_data"
    }
   ],
   "source": [
    "av.res(data.frame(test['V2']),data.frame(preds_arima))"
   ]
  },
  {
   "cell_type": "markdown",
   "metadata": {},
   "source": [
    "А теперь воспольщуемся экспоненциальным сглаживанием"
   ]
  },
  {
   "cell_type": "code",
   "execution_count": 103,
   "metadata": {},
   "outputs": [
    {
     "data": {
      "text/plain": [
       "ETS(A,Ad,N) \n",
       "\n",
       "Call:\n",
       " ets(y = train[, \"V2\"]) \n",
       "\n",
       "  Smoothing parameters:\n",
       "    alpha = 0.9999 \n",
       "    beta  = 0.9999 \n",
       "    phi   = 0.9688 \n",
       "\n",
       "  Initial states:\n",
       "    l = 100080.1456 \n",
       "    b = 1947.2427 \n",
       "\n",
       "  sigma:  116.9773\n",
       "\n",
       "     AIC     AICc      BIC \n",
       "540.5135 543.0590 550.6468 "
      ]
     },
     "metadata": {},
     "output_type": "display_data"
    },
    {
     "data": {
      "image/png": "[encoded data removed]",
      "text/plain": [
       "Plot with title “Forecasts from ETS(A,Ad,N)”"
      ]
     },
     "metadata": {},
     "output_type": "display_data"
    }
   ],
   "source": [
    "fitETS <- ets(train[,'V2'])\n",
    "fitETS\n",
    "\n",
    "plot(forecast(fitETS, h = 100))"
   ]
  },
  {
   "cell_type": "markdown",
   "metadata": {},
   "source": [
    "Плохое разбиение на train и test, т.к дальше стало убывать"
   ]
  },
  {
   "cell_type": "markdown",
   "metadata": {},
   "source": [
    "сдлеаем новое"
   ]
  },
  {
   "cell_type": "code",
   "execution_count": 105,
   "metadata": {
    "collapsed": true
   },
   "outputs": [],
   "source": [
    "train <- head(data, 50)\n",
    "test <- tail(data, 11)"
   ]
  },
  {
   "cell_type": "code",
   "execution_count": 108,
   "metadata": {},
   "outputs": [
    {
     "data": {
      "text/plain": [
       "ETS(A,Ad,N) \n",
       "\n",
       "Call:\n",
       " ets(y = train[, \"V2\"]) \n",
       "\n",
       "  Smoothing parameters:\n",
       "    alpha = 0.9999 \n",
       "    beta  = 0.9999 \n",
       "    phi   = 0.9671 \n",
       "\n",
       "  Initial states:\n",
       "    l = 100079.585 \n",
       "    b = 1945.9052 \n",
       "\n",
       "  sigma:  127.2676\n",
       "\n",
       "     AIC     AICc      BIC \n",
       "692.2303 694.1838 703.7025 "
      ]
     },
     "metadata": {},
     "output_type": "display_data"
    },
    {
     "data": {
      "image/png": "[encoded data removed]",
      "text/plain": [
       "Plot with title “Forecasts from ETS(A,Ad,N)”"
      ]
     },
     "metadata": {},
     "output_type": "display_data"
    }
   ],
   "source": [
    "fitETS <- ets(train[,'V2'])\n",
    "fitETS\n",
    "\n",
    "plot(forecast(fitETS, h = 11))"
   ]
  },
  {
   "cell_type": "markdown",
   "metadata": {},
   "source": [
    "Стало получше"
   ]
  },
  {
   "cell_type": "code",
   "execution_count": 110,
   "metadata": {
    "collapsed": true
   },
   "outputs": [],
   "source": [
    "frcstd_ets <- forecast(fitETS, h = 11)"
   ]
  },
  {
   "cell_type": "code",
   "execution_count": 111,
   "metadata": {},
   "outputs": [
    {
     "data": {
      "text/html": [
       "<table>\n",
       "<thead><tr><th></th><th scope=col>Point.Forecast</th><th scope=col>Lo.80</th><th scope=col>Hi.80</th><th scope=col>Lo.95</th><th scope=col>Hi.95</th><th scope=col>min.model</th></tr></thead>\n",
       "<tbody>\n",
       "\t<tr><th scope=row>ME</th><td>  -2036.550 </td><td> -214.911   </td><td>   -3858.188</td><td>   749.405  </td><td>   -4822.505</td><td>Hi.95       </td></tr>\n",
       "\t<tr><th scope=row>MAE</th><td>   2036.550 </td><td>  217.840   </td><td>    3858.188</td><td>   749.405  </td><td>    4822.505</td><td>Lo.80       </td></tr>\n",
       "\t<tr><th scope=row>MPE</th><td>     -1.438 </td><td>   -0.151   </td><td>      -2.725</td><td>     0.530  </td><td>      -3.407</td><td>Hi.95       </td></tr>\n",
       "\t<tr><th scope=row>MAPE</th><td>      1.438 </td><td>    0.153   </td><td>       2.725</td><td>     0.530  </td><td>       3.407</td><td>Lo.80       </td></tr>\n",
       "\t<tr><th scope=row>MSE</th><td>5480922.085 </td><td>61230.898   </td><td>19902657.778</td><td>836240.675  </td><td>31181084.482</td><td>Lo.80       </td></tr>\n",
       "\t<tr><th scope=row>RMSE</th><td>   2341.136 </td><td>  247.448   </td><td>    4461.239</td><td>   914.461  </td><td>    5584.002</td><td>Lo.80       </td></tr>\n",
       "\t<tr><th scope=row>U</th><td>      3.340 </td><td>    0.353   </td><td>       6.364</td><td>     1.304  </td><td>       7.966</td><td>Lo.80       </td></tr>\n",
       "</tbody>\n",
       "</table>\n"
      ],
      "text/latex": [
       "\\begin{tabular}{r|llllll}\n",
       "  & Point.Forecast & Lo.80 & Hi.80 & Lo.95 & Hi.95 & min.model\\\\\n",
       "\\hline\n",
       "\tME &   -2036.550  &  -214.911    &    -3858.188 &    749.405   &    -4822.505 & Hi.95       \\\\\n",
       "\tMAE &    2036.550  &   217.840    &     3858.188 &    749.405   &     4822.505 & Lo.80       \\\\\n",
       "\tMPE &      -1.438  &    -0.151    &       -2.725 &      0.530   &       -3.407 & Hi.95       \\\\\n",
       "\tMAPE &       1.438  &     0.153    &        2.725 &      0.530   &        3.407 & Lo.80       \\\\\n",
       "\tMSE & 5480922.085  & 61230.898    & 19902657.778 & 836240.675   & 31181084.482 & Lo.80       \\\\\n",
       "\tRMSE &    2341.136  &   247.448    &     4461.239 &    914.461   &     5584.002 & Lo.80       \\\\\n",
       "\tU &       3.340  &     0.353    &        6.364 &      1.304   &        7.966 & Lo.80       \\\\\n",
       "\\end{tabular}\n"
      ],
      "text/markdown": [
       "\n",
       "| <!--/--> | Point.Forecast | Lo.80 | Hi.80 | Lo.95 | Hi.95 | min.model | \n",
       "|---|---|---|---|---|---|---|\n",
       "| ME |   -2036.550  |  -214.911    |    -3858.188 |    749.405   |    -4822.505 | Hi.95        | \n",
       "| MAE |    2036.550  |   217.840    |     3858.188 |    749.405   |     4822.505 | Lo.80        | \n",
       "| MPE |      -1.438  |    -0.151    |       -2.725 |      0.530   |       -3.407 | Hi.95        | \n",
       "| MAPE |       1.438  |     0.153    |        2.725 |      0.530   |        3.407 | Lo.80        | \n",
       "| MSE | 5480922.085  | 61230.898    | 19902657.778 | 836240.675   | 31181084.482 | Lo.80        | \n",
       "| RMSE |    2341.136  |   247.448    |     4461.239 |    914.461   |     5584.002 | Lo.80        | \n",
       "| U |       3.340  |     0.353    |        6.364 |      1.304   |        7.966 | Lo.80        | \n",
       "\n",
       "\n"
      ],
      "text/plain": [
       "     Point.Forecast Lo.80     Hi.80        Lo.95      Hi.95        min.model\n",
       "ME     -2036.550     -214.911    -3858.188    749.405    -4822.505 Hi.95    \n",
       "MAE     2036.550      217.840     3858.188    749.405     4822.505 Lo.80    \n",
       "MPE       -1.438       -0.151       -2.725      0.530       -3.407 Hi.95    \n",
       "MAPE       1.438        0.153        2.725      0.530        3.407 Lo.80    \n",
       "MSE  5480922.085    61230.898 19902657.778 836240.675 31181084.482 Lo.80    \n",
       "RMSE    2341.136      247.448     4461.239    914.461     5584.002 Lo.80    \n",
       "U          3.340        0.353        6.364      1.304        7.966 Lo.80    "
      ]
     },
     "metadata": {},
     "output_type": "display_data"
    }
   ],
   "source": [
    "av.res(data.frame(test[,'V2']), data.frame(frcstd_ets))"
   ]
  },
  {
   "cell_type": "code",
   "execution_count": 114,
   "metadata": {
    "collapsed": true
   },
   "outputs": [],
   "source": [
    "model_arima <- forecast::auto.arima(train['V2'], seasonal = FALSE)\n",
    "preds_arima <- forecast(model_arima, 11)"
   ]
  },
  {
   "cell_type": "code",
   "execution_count": 115,
   "metadata": {},
   "outputs": [
    {
     "data": {
      "text/html": [
       "<table>\n",
       "<thead><tr><th></th><th scope=col>Point.Forecast</th><th scope=col>Lo.80</th><th scope=col>Hi.80</th><th scope=col>Lo.95</th><th scope=col>Hi.95</th><th scope=col>min.model</th></tr></thead>\n",
       "<tbody>\n",
       "\t<tr><th scope=row>ME</th><td>  -764.863    </td><td>   1723.167   </td><td>   -3252.893  </td><td>    3040.251  </td><td>   -4569.977  </td><td>Hi.95         </td></tr>\n",
       "\t<tr><th scope=row>MAE</th><td>   764.863    </td><td>   1723.167   </td><td>    3252.893  </td><td>    3040.251  </td><td>    4569.977  </td><td>Point.Forecast</td></tr>\n",
       "\t<tr><th scope=row>MPE</th><td>    -0.538    </td><td>      1.223   </td><td>      -2.300  </td><td>       2.156  </td><td>      -3.233  </td><td>Hi.95         </td></tr>\n",
       "\t<tr><th scope=row>MAPE</th><td>     0.538    </td><td>      1.223   </td><td>       2.300  </td><td>       2.156  </td><td>       3.233  </td><td>Point.Forecast</td></tr>\n",
       "\t<tr><th scope=row>MSE</th><td>680931.886    </td><td>5498675.234   </td><td>14944940.056  </td><td>15773313.472  </td><td>30220128.831  </td><td>Point.Forecast</td></tr>\n",
       "\t<tr><th scope=row>RMSE</th><td>   825.185    </td><td>   2344.925   </td><td>    3865.868  </td><td>    3971.563  </td><td>    5497.283  </td><td>Point.Forecast</td></tr>\n",
       "\t<tr><th scope=row>U</th><td>     1.177    </td><td>      3.345   </td><td>       5.515  </td><td>       5.666  </td><td>       7.843  </td><td>Point.Forecast</td></tr>\n",
       "</tbody>\n",
       "</table>\n"
      ],
      "text/latex": [
       "\\begin{tabular}{r|llllll}\n",
       "  & Point.Forecast & Lo.80 & Hi.80 & Lo.95 & Hi.95 & min.model\\\\\n",
       "\\hline\n",
       "\tME &   -764.863     &    1723.167    &    -3252.893   &     3040.251   &    -4569.977   & Hi.95         \\\\\n",
       "\tMAE &    764.863     &    1723.167    &     3252.893   &     3040.251   &     4569.977   & Point.Forecast\\\\\n",
       "\tMPE &     -0.538     &       1.223    &       -2.300   &        2.156   &       -3.233   & Hi.95         \\\\\n",
       "\tMAPE &      0.538     &       1.223    &        2.300   &        2.156   &        3.233   & Point.Forecast\\\\\n",
       "\tMSE & 680931.886     & 5498675.234    & 14944940.056   & 15773313.472   & 30220128.831   & Point.Forecast\\\\\n",
       "\tRMSE &    825.185     &    2344.925    &     3865.868   &     3971.563   &     5497.283   & Point.Forecast\\\\\n",
       "\tU &      1.177     &       3.345    &        5.515   &        5.666   &        7.843   & Point.Forecast\\\\\n",
       "\\end{tabular}\n"
      ],
      "text/markdown": [
       "\n",
       "| <!--/--> | Point.Forecast | Lo.80 | Hi.80 | Lo.95 | Hi.95 | min.model | \n",
       "|---|---|---|---|---|---|---|\n",
       "| ME |   -764.863     |    1723.167    |    -3252.893   |     3040.251   |    -4569.977   | Hi.95          | \n",
       "| MAE |    764.863     |    1723.167    |     3252.893   |     3040.251   |     4569.977   | Point.Forecast | \n",
       "| MPE |     -0.538     |       1.223    |       -2.300   |        2.156   |       -3.233   | Hi.95          | \n",
       "| MAPE |      0.538     |       1.223    |        2.300   |        2.156   |        3.233   | Point.Forecast | \n",
       "| MSE | 680931.886     | 5498675.234    | 14944940.056   | 15773313.472   | 30220128.831   | Point.Forecast | \n",
       "| RMSE |    825.185     |    2344.925    |     3865.868   |     3971.563   |     5497.283   | Point.Forecast | \n",
       "| U |      1.177     |       3.345    |        5.515   |        5.666   |        7.843   | Point.Forecast | \n",
       "\n",
       "\n"
      ],
      "text/plain": [
       "     Point.Forecast Lo.80       Hi.80        Lo.95        Hi.95       \n",
       "ME     -764.863        1723.167    -3252.893     3040.251    -4569.977\n",
       "MAE     764.863        1723.167     3252.893     3040.251     4569.977\n",
       "MPE      -0.538           1.223       -2.300        2.156       -3.233\n",
       "MAPE      0.538           1.223        2.300        2.156        3.233\n",
       "MSE  680931.886     5498675.234 14944940.056 15773313.472 30220128.831\n",
       "RMSE    825.185        2344.925     3865.868     3971.563     5497.283\n",
       "U         1.177           3.345        5.515        5.666        7.843\n",
       "     min.model     \n",
       "ME   Hi.95         \n",
       "MAE  Point.Forecast\n",
       "MPE  Hi.95         \n",
       "MAPE Point.Forecast\n",
       "MSE  Point.Forecast\n",
       "RMSE Point.Forecast\n",
       "U    Point.Forecast"
      ]
     },
     "metadata": {},
     "output_type": "display_data"
    }
   ],
   "source": [
    "av.res(data.frame(test['V2']),data.frame(preds_arima))"
   ]
  },
  {
   "cell_type": "markdown",
   "metadata": {},
   "source": [
    "У модели АРИМА выходит очень плохо, возможно, просто очень плохие параметры были подбраны, ведь выборка всего из 50 элементов"
   ]
  },
  {
   "cell_type": "code",
   "execution_count": null,
   "metadata": {
    "collapsed": true
   },
   "outputs": [],
   "source": []
  }
 ],
 "metadata": {
  "kernelspec": {
   "display_name": "R",
   "language": "R",
   "name": "ir"
  },
  "language_info": {
   "codemirror_mode": "r",
   "file_extension": ".r",
   "mimetype": "text/x-r-source",
   "name": "R",
   "pygments_lexer": "r",
   "version": "3.3.2"
  }
 },
 "nbformat": 4,
 "nbformat_minor": 2
}
