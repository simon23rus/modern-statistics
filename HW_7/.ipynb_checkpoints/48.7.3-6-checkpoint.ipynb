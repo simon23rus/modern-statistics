{
 "cells": [
  {
   "cell_type": "code",
   "execution_count": 1,
   "metadata": {
    "collapsed": true
   },
   "outputs": [],
   "source": [
    "import numpy as np\n",
    "import pandas as pd\n",
    "import matplotlib.pyplot as plt\n",
    "%matplotlib inline\n",
    "import scipy.stats as sps"
   ]
  },
  {
   "cell_type": "code",
   "execution_count": null,
   "metadata": {
    "collapsed": true
   },
   "outputs": [],
   "source": []
  },
  {
   "cell_type": "code",
   "execution_count": null,
   "metadata": {
    "collapsed": true
   },
   "outputs": [],
   "source": []
  },
  {
   "cell_type": "markdown",
   "metadata": {},
   "source": [
    "Выданы выборки независимые, нужно решить задачу однофакторного дисперсионног анализа, и проверить, можно ли использовать Критерий Фишера"
   ]
  },
  {
   "cell_type": "code",
   "execution_count": 34,
   "metadata": {
    "collapsed": false,
    "scrolled": true
   },
   "outputs": [
    {
     "data": {
      "text/html": [
       "<div>\n",
       "<table border=\"1\" class=\"dataframe\">\n",
       "  <thead>\n",
       "    <tr style=\"text-align: right;\">\n",
       "      <th></th>\n",
       "      <th>1</th>\n",
       "      <th>2</th>\n",
       "      <th>3</th>\n",
       "      <th>4</th>\n",
       "      <th>5</th>\n",
       "      <th>6</th>\n",
       "      <th>7</th>\n",
       "      <th>8</th>\n",
       "      <th>9</th>\n",
       "      <th>10</th>\n",
       "      <th>11</th>\n",
       "      <th>12</th>\n",
       "      <th>13</th>\n",
       "    </tr>\n",
       "  </thead>\n",
       "  <tbody>\n",
       "    <tr>\n",
       "      <th>0</th>\n",
       "      <td>-0.085</td>\n",
       "      <td>0.429</td>\n",
       "      <td>-1.196</td>\n",
       "      <td>-0.884</td>\n",
       "      <td>0.202</td>\n",
       "      <td>-0.130</td>\n",
       "      <td>-0.184</td>\n",
       "      <td>-0.891</td>\n",
       "      <td>0.529</td>\n",
       "      <td>0.064</td>\n",
       "      <td>-0.120</td>\n",
       "      <td>1.969</td>\n",
       "      <td>-1.102</td>\n",
       "    </tr>\n",
       "    <tr>\n",
       "      <th>1</th>\n",
       "      <td>-1.570</td>\n",
       "      <td>-1.132</td>\n",
       "      <td>1.796</td>\n",
       "      <td>-0.099</td>\n",
       "      <td>0.389</td>\n",
       "      <td>0.366</td>\n",
       "      <td>-0.808</td>\n",
       "      <td>-1.367</td>\n",
       "      <td>-0.151</td>\n",
       "      <td>1.574</td>\n",
       "      <td>2.821</td>\n",
       "      <td>0.765</td>\n",
       "      <td>0.930</td>\n",
       "    </tr>\n",
       "    <tr>\n",
       "      <th>2</th>\n",
       "      <td>1.770</td>\n",
       "      <td>-0.421</td>\n",
       "      <td>-1.272</td>\n",
       "      <td>0.861</td>\n",
       "      <td>-0.367</td>\n",
       "      <td>-1.311</td>\n",
       "      <td>-1.843</td>\n",
       "      <td>-0.470</td>\n",
       "      <td>3.275</td>\n",
       "      <td>0.254</td>\n",
       "      <td>1.072</td>\n",
       "      <td>0.748</td>\n",
       "      <td>-0.957</td>\n",
       "    </tr>\n",
       "    <tr>\n",
       "      <th>3</th>\n",
       "      <td>-0.023</td>\n",
       "      <td>1.631</td>\n",
       "      <td>-2.051</td>\n",
       "      <td>0.932</td>\n",
       "      <td>0.676</td>\n",
       "      <td>0.895</td>\n",
       "      <td>0.552</td>\n",
       "      <td>-1.318</td>\n",
       "      <td>NaN</td>\n",
       "      <td>NaN</td>\n",
       "      <td>NaN</td>\n",
       "      <td>NaN</td>\n",
       "      <td>NaN</td>\n",
       "    </tr>\n",
       "    <tr>\n",
       "      <th>4</th>\n",
       "      <td>-0.741</td>\n",
       "      <td>-0.183</td>\n",
       "      <td>-0.074</td>\n",
       "      <td>-3.030</td>\n",
       "      <td>-0.042</td>\n",
       "      <td>-0.313</td>\n",
       "      <td>3.694</td>\n",
       "      <td>0.821</td>\n",
       "      <td>-0.077</td>\n",
       "      <td>1.999</td>\n",
       "      <td>0.737</td>\n",
       "      <td>NaN</td>\n",
       "      <td>NaN</td>\n",
       "    </tr>\n",
       "    <tr>\n",
       "      <th>5</th>\n",
       "      <td>0.675</td>\n",
       "      <td>-0.007</td>\n",
       "      <td>-0.441</td>\n",
       "      <td>0.194</td>\n",
       "      <td>-3.237</td>\n",
       "      <td>0.946</td>\n",
       "      <td>-0.262</td>\n",
       "      <td>-0.712</td>\n",
       "      <td>-1.129</td>\n",
       "      <td>NaN</td>\n",
       "      <td>NaN</td>\n",
       "      <td>NaN</td>\n",
       "      <td>NaN</td>\n",
       "    </tr>\n",
       "    <tr>\n",
       "      <th>6</th>\n",
       "      <td>0.288</td>\n",
       "      <td>-2.227</td>\n",
       "      <td>-0.050</td>\n",
       "      <td>0.672</td>\n",
       "      <td>-0.160</td>\n",
       "      <td>0.687</td>\n",
       "      <td>-0.194</td>\n",
       "      <td>0.005</td>\n",
       "      <td>0.434</td>\n",
       "      <td>-0.677</td>\n",
       "      <td>NaN</td>\n",
       "      <td>NaN</td>\n",
       "      <td>NaN</td>\n",
       "    </tr>\n",
       "    <tr>\n",
       "      <th>7</th>\n",
       "      <td>1.510</td>\n",
       "      <td>-0.417</td>\n",
       "      <td>4.559</td>\n",
       "      <td>0.844</td>\n",
       "      <td>0.345</td>\n",
       "      <td>1.372</td>\n",
       "      <td>-0.341</td>\n",
       "      <td>1.215</td>\n",
       "      <td>10.420</td>\n",
       "      <td>NaN</td>\n",
       "      <td>NaN</td>\n",
       "      <td>NaN</td>\n",
       "      <td>NaN</td>\n",
       "    </tr>\n",
       "    <tr>\n",
       "      <th>8</th>\n",
       "      <td>-0.531</td>\n",
       "      <td>0.210</td>\n",
       "      <td>-1.027</td>\n",
       "      <td>0.761</td>\n",
       "      <td>0.658</td>\n",
       "      <td>-0.445</td>\n",
       "      <td>-0.839</td>\n",
       "      <td>0.987</td>\n",
       "      <td>1.112</td>\n",
       "      <td>NaN</td>\n",
       "      <td>NaN</td>\n",
       "      <td>NaN</td>\n",
       "      <td>NaN</td>\n",
       "    </tr>\n",
       "    <tr>\n",
       "      <th>9</th>\n",
       "      <td>0.431</td>\n",
       "      <td>-0.800</td>\n",
       "      <td>-1.453</td>\n",
       "      <td>0.313</td>\n",
       "      <td>-1.032</td>\n",
       "      <td>-0.752</td>\n",
       "      <td>-1.129</td>\n",
       "      <td>-0.441</td>\n",
       "      <td>-1.019</td>\n",
       "      <td>-0.424</td>\n",
       "      <td>-0.432</td>\n",
       "      <td>0.274</td>\n",
       "      <td>-2.224</td>\n",
       "    </tr>\n",
       "  </tbody>\n",
       "</table>\n",
       "</div>"
      ],
      "text/plain": [
       "      1      2      3      4      5      6      7      8       9      10  \\\n",
       "0 -0.085  0.429 -1.196 -0.884  0.202 -0.130 -0.184 -0.891   0.529  0.064   \n",
       "1 -1.570 -1.132  1.796 -0.099  0.389  0.366 -0.808 -1.367  -0.151  1.574   \n",
       "2  1.770 -0.421 -1.272  0.861 -0.367 -1.311 -1.843 -0.470   3.275  0.254   \n",
       "3 -0.023  1.631 -2.051  0.932  0.676  0.895  0.552 -1.318     NaN    NaN   \n",
       "4 -0.741 -0.183 -0.074 -3.030 -0.042 -0.313  3.694  0.821  -0.077  1.999   \n",
       "5  0.675 -0.007 -0.441  0.194 -3.237  0.946 -0.262 -0.712  -1.129    NaN   \n",
       "6  0.288 -2.227 -0.050  0.672 -0.160  0.687 -0.194  0.005   0.434 -0.677   \n",
       "7  1.510 -0.417  4.559  0.844  0.345  1.372 -0.341  1.215  10.420    NaN   \n",
       "8 -0.531  0.210 -1.027  0.761  0.658 -0.445 -0.839  0.987   1.112    NaN   \n",
       "9  0.431 -0.800 -1.453  0.313 -1.032 -0.752 -1.129 -0.441  -1.019 -0.424   \n",
       "\n",
       "      11     12     13  \n",
       "0 -0.120  1.969 -1.102  \n",
       "1  2.821  0.765  0.930  \n",
       "2  1.072  0.748 -0.957  \n",
       "3    NaN    NaN    NaN  \n",
       "4  0.737    NaN    NaN  \n",
       "5    NaN    NaN    NaN  \n",
       "6    NaN    NaN    NaN  \n",
       "7    NaN    NaN    NaN  \n",
       "8    NaN    NaN    NaN  \n",
       "9 -0.432  0.274 -2.224  "
      ]
     },
     "execution_count": 34,
     "metadata": {},
     "output_type": "execute_result"
    }
   ],
   "source": [
    "data3 = pd.read_csv('./hw7t3v0.txt', sep=' ', header = None)\n",
    "data3.drop(0, axis=1, inplace=True)\n",
    "data3"
   ]
  },
  {
   "cell_type": "markdown",
   "metadata": {},
   "source": [
    "## $X_{ij} = \\mu + \\beta_j + \\varepsilon_{ij}$"
   ]
  },
  {
   "cell_type": "markdown",
   "metadata": {},
   "source": [
    "Проверим, нормальны ли выборки?\n"
   ]
  },
  {
   "cell_type": "code",
   "execution_count": 188,
   "metadata": {
    "collapsed": false
   },
   "outputs": [],
   "source": [
    "p_vals = []\n",
    "for elem in data3.values:\n",
    "    p_vals.append(sps.shapiro(elem[~np.isnan(elem.astype(float))])[1])"
   ]
  },
  {
   "cell_type": "code",
   "execution_count": 189,
   "metadata": {
    "collapsed": false
   },
   "outputs": [
    {
     "data": {
      "text/plain": [
       "[0.13721829652786255,\n",
       " 0.8661592602729797,\n",
       " 0.5787767767906189,\n",
       " 0.24325679242610931,\n",
       " 0.2807251214981079,\n",
       " 0.15171921253204346,\n",
       " 0.02232038415968418,\n",
       " 0.0027919437270611525,\n",
       " 0.27129438519477844,\n",
       " 0.6299960613250732]"
      ]
     },
     "execution_count": 189,
     "metadata": {},
     "output_type": "execute_result"
    }
   ],
   "source": [
    "p_vals"
   ]
  },
  {
   "cell_type": "markdown",
   "metadata": {},
   "source": [
    "Для двух гипотеза нормальности отвергается, сделаем поправку на множественную проверку гипотез, т.к. нам известно, что выборки независимы, то будем использовать метод Холма-Шидака, который является неулучшаемым в этом случае(Контролируем FWER на уровне 0.05)"
   ]
  },
  {
   "cell_type": "code",
   "execution_count": 190,
   "metadata": {
    "collapsed": true
   },
   "outputs": [],
   "source": [
    "from statsmodels.stats.multitest import multipletests"
   ]
  },
  {
   "cell_type": "code",
   "execution_count": 191,
   "metadata": {
    "collapsed": false
   },
   "outputs": [
    {
     "data": {
      "text/plain": [
       "(array([False, False, False, False, False, False, False,  True, False, False], dtype=bool),\n",
       " array([ 0.69295119,  0.92526278,  0.92526278,  0.8122019 ,  0.8122019 ,\n",
       "         0.69295119,  0.18385177,  0.02757126,  0.8122019 ,  0.92526278]),\n",
       " 0.0051161968918237433,\n",
       " 0.005)"
      ]
     },
     "execution_count": 191,
     "metadata": {},
     "output_type": "execute_result"
    }
   ],
   "source": [
    "multipletests(p_vals)"
   ]
  },
  {
   "cell_type": "markdown",
   "metadata": {},
   "source": [
    "Итак, все же отверглась одна гипотеза, а так как размеры выборок у нас не совпадают, то мы не можем применять критерий Фишера для однофакторного."
   ]
  },
  {
   "cell_type": "code",
   "execution_count": 192,
   "metadata": {
    "collapsed": false
   },
   "outputs": [
    {
     "data": {
      "text/plain": [
       "1     1.007958\n",
       "2     1.016696\n",
       "3     1.957530\n",
       "4     1.221517\n",
       "5     1.166518\n",
       "6     0.856897\n",
       "7     1.492630\n",
       "8     0.941344\n",
       "9     3.595401\n",
       "10    1.084698\n",
       "11    1.277243\n",
       "12    0.723391\n",
       "13    1.307756\n",
       "dtype: float64"
      ]
     },
     "execution_count": 192,
     "metadata": {},
     "output_type": "execute_result"
    }
   ],
   "source": [
    "data3.std()"
   ]
  },
  {
   "cell_type": "markdown",
   "metadata": {},
   "source": [
    "Проверим гипотезу о равенстве дисперсий для начала, воспользуемся тестом Левина, т.к. не все выборки являются нормальными"
   ]
  },
  {
   "cell_type": "code",
   "execution_count": 193,
   "metadata": {
    "collapsed": false
   },
   "outputs": [],
   "source": [
    "elem = data3.values[4]"
   ]
  },
  {
   "cell_type": "code",
   "execution_count": 194,
   "metadata": {
    "collapsed": true
   },
   "outputs": [],
   "source": [
    "samples3 = data3.values\n",
    "samples3 = np.array(list(map(lambda elem : elem[~np.isnan(elem.astype(float))], samples3)))"
   ]
  },
  {
   "cell_type": "code",
   "execution_count": 195,
   "metadata": {
    "collapsed": false
   },
   "outputs": [
    {
     "data": {
      "text/plain": [
       "LeveneResult(statistic=1.2836374133788848, pvalue=0.25545391627031572)"
      ]
     },
     "execution_count": 195,
     "metadata": {},
     "output_type": "execute_result"
    }
   ],
   "source": [
    "sps.levene(*samples3)"
   ]
  },
  {
   "cell_type": "markdown",
   "metadata": {},
   "source": [
    "Гипотеза не отвергается, а это значит, что мы можем проверять гипотезу о равенстве средних"
   ]
  },
  {
   "cell_type": "code",
   "execution_count": 197,
   "metadata": {
    "collapsed": false
   },
   "outputs": [
    {
     "data": {
      "text/plain": [
       "F_onewayResult(statistic=2.526459536467756, pvalue=0.011961366185681246)"
      ]
     },
     "execution_count": 197,
     "metadata": {},
     "output_type": "execute_result"
    }
   ],
   "source": [
    "sps.f_oneway(*samples3) # nelzya(t.k odin iz samplov nenormalen)  тут отвергается"
   ]
  },
  {
   "cell_type": "markdown",
   "metadata": {},
   "source": [
    "Воспользуемся критерием Краскала-Уоллиса"
   ]
  },
  {
   "cell_type": "code",
   "execution_count": 198,
   "metadata": {
    "collapsed": false
   },
   "outputs": [
    {
     "data": {
      "text/plain": [
       "KruskalResult(statistic=15.307097628319955, pvalue=0.082838613078042717)"
      ]
     },
     "execution_count": 198,
     "metadata": {},
     "output_type": "execute_result"
    }
   ],
   "source": [
    "sps.kruskal(*samples3) # A tut ne otvergaetsya"
   ]
  },
  {
   "cell_type": "markdown",
   "metadata": {},
   "source": [
    "Получаем, что на уровне значимости 0.05 мы не можем отвергнуть гипотезу о равенстве средних"
   ]
  },
  {
   "cell_type": "code",
   "execution_count": 199,
   "metadata": {
    "collapsed": true
   },
   "outputs": [],
   "source": [
    "import statsmodels.stats.multicomp"
   ]
  },
  {
   "cell_type": "code",
   "execution_count": 200,
   "metadata": {
    "collapsed": true
   },
   "outputs": [],
   "source": [
    "from statsmodels.stats.multicomp import pairwise_tukeyhsd, tukeyhsd"
   ]
  },
  {
   "cell_type": "code",
   "execution_count": null,
   "metadata": {
    "collapsed": true
   },
   "outputs": [],
   "source": []
  },
  {
   "cell_type": "code",
   "execution_count": null,
   "metadata": {
    "collapsed": true
   },
   "outputs": [],
   "source": []
  },
  {
   "cell_type": "code",
   "execution_count": null,
   "metadata": {
    "collapsed": true
   },
   "outputs": [],
   "source": []
  },
  {
   "cell_type": "markdown",
   "metadata": {},
   "source": [
    "-----------"
   ]
  },
  {
   "cell_type": "markdown",
   "metadata": {},
   "source": [
    "В рамках двухфакторного дисперсионного анализа проверить гипотезы об отсутствии влияния каждого из фак- торов. Можно ли пользоваться критерием Фишера двухфакторного дисперсионного анализа?"
   ]
  },
  {
   "cell_type": "code",
   "execution_count": 201,
   "metadata": {
    "collapsed": true
   },
   "outputs": [],
   "source": [
    "from Page import *"
   ]
  },
  {
   "cell_type": "code",
   "execution_count": null,
   "metadata": {
    "collapsed": true
   },
   "outputs": [],
   "source": []
  },
  {
   "cell_type": "code",
   "execution_count": 202,
   "metadata": {
    "collapsed": false
   },
   "outputs": [
    {
     "data": {
      "text/html": [
       "<div>\n",
       "<table border=\"1\" class=\"dataframe\">\n",
       "  <thead>\n",
       "    <tr style=\"text-align: right;\">\n",
       "      <th></th>\n",
       "      <th>0</th>\n",
       "      <th>1</th>\n",
       "      <th>2</th>\n",
       "      <th>3</th>\n",
       "      <th>4</th>\n",
       "      <th>5</th>\n",
       "      <th>6</th>\n",
       "      <th>7</th>\n",
       "      <th>8</th>\n",
       "      <th>9</th>\n",
       "    </tr>\n",
       "  </thead>\n",
       "  <tbody>\n",
       "    <tr>\n",
       "      <th>0</th>\n",
       "      <td>966.779</td>\n",
       "      <td>946.308</td>\n",
       "      <td>950.472</td>\n",
       "      <td>960.653</td>\n",
       "      <td>955.635</td>\n",
       "      <td>967.399</td>\n",
       "      <td>952.516</td>\n",
       "      <td>947.648</td>\n",
       "      <td>953.183</td>\n",
       "      <td>957.431</td>\n",
       "    </tr>\n",
       "    <tr>\n",
       "      <th>1</th>\n",
       "      <td>969.802</td>\n",
       "      <td>943.855</td>\n",
       "      <td>950.850</td>\n",
       "      <td>960.727</td>\n",
       "      <td>957.679</td>\n",
       "      <td>967.203</td>\n",
       "      <td>953.587</td>\n",
       "      <td>948.680</td>\n",
       "      <td>951.859</td>\n",
       "      <td>959.116</td>\n",
       "    </tr>\n",
       "    <tr>\n",
       "      <th>2</th>\n",
       "      <td>965.144</td>\n",
       "      <td>943.902</td>\n",
       "      <td>951.904</td>\n",
       "      <td>961.541</td>\n",
       "      <td>958.057</td>\n",
       "      <td>966.074</td>\n",
       "      <td>952.162</td>\n",
       "      <td>948.333</td>\n",
       "      <td>952.853</td>\n",
       "      <td>957.064</td>\n",
       "    </tr>\n",
       "    <tr>\n",
       "      <th>3</th>\n",
       "      <td>965.781</td>\n",
       "      <td>946.646</td>\n",
       "      <td>953.755</td>\n",
       "      <td>961.203</td>\n",
       "      <td>957.303</td>\n",
       "      <td>966.833</td>\n",
       "      <td>952.829</td>\n",
       "      <td>949.485</td>\n",
       "      <td>951.089</td>\n",
       "      <td>957.979</td>\n",
       "    </tr>\n",
       "    <tr>\n",
       "      <th>4</th>\n",
       "      <td>966.701</td>\n",
       "      <td>944.852</td>\n",
       "      <td>949.146</td>\n",
       "      <td>959.864</td>\n",
       "      <td>953.777</td>\n",
       "      <td>965.270</td>\n",
       "      <td>952.181</td>\n",
       "      <td>945.852</td>\n",
       "      <td>950.558</td>\n",
       "      <td>957.599</td>\n",
       "    </tr>\n",
       "    <tr>\n",
       "      <th>5</th>\n",
       "      <td>966.370</td>\n",
       "      <td>946.595</td>\n",
       "      <td>950.148</td>\n",
       "      <td>960.177</td>\n",
       "      <td>957.069</td>\n",
       "      <td>966.192</td>\n",
       "      <td>951.949</td>\n",
       "      <td>949.493</td>\n",
       "      <td>952.857</td>\n",
       "      <td>956.198</td>\n",
       "    </tr>\n",
       "    <tr>\n",
       "      <th>6</th>\n",
       "      <td>966.388</td>\n",
       "      <td>952.936</td>\n",
       "      <td>950.376</td>\n",
       "      <td>961.500</td>\n",
       "      <td>959.916</td>\n",
       "      <td>966.393</td>\n",
       "      <td>948.294</td>\n",
       "      <td>946.861</td>\n",
       "      <td>951.718</td>\n",
       "      <td>956.861</td>\n",
       "    </tr>\n",
       "    <tr>\n",
       "      <th>7</th>\n",
       "      <td>964.483</td>\n",
       "      <td>945.652</td>\n",
       "      <td>947.935</td>\n",
       "      <td>960.124</td>\n",
       "      <td>956.570</td>\n",
       "      <td>965.737</td>\n",
       "      <td>952.273</td>\n",
       "      <td>949.812</td>\n",
       "      <td>951.576</td>\n",
       "      <td>956.717</td>\n",
       "    </tr>\n",
       "    <tr>\n",
       "      <th>8</th>\n",
       "      <td>965.503</td>\n",
       "      <td>945.110</td>\n",
       "      <td>948.574</td>\n",
       "      <td>960.735</td>\n",
       "      <td>954.733</td>\n",
       "      <td>966.498</td>\n",
       "      <td>952.010</td>\n",
       "      <td>948.785</td>\n",
       "      <td>952.438</td>\n",
       "      <td>954.261</td>\n",
       "    </tr>\n",
       "    <tr>\n",
       "      <th>9</th>\n",
       "      <td>966.743</td>\n",
       "      <td>946.789</td>\n",
       "      <td>948.795</td>\n",
       "      <td>959.899</td>\n",
       "      <td>959.449</td>\n",
       "      <td>967.191</td>\n",
       "      <td>952.859</td>\n",
       "      <td>948.996</td>\n",
       "      <td>952.937</td>\n",
       "      <td>957.338</td>\n",
       "    </tr>\n",
       "  </tbody>\n",
       "</table>\n",
       "</div>"
      ],
      "text/plain": [
       "         0        1        2        3        4        5        6        7  \\\n",
       "0  966.779  946.308  950.472  960.653  955.635  967.399  952.516  947.648   \n",
       "1  969.802  943.855  950.850  960.727  957.679  967.203  953.587  948.680   \n",
       "2  965.144  943.902  951.904  961.541  958.057  966.074  952.162  948.333   \n",
       "3  965.781  946.646  953.755  961.203  957.303  966.833  952.829  949.485   \n",
       "4  966.701  944.852  949.146  959.864  953.777  965.270  952.181  945.852   \n",
       "5  966.370  946.595  950.148  960.177  957.069  966.192  951.949  949.493   \n",
       "6  966.388  952.936  950.376  961.500  959.916  966.393  948.294  946.861   \n",
       "7  964.483  945.652  947.935  960.124  956.570  965.737  952.273  949.812   \n",
       "8  965.503  945.110  948.574  960.735  954.733  966.498  952.010  948.785   \n",
       "9  966.743  946.789  948.795  959.899  959.449  967.191  952.859  948.996   \n",
       "\n",
       "         8        9  \n",
       "0  953.183  957.431  \n",
       "1  951.859  959.116  \n",
       "2  952.853  957.064  \n",
       "3  951.089  957.979  \n",
       "4  950.558  957.599  \n",
       "5  952.857  956.198  \n",
       "6  951.718  956.861  \n",
       "7  951.576  956.717  \n",
       "8  952.438  954.261  \n",
       "9  952.937  957.338  "
      ]
     },
     "execution_count": 202,
     "metadata": {},
     "output_type": "execute_result"
    }
   ],
   "source": [
    "data4 = pd.read_csv('./hw7t4v0.txt', sep=' ', header = None)\n",
    "data4"
   ]
  },
  {
   "cell_type": "code",
   "execution_count": 204,
   "metadata": {
    "collapsed": false
   },
   "outputs": [
    {
     "data": {
      "text/plain": [
       "0    1.428183\n",
       "1    2.584805\n",
       "2    1.729825\n",
       "3    0.625119\n",
       "4    1.936409\n",
       "5    0.688737\n",
       "6    1.415669\n",
       "7    1.263943\n",
       "8    0.882280\n",
       "9    1.261028\n",
       "dtype: float64"
      ]
     },
     "execution_count": 204,
     "metadata": {},
     "output_type": "execute_result"
    }
   ],
   "source": [
    "data4.std()"
   ]
  },
  {
   "cell_type": "code",
   "execution_count": 205,
   "metadata": {
    "collapsed": false
   },
   "outputs": [
    {
     "data": {
      "text/plain": [
       "[0.5056177973747253,\n",
       " 0.905879557132721,\n",
       " 0.8254901170730591,\n",
       " 0.7283976674079895,\n",
       " 0.5680391788482666,\n",
       " 0.425727903842926,\n",
       " 0.3857717216014862,\n",
       " 0.6702721118927002,\n",
       " 0.3834478557109833,\n",
       " 0.3861003518104553]"
      ]
     },
     "execution_count": 205,
     "metadata": {},
     "output_type": "execute_result"
    }
   ],
   "source": [
    "p_vals = []\n",
    "for elem in data4.values:\n",
    "    p_vals.append(sps.shapiro(elem[~np.isnan(elem.astype(float))])[1])\n",
    "    \n",
    "p_vals"
   ]
  },
  {
   "cell_type": "code",
   "execution_count": 206,
   "metadata": {
    "collapsed": false
   },
   "outputs": [
    {
     "data": {
      "text/plain": [
       "(array([False, False, False, False, False, False, False, False, False, False], dtype=bool),\n",
       " array([ 0.99206224,  0.99206224,  0.99206224,  0.99206224,  0.99206224,\n",
       "         0.99206224,  0.99206224,  0.99206224,  0.99206224,  0.99206224]),\n",
       " 0.0051161968918237433,\n",
       " 0.005)"
      ]
     },
     "execution_count": 206,
     "metadata": {},
     "output_type": "execute_result"
    }
   ],
   "source": [
    "multipletests(p_vals)"
   ]
  },
  {
   "cell_type": "markdown",
   "metadata": {},
   "source": [
    "Проверим гипотезу о равенстве дисперсий методом Бартлетта, т.к. все выборки у нас нормальны"
   ]
  },
  {
   "cell_type": "code",
   "execution_count": 207,
   "metadata": {
    "collapsed": false
   },
   "outputs": [
    {
     "data": {
      "text/plain": [
       "BartlettResult(statistic=0.50243998808634938, pvalue=0.99996892301991724)"
      ]
     },
     "execution_count": 207,
     "metadata": {},
     "output_type": "execute_result"
    }
   ],
   "source": [
    "sps.bartlett(*data4.values)"
   ]
  },
  {
   "cell_type": "markdown",
   "metadata": {},
   "source": [
    "Гипотеза о равенстве не отвергается. Ну тогда приступим к проверке равенства средних. Возспользуемся критерием Пэйджа и Фридмана"
   ]
  },
  {
   "cell_type": "code",
   "execution_count": 209,
   "metadata": {
    "collapsed": false
   },
   "outputs": [
    {
     "data": {
      "text/plain": [
       "FriedmanchisquareResult(statistic=20.880000000000052, pvalue=0.013194026981996811)"
      ]
     },
     "execution_count": 209,
     "metadata": {},
     "output_type": "execute_result"
    }
   ],
   "source": [
    "sps.friedmanchisquare(*data4.values) # Отвергается"
   ]
  },
  {
   "cell_type": "code",
   "execution_count": 210,
   "metadata": {
    "collapsed": false
   },
   "outputs": [],
   "source": [
    "asdqkwe = data4.values"
   ]
  },
  {
   "cell_type": "code",
   "execution_count": 214,
   "metadata": {
    "collapsed": true
   },
   "outputs": [],
   "source": [
    "asdqkwe = list(asdqkwe)\n",
    "for i in range(len(data4.values)):\n",
    "    asdqkwe[i] = list(asdqkwe[i])"
   ]
  },
  {
   "cell_type": "code",
   "execution_count": 217,
   "metadata": {
    "collapsed": false
   },
   "outputs": [
    {
     "data": {
      "text/plain": [
       "(3106.0, 10, 10, 0.17581442303815514)"
      ]
     },
     "execution_count": 217,
     "metadata": {},
     "output_type": "execute_result"
    }
   ],
   "source": [
    "test(asdqkwe) # А Пейджем не отвергается"
   ]
  },
  {
   "cell_type": "markdown",
   "metadata": {},
   "source": [
    "Не отвергается"
   ]
  },
  {
   "cell_type": "code",
   "execution_count": 218,
   "metadata": {
    "collapsed": false
   },
   "outputs": [
    {
     "data": {
      "text/plain": [
       "(array([ True, False], dtype=bool),\n",
       " array([ 0.02621397,  0.17581442]),\n",
       " 0.025320565519103666,\n",
       " 0.025)"
      ]
     },
     "execution_count": 218,
     "metadata": {},
     "output_type": "execute_result"
    }
   ],
   "source": [
    "multipletests([sps.friedmanchisquare(*data4.values)[-1],test(asdqkwe)[-1]])"
   ]
  },
  {
   "cell_type": "markdown",
   "metadata": {},
   "source": [
    "Все же при множественной поправке, тоже отвеграется гипотеза Фридманом"
   ]
  },
  {
   "cell_type": "markdown",
   "metadata": {},
   "source": [
    "--------------"
   ]
  },
  {
   "cell_type": "markdown",
   "metadata": {},
   "source": [
    "# TASK 5"
   ]
  },
  {
   "cell_type": "markdown",
   "metadata": {},
   "source": [
    "$X_{ij} = μ + α_i + β_j + ε_{ij}, где  ε_{ij} – н.о.р. с ф.р. F$"
   ]
  },
  {
   "cell_type": "code",
   "execution_count": 179,
   "metadata": {
    "collapsed": true
   },
   "outputs": [],
   "source": [
    "n_ = [10,50,100]\n",
    "k_ = [10,20,30]\n",
    "betas = [.5, .8, 1.3]\n",
    "mu_ = 13"
   ]
  },
  {
   "cell_type": "code",
   "execution_count": 180,
   "metadata": {
    "collapsed": true
   },
   "outputs": [],
   "source": [
    "from collections import defaultdict"
   ]
  },
  {
   "cell_type": "code",
   "execution_count": 181,
   "metadata": {
    "collapsed": false
   },
   "outputs": [
    {
     "name": "stderr",
     "output_type": "stream",
     "text": [
      "100%|██████████| 3/3 [00:17<00:00,  5.07s/it]\n",
      "100%|██████████| 3/3 [01:08<00:00, 25.42s/it]\n",
      "100%|██████████| 3/3 [02:06<00:00, 47.89s/it]\n"
     ]
    }
   ],
   "source": [
    "rejected_page = []\n",
    "rejected_friedman = []\n",
    "results = defaultdict(dict)\n",
    "for n in (n_):\n",
    "    for k in tqdm(k_):\n",
    "        for beta in (betas):\n",
    "            rej_page = 0.\n",
    "            rej_frie = 0.\n",
    "            for iter_num in range(100):\n",
    "                epsilas = sps.gamma(3,4).rvs(size = (n,k))\n",
    "                alphas = sps.norm.rvs(size=n)\n",
    "                betas = np.array(list(range(k))) * beta\n",
    "                samples = mu_ + epsilas + betas + np.repeat(alphas, k).reshape((n,k))\n",
    "                rej_frie += int(sps.friedmanchisquare(*samples)[1] < 0.05)\n",
    "                samples = list(samples)\n",
    "                for i in range(len(samples)):\n",
    "                    samples[i] = list(samples[i])\n",
    "                res = test(samples)[-1]\n",
    "                if isinstance(res, str):\n",
    "                    rej_page += 0\n",
    "                else:\n",
    "                    rej_page += int(test(samples)[-1] < 0.05)\n",
    "            results[(n,k)][beta] = (rej_page, rej_frie)"
   ]
  },
  {
   "cell_type": "code",
   "execution_count": 224,
   "metadata": {
    "collapsed": false
   },
   "outputs": [
    {
     "data": {
      "text/plain": [
       "{0.0: (3.0, 99.0),\n",
       " 1.3: (0.0, 100.0),\n",
       " 2.6000000000000001: (0.0, 99.0),\n",
       " 3.9000000000000004: (0.0, 97.0),\n",
       " 5.2000000000000002: (0.0, 99.0),\n",
       " 6.5: (0.0, 98.0),\n",
       " 7.8000000000000007: (0.0, 99.0),\n",
       " 9.0999999999999996: (0.0, 99.0),\n",
       " 10.4: (0.0, 99.0),\n",
       " 11.700000000000001: (0.0, 100.0)}"
      ]
     },
     "execution_count": 224,
     "metadata": {},
     "output_type": "execute_result"
    }
   ],
   "source": [
    "results[(10,20)]"
   ]
  },
  {
   "cell_type": "markdown",
   "metadata": {},
   "source": [
    "Короче, у меня что-то плохо работает критерий Page, ну а критерий Фридмана работает хорошо, отвергает гипотезу почти всегда, чего мы и ждем, ведь мы подкидываем ему выборку со справедливостью алтернативы "
   ]
  },
  {
   "cell_type": "markdown",
   "metadata": {},
   "source": [
    "при росте выборки, он все лучше улавлиивает отклонения от нулевой гипотезы"
   ]
  },
  {
   "cell_type": "code",
   "execution_count": null,
   "metadata": {
    "collapsed": true
   },
   "outputs": [],
   "source": []
  },
  {
   "cell_type": "code",
   "execution_count": null,
   "metadata": {
    "collapsed": true
   },
   "outputs": [],
   "source": []
  },
  {
   "cell_type": "code",
   "execution_count": null,
   "metadata": {
    "collapsed": true
   },
   "outputs": [],
   "source": []
  },
  {
   "cell_type": "markdown",
   "metadata": {},
   "source": [
    "# Task6"
   ]
  },
  {
   "cell_type": "code",
   "execution_count": 120,
   "metadata": {
    "collapsed": true
   },
   "outputs": [],
   "source": [
    "k = 10\n",
    "mu = 12"
   ]
  },
  {
   "cell_type": "code",
   "execution_count": 136,
   "metadata": {
    "collapsed": false
   },
   "outputs": [
    {
     "data": {
      "text/plain": [
       "10"
      ]
     },
     "execution_count": 136,
     "metadata": {},
     "output_type": "execute_result"
    }
   ],
   "source": [
    "len(list(range(2, 1000, 100)))"
   ]
  },
  {
   "cell_type": "code",
   "execution_count": 137,
   "metadata": {
    "collapsed": true
   },
   "outputs": [],
   "source": [
    "from tqdm import tqdm"
   ]
  },
  {
   "cell_type": "code",
   "execution_count": 228,
   "metadata": {
    "collapsed": false
   },
   "outputs": [
    {
     "name": "stderr",
     "output_type": "stream",
     "text": [
      "100%|██████████| 30/30 [08:10<00:00, 36.36s/it]\n"
     ]
    }
   ],
   "source": [
    "criterions = []\n",
    "ansas = []\n",
    "for n in tqdm(range(2, 300, 10)):\n",
    "    to_push = 0.\n",
    "    to_crit = []\n",
    "    for _ in range(100):\n",
    "        samples = []\n",
    "        beta = sps.poisson(10).rvs()\n",
    "        for i in range(1, n + 1):\n",
    "            cur_sample = mu + beta + sps.t(i).rvs(size=k)\n",
    "            samples.append(cur_sample)\n",
    "\n",
    "        samples = np.array(samples)\n",
    "        means = samples.mean(axis=0)\n",
    "        glob_mean = samples.mean()\n",
    "        n, k = samples.shape\n",
    "        R = (1/(k - 1) * n * np.sum((means - glob_mean) ** 2 ) /  (1 /(n * k - k) * np.sum((samples - means) ** 2)))\n",
    "        crit = sps.f(k - 1, n * k - k).ppf(0.95)\n",
    "        to_push += int(R < crit)\n",
    "        to_crit.append((R, crit))\n",
    "    ansas.append(to_push)\n",
    "    criterions.append(to_crit)\n",
    "#     all_p_vals.append(sps.f_oneway(*samples)[1])"
   ]
  },
  {
   "cell_type": "code",
   "execution_count": 230,
   "metadata": {
    "collapsed": false
   },
   "outputs": [
    {
     "data": {
      "text/plain": [
       "[99.0,\n",
       " 95.0,\n",
       " 95.0,\n",
       " 99.0,\n",
       " 99.0,\n",
       " 98.0,\n",
       " 98.0,\n",
       " 98.0,\n",
       " 98.0,\n",
       " 99.0,\n",
       " 95.0,\n",
       " 96.0,\n",
       " 96.0,\n",
       " 96.0,\n",
       " 94.0,\n",
       " 96.0,\n",
       " 94.0,\n",
       " 94.0,\n",
       " 99.0,\n",
       " 94.0,\n",
       " 99.0,\n",
       " 98.0,\n",
       " 94.0,\n",
       " 97.0,\n",
       " 97.0,\n",
       " 97.0,\n",
       " 97.0,\n",
       " 98.0,\n",
       " 94.0,\n",
       " 96.0]"
      ]
     },
     "execution_count": 230,
     "metadata": {},
     "output_type": "execute_result"
    }
   ],
   "source": [
    "ansas"
   ]
  },
  {
   "cell_type": "markdown",
   "metadata": {},
   "source": [
    "Довольно таки хопошо работает критерий(тут указано число принятых гипотез)"
   ]
  }
 ],
 "metadata": {
  "kernelspec": {
   "display_name": "Python 3",
   "language": "python",
   "name": "python3"
  },
  "language_info": {
   "codemirror_mode": {
    "name": "ipython",
    "version": 3
   },
   "file_extension": ".py",
   "mimetype": "text/x-python",
   "name": "python",
   "nbconvert_exporter": "python",
   "pygments_lexer": "ipython3",
   "version": "3.5.2"
  }
 },
 "nbformat": 4,
 "nbformat_minor": 2
}
