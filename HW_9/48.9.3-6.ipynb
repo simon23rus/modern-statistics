{
 "cells": [
  {
   "cell_type": "markdown",
   "metadata": {},
   "source": [
    "# Task 3"
   ]
  },
  {
   "cell_type": "code",
   "execution_count": 254,
   "metadata": {
    "collapsed": true
   },
   "outputs": [],
   "source": [
    "data3 <- read.table('./hw9t3v3.txt')"
   ]
  },
  {
   "cell_type": "code",
   "execution_count": 255,
   "metadata": {},
   "outputs": [
    {
     "data": {
      "text/html": [
       "<table>\n",
       "<thead><tr><th scope=col>V1</th><th scope=col>V2</th><th scope=col>V3</th><th scope=col>V4</th><th scope=col>V5</th><th scope=col>V6</th></tr></thead>\n",
       "<tbody>\n",
       "\t<tr><td>1.738 </td><td>1.819 </td><td>10.527</td><td>0.188 </td><td>2.250 </td><td>28.553</td></tr>\n",
       "\t<tr><td>1.482 </td><td>1.029 </td><td> 3.008</td><td>0.203 </td><td>3.734 </td><td>34.411</td></tr>\n",
       "\t<tr><td>1.875 </td><td>1.585 </td><td> 5.816</td><td>0.188 </td><td>3.185 </td><td>32.856</td></tr>\n",
       "\t<tr><td>1.883 </td><td>1.143 </td><td> 7.902</td><td>0.180 </td><td>1.576 </td><td>29.949</td></tr>\n",
       "\t<tr><td>1.179 </td><td>1.146 </td><td> 1.047</td><td>0.070 </td><td>3.063 </td><td>38.648</td></tr>\n",
       "\t<tr><td>1.976 </td><td>1.028 </td><td> 0.438</td><td>0.102 </td><td>2.720 </td><td>39.417</td></tr>\n",
       "</tbody>\n",
       "</table>\n"
      ],
      "text/latex": [
       "\\begin{tabular}{r|llllll}\n",
       " V1 & V2 & V3 & V4 & V5 & V6\\\\\n",
       "\\hline\n",
       "\t 1.738  & 1.819  & 10.527 & 0.188  & 2.250  & 28.553\\\\\n",
       "\t 1.482  & 1.029  &  3.008 & 0.203  & 3.734  & 34.411\\\\\n",
       "\t 1.875  & 1.585  &  5.816 & 0.188  & 3.185  & 32.856\\\\\n",
       "\t 1.883  & 1.143  &  7.902 & 0.180  & 1.576  & 29.949\\\\\n",
       "\t 1.179  & 1.146  &  1.047 & 0.070  & 3.063  & 38.648\\\\\n",
       "\t 1.976  & 1.028  &  0.438 & 0.102  & 2.720  & 39.417\\\\\n",
       "\\end{tabular}\n"
      ],
      "text/markdown": [
       "\n",
       "V1 | V2 | V3 | V4 | V5 | V6 | \n",
       "|---|---|---|---|---|---|\n",
       "| 1.738  | 1.819  | 10.527 | 0.188  | 2.250  | 28.553 | \n",
       "| 1.482  | 1.029  |  3.008 | 0.203  | 3.734  | 34.411 | \n",
       "| 1.875  | 1.585  |  5.816 | 0.188  | 3.185  | 32.856 | \n",
       "| 1.883  | 1.143  |  7.902 | 0.180  | 1.576  | 29.949 | \n",
       "| 1.179  | 1.146  |  1.047 | 0.070  | 3.063  | 38.648 | \n",
       "| 1.976  | 1.028  |  0.438 | 0.102  | 2.720  | 39.417 | \n",
       "\n",
       "\n"
      ],
      "text/plain": [
       "  V1    V2    V3     V4    V5    V6    \n",
       "1 1.738 1.819 10.527 0.188 2.250 28.553\n",
       "2 1.482 1.029  3.008 0.203 3.734 34.411\n",
       "3 1.875 1.585  5.816 0.188 3.185 32.856\n",
       "4 1.883 1.143  7.902 0.180 1.576 29.949\n",
       "5 1.179 1.146  1.047 0.070 3.063 38.648\n",
       "6 1.976 1.028  0.438 0.102 2.720 39.417"
      ]
     },
     "metadata": {},
     "output_type": "display_data"
    }
   ],
   "source": [
    "head(data3)"
   ]
  },
  {
   "cell_type": "code",
   "execution_count": 256,
   "metadata": {},
   "outputs": [
    {
     "data": {
      "text/html": [
       "500"
      ],
      "text/latex": [
       "500"
      ],
      "text/markdown": [
       "500"
      ],
      "text/plain": [
       "[1] 500"
      ]
     },
     "metadata": {},
     "output_type": "display_data"
    }
   ],
   "source": [
    "length(row.names(data3))"
   ]
  },
  {
   "cell_type": "code",
   "execution_count": 186,
   "metadata": {
    "collapsed": true
   },
   "outputs": [],
   "source": [
    "train <- head(data3, 400)\n",
    "test <- tail(data3, 100)"
   ]
  },
  {
   "cell_type": "markdown",
   "metadata": {},
   "source": [
    "VIF, BIC, AIC"
   ]
  },
  {
   "cell_type": "code",
   "execution_count": 257,
   "metadata": {},
   "outputs": [],
   "source": [
    "pairwise_correlation <- cor(train[colnames(train)[-1]])"
   ]
  },
  {
   "cell_type": "code",
   "execution_count": 258,
   "metadata": {},
   "outputs": [],
   "source": [
    "eigen_values <- eigen(pairwise_correlation)$values"
   ]
  },
  {
   "cell_type": "code",
   "execution_count": 259,
   "metadata": {},
   "outputs": [
    {
     "data": {
      "text/html": [
       "<ol class=list-inline>\n",
       "\t<li>1.92740039710366</li>\n",
       "\t<li>1.15319043388713</li>\n",
       "\t<li>1.00310711666751</li>\n",
       "\t<li>0.868507428170311</li>\n",
       "\t<li>0.0477946241713929</li>\n",
       "</ol>\n"
      ],
      "text/latex": [
       "\\begin{enumerate*}\n",
       "\\item 1.92740039710366\n",
       "\\item 1.15319043388713\n",
       "\\item 1.00310711666751\n",
       "\\item 0.868507428170311\n",
       "\\item 0.0477946241713929\n",
       "\\end{enumerate*}\n"
      ],
      "text/markdown": [
       "1. 1.92740039710366\n",
       "2. 1.15319043388713\n",
       "3. 1.00310711666751\n",
       "4. 0.868507428170311\n",
       "5. 0.0477946241713929\n",
       "\n",
       "\n"
      ],
      "text/plain": [
       "[1] 1.92740040 1.15319043 1.00310712 0.86850743 0.04779462"
      ]
     },
     "metadata": {},
     "output_type": "display_data"
    }
   ],
   "source": [
    "eigen_values"
   ]
  },
  {
   "cell_type": "code",
   "execution_count": 260,
   "metadata": {},
   "outputs": [
    {
     "data": {
      "text/html": [
       "40.3267193856771"
      ],
      "text/latex": [
       "40.3267193856771"
      ],
      "text/markdown": [
       "40.3267193856771"
      ],
      "text/plain": [
       "[1] 40.32672"
      ]
     },
     "metadata": {},
     "output_type": "display_data"
    }
   ],
   "source": [
    "CI <- max(eigen_values) / min(eigen_values)\n",
    "CI"
   ]
  },
  {
   "cell_type": "markdown",
   "metadata": {},
   "source": [
    "Скорее всего, у нас есть проблема с тем, что на всем наборе признаков возможна мультиколлинеарность, что говорит нам о том, что нужно бы убрать некоторые признаки, для этого рассчитаем VIF\\\n"
   ]
  },
  {
   "cell_type": "code",
   "execution_count": 261,
   "metadata": {
    "collapsed": true
   },
   "outputs": [],
   "source": [
    "first.model = lm(V6 ~ V1 + V2 + V3 + V4 + V5, data=train)"
   ]
  },
  {
   "cell_type": "code",
   "execution_count": 262,
   "metadata": {},
   "outputs": [
    {
     "data": {
      "text/plain": [
       "\n",
       "Call:\n",
       "lm(formula = V6 ~ V1 + V2 + V3 + V4 + V5, data = train)\n",
       "\n",
       "Residuals:\n",
       "    Min      1Q  Median      3Q     Max \n",
       "-6.5455 -1.8813 -0.0175  1.6971 25.4640 \n",
       "\n",
       "Coefficients:\n",
       "            Estimate Std. Error t value Pr(>|t|)    \n",
       "(Intercept)  31.9639     1.0406  30.717  < 2e-16 ***\n",
       "V1           -1.0699     0.3486  -3.069   0.0023 ** \n",
       "V2            9.2916     0.2029  45.805  < 2e-16 ***\n",
       "V3           -1.4470     0.0343 -42.191  < 2e-16 ***\n",
       "V4            5.7054     4.1218   1.384   0.1671    \n",
       "V5           -0.8711     0.1699  -5.127 4.62e-07 ***\n",
       "---\n",
       "Signif. codes:  0 ‘***’ 0.001 ‘**’ 0.01 ‘*’ 0.05 ‘.’ 0.1 ‘ ’ 1\n",
       "\n",
       "Residual standard error: 3.117 on 394 degrees of freedom\n",
       "Multiple R-squared:  0.9074,\tAdjusted R-squared:  0.9063 \n",
       "F-statistic: 772.6 on 5 and 394 DF,  p-value: < 2.2e-16\n"
      ]
     },
     "metadata": {},
     "output_type": "display_data"
    }
   ],
   "source": [
    "summary(first.model)"
   ]
  },
  {
   "cell_type": "markdown",
   "metadata": {},
   "source": [
    "Взглянем на качество нашей модели"
   ]
  },
  {
   "cell_type": "code",
   "execution_count": 281,
   "metadata": {},
   "outputs": [
    {
     "name": "stdout",
     "output_type": "stream",
     "text": [
      "[1] \"MSE equals to -> \"\n"
     ]
    },
    {
     "data": {
      "text/html": [
       "15.8196592620273"
      ],
      "text/latex": [
       "15.8196592620273"
      ],
      "text/markdown": [
       "15.8196592620273"
      ],
      "text/plain": [
       "[1] 15.81966"
      ]
     },
     "metadata": {},
     "output_type": "display_data"
    }
   ],
   "source": [
    "print(\"MSE equals to -> \")\n",
    "(mean((test['V6'] - predict(first.model, test[-6])) ** 2))"
   ]
  },
  {
   "cell_type": "code",
   "execution_count": 299,
   "metadata": {},
   "outputs": [
    {
     "name": "stdout",
     "output_type": "stream",
     "text": [
      "[1] \"MAE equals to -> \"\n"
     ]
    },
    {
     "data": {
      "text/html": [
       "2.93746122736284"
      ],
      "text/latex": [
       "2.93746122736284"
      ],
      "text/markdown": [
       "2.93746122736284"
      ],
      "text/plain": [
       "[1] 2.937461"
      ]
     },
     "metadata": {},
     "output_type": "display_data"
    }
   ],
   "source": [
    "print(\"MAE equals to -> \")\n",
    "(sum(abs(test['V6'] - predict(first.model, test[-6]))) / 100)"
   ]
  },
  {
   "cell_type": "code",
   "execution_count": 282,
   "metadata": {
    "collapsed": true
   },
   "outputs": [],
   "source": [
    "library('car')"
   ]
  },
  {
   "cell_type": "code",
   "execution_count": 283,
   "metadata": {
    "scrolled": true
   },
   "outputs": [
    {
     "data": {
      "text/html": [
       "<dl class=dl-horizontal>\n",
       "\t<dt>V1</dt>\n",
       "\t\t<dd>1.0040840684349</dd>\n",
       "\t<dt>V2</dt>\n",
       "\t\t<dd>1.00856442194103</dd>\n",
       "\t<dt>V3</dt>\n",
       "\t\t<dd>1.01749982035353</dd>\n",
       "\t<dt>V4</dt>\n",
       "\t\t<dd>1.02180969065987</dd>\n",
       "\t<dt>V5</dt>\n",
       "\t\t<dd>1.00380034838202</dd>\n",
       "</dl>\n"
      ],
      "text/latex": [
       "\\begin{description*}\n",
       "\\item[V1] 1.0040840684349\n",
       "\\item[V2] 1.00856442194103\n",
       "\\item[V3] 1.01749982035353\n",
       "\\item[V4] 1.02180969065987\n",
       "\\item[V5] 1.00380034838202\n",
       "\\end{description*}\n"
      ],
      "text/markdown": [
       "V1\n",
       ":   1.0040840684349V2\n",
       ":   1.00856442194103V3\n",
       ":   1.01749982035353V4\n",
       ":   1.02180969065987V5\n",
       ":   1.00380034838202\n",
       "\n"
      ],
      "text/plain": [
       "      V1       V2       V3       V4       V5 \n",
       "1.004084 1.008564 1.017500 1.021810 1.003800 "
      ]
     },
     "metadata": {},
     "output_type": "display_data"
    }
   ],
   "source": [
    "vif(first.model)"
   ]
  },
  {
   "cell_type": "markdown",
   "metadata": {},
   "source": [
    "Эх, VIF говоит, что не стоит ничего откидывать. А посмотрим на остатки нашей модели и посмотрим, нормально ли они распределены?"
   ]
  },
  {
   "cell_type": "code",
   "execution_count": 284,
   "metadata": {},
   "outputs": [],
   "source": [
    "library(nortest)"
   ]
  },
  {
   "cell_type": "code",
   "execution_count": 285,
   "metadata": {},
   "outputs": [
    {
     "data": {
      "text/html": [
       "<dl class=dl-horizontal>\n",
       "\t<dt>1</dt>\n",
       "\t\t<dd>-2.33339717580963</dd>\n",
       "\t<dt>2</dt>\n",
       "\t\t<dd>0.918460075692471</dd>\n",
       "\t<dt>3</dt>\n",
       "\t\t<dd>-1.71176248440882</dd>\n",
       "\t<dt>4</dt>\n",
       "\t\t<dd>1.1591573079266</dd>\n",
       "\t<dt>5</dt>\n",
       "\t\t<dd>1.08099514426246</dd>\n",
       "\t<dt>6</dt>\n",
       "\t\t<dd>2.43660294510877</dd>\n",
       "</dl>\n"
      ],
      "text/latex": [
       "\\begin{description*}\n",
       "\\item[1] -2.33339717580963\n",
       "\\item[2] 0.918460075692471\n",
       "\\item[3] -1.71176248440882\n",
       "\\item[4] 1.1591573079266\n",
       "\\item[5] 1.08099514426246\n",
       "\\item[6] 2.43660294510877\n",
       "\\end{description*}\n"
      ],
      "text/markdown": [
       "1\n",
       ":   -2.333397175809632\n",
       ":   0.9184600756924713\n",
       ":   -1.711762484408824\n",
       ":   1.15915730792665\n",
       ":   1.080995144262466\n",
       ":   2.43660294510877\n",
       "\n"
      ],
      "text/plain": [
       "         1          2          3          4          5          6 \n",
       "-2.3333972  0.9184601 -1.7117625  1.1591573  1.0809951  2.4366029 "
      ]
     },
     "metadata": {},
     "output_type": "display_data"
    }
   ],
   "source": [
    "head(first.model$residuals)"
   ]
  },
  {
   "cell_type": "code",
   "execution_count": 381,
   "metadata": {},
   "outputs": [
    {
     "name": "stderr",
     "output_type": "stream",
     "text": [
      "Warning message:\n",
      "“'qq.plot' is deprecated.\n",
      "Use 'qqPlot' instead.\n",
      "See help(\"Deprecated\") and help(\"car-deprecated\").”"
     ]
    },
    {
     "data": {
      "image/png": "[encoded data removed]",
      "text/plain": [
       "plot without title"
      ]
     },
     "metadata": {},
     "output_type": "display_data"
    }
   ],
   "source": [
    "qq.plot(first.model$residuals)"
   ]
  },
  {
   "cell_type": "code",
   "execution_count": 286,
   "metadata": {},
   "outputs": [
    {
     "data": {
      "text/plain": [
       "\n",
       "\tLilliefors (Kolmogorov-Smirnov) normality test\n",
       "\n",
       "data:  first.model$residuals\n",
       "D = 0.076656, p-value = 6.836e-06\n"
      ]
     },
     "metadata": {},
     "output_type": "display_data"
    }
   ],
   "source": [
    "nortest::lillie.test(first.model$residuals)"
   ]
  },
  {
   "cell_type": "markdown",
   "metadata": {},
   "source": [
    "Получаем, что наша гипотеза о нормальности остатков отвергается на достаточно нихких уровнях значимости, тогда воспользуемся критериями информативности Акаике и Шварца, т.к. Критериями Фишера и Стьюдента не стоит пользоваться, они очень чувствительны к вы боркам не из нормального распределения"
   ]
  },
  {
   "cell_type": "code",
   "execution_count": 287,
   "metadata": {},
   "outputs": [],
   "source": [
    "library(bestglm)"
   ]
  },
  {
   "cell_type": "code",
   "execution_count": 288,
   "metadata": {
    "collapsed": true
   },
   "outputs": [],
   "source": [
    "help(bestglm)"
   ]
  },
  {
   "cell_type": "markdown",
   "metadata": {},
   "source": [
    "Воспользуемся встроенной функцией построения прямого отбора признаков с различными информационными критериями"
   ]
  },
  {
   "cell_type": "code",
   "execution_count": 292,
   "metadata": {
    "collapsed": true
   },
   "outputs": [],
   "source": [
    "bestAIC <- bestglm(train, IC=\"AIC\")\n",
    "bestBIC <- bestglm(train, IC=\"BIC\")"
   ]
  },
  {
   "cell_type": "code",
   "execution_count": 293,
   "metadata": {},
   "outputs": [
    {
     "data": {
      "text/plain": [
       "AIC\n",
       "BICq equivalent for q in (0.154382269042205, 0.883449458201873)\n",
       "Best Model:\n",
       "              Estimate Std. Error    t value      Pr(>|t|)\n",
       "(Intercept) 32.7443094 0.87563469  37.394943 7.667265e-132\n",
       "V1          -1.0692536 0.34902909  -3.063509  2.337510e-03\n",
       "V2           9.3085247 0.20271799  45.918593 1.797367e-160\n",
       "V3          -1.4410117 0.03406474 -42.302144 8.983694e-149\n",
       "V5          -0.8607351 0.16992540  -5.065371  6.268744e-07"
      ]
     },
     "metadata": {},
     "output_type": "display_data"
    }
   ],
   "source": [
    "bestAIC"
   ]
  },
  {
   "cell_type": "code",
   "execution_count": 294,
   "metadata": {},
   "outputs": [
    {
     "data": {
      "text/plain": [
       "BIC\n",
       "BICq equivalent for q in (0.154382269042205, 0.883449458201873)\n",
       "Best Model:\n",
       "              Estimate Std. Error    t value      Pr(>|t|)\n",
       "(Intercept) 32.7443094 0.87563469  37.394943 7.667265e-132\n",
       "V1          -1.0692536 0.34902909  -3.063509  2.337510e-03\n",
       "V2           9.3085247 0.20271799  45.918593 1.797367e-160\n",
       "V3          -1.4410117 0.03406474 -42.302144 8.983694e-149\n",
       "V5          -0.8607351 0.16992540  -5.065371  6.268744e-07"
      ]
     },
     "metadata": {},
     "output_type": "display_data"
    }
   ],
   "source": [
    "bestBIC"
   ]
  },
  {
   "cell_type": "markdown",
   "metadata": {},
   "source": [
    "Как видно, оба отбирателя выкинули 4-ый признак, взглянем теперь на качество нашей модели(то есть они не отличаются)"
   ]
  },
  {
   "cell_type": "code",
   "execution_count": 211,
   "metadata": {},
   "outputs": [],
   "source": [
    "# anss = c()\n",
    "# for(i in seq(1:length(row.names(preds)))) {\n",
    "#     elem = preds[i,]\n",
    "#     anss <- append(anss, sum(elem) + 1.6113053924766)\n",
    "# }"
   ]
  },
  {
   "cell_type": "markdown",
   "metadata": {},
   "source": [
    "Посмотрим на кчество"
   ]
  },
  {
   "cell_type": "code",
   "execution_count": 295,
   "metadata": {},
   "outputs": [
    {
     "data": {
      "text/html": [
       "15.6959257650791"
      ],
      "text/latex": [
       "15.6959257650791"
      ],
      "text/markdown": [
       "15.6959257650791"
      ],
      "text/plain": [
       "[1] 15.69593"
      ]
     },
     "metadata": {},
     "output_type": "display_data"
    }
   ],
   "source": [
    "(mean((test['V6'] - predict(bestAIC$BestModel, test[-6])) ** 2))"
   ]
  },
  {
   "cell_type": "markdown",
   "metadata": {},
   "source": [
    "Круто, среднеквадратичная ошибка стала поменьше, но не намного)"
   ]
  },
  {
   "cell_type": "code",
   "execution_count": 300,
   "metadata": {},
   "outputs": [
    {
     "name": "stdout",
     "output_type": "stream",
     "text": [
      "[1] \"MAE equals to -> \"\n"
     ]
    },
    {
     "data": {
      "text/html": [
       "2.91773381538089"
      ],
      "text/latex": [
       "2.91773381538089"
      ],
      "text/markdown": [
       "2.91773381538089"
      ],
      "text/plain": [
       "[1] 2.917734"
      ]
     },
     "metadata": {},
     "output_type": "display_data"
    }
   ],
   "source": [
    "print(\"MAE equals to -> \")\n",
    "(sum(abs(test['V6'] - predict(bestAIC$BestModel, test[-6]))) / 100)"
   ]
  },
  {
   "cell_type": "markdown",
   "metadata": {},
   "source": [
    "Обе уменьшились, а это хорошо, значит, мы, скорее всего, убрали и вправду ненужыный признак"
   ]
  },
  {
   "cell_type": "markdown",
   "metadata": {},
   "source": [
    "# Task4 "
   ]
  },
  {
   "cell_type": "markdown",
   "metadata": {},
   "source": [
    "Тут будем поступать по аналогии с предыдущей"
   ]
  },
  {
   "cell_type": "code",
   "execution_count": 301,
   "metadata": {},
   "outputs": [
    {
     "data": {
      "text/html": [
       "<table>\n",
       "<thead><tr><th scope=col>V1</th><th scope=col>V2</th><th scope=col>V3</th><th scope=col>V4</th><th scope=col>V5</th><th scope=col>V6</th><th scope=col>V7</th></tr></thead>\n",
       "<tbody>\n",
       "\t<tr><td>0.008  </td><td> 6.535 </td><td>0.211  </td><td>3.873  </td><td>1.139  </td><td>1.167  </td><td>-12.890</td></tr>\n",
       "\t<tr><td>0.000  </td><td>14.984 </td><td>0.141  </td><td>4.655  </td><td>1.565  </td><td>1.974  </td><td> 11.575</td></tr>\n",
       "\t<tr><td>0.000  </td><td> 0.340 </td><td>0.125  </td><td>2.492  </td><td>1.062  </td><td>1.632  </td><td> 13.329</td></tr>\n",
       "\t<tr><td>0.133  </td><td>14.090 </td><td>0.125  </td><td>2.989  </td><td>1.810  </td><td>1.949  </td><td>  2.785</td></tr>\n",
       "\t<tr><td>0.000  </td><td> 7.059 </td><td>0.156  </td><td>2.938  </td><td>1.043  </td><td>1.998  </td><td> -6.669</td></tr>\n",
       "\t<tr><td>0.000  </td><td> 6.613 </td><td>0.164  </td><td>3.935  </td><td>1.245  </td><td>1.242  </td><td> -2.987</td></tr>\n",
       "</tbody>\n",
       "</table>\n"
      ],
      "text/latex": [
       "\\begin{tabular}{r|lllllll}\n",
       " V1 & V2 & V3 & V4 & V5 & V6 & V7\\\\\n",
       "\\hline\n",
       "\t 0.008   &  6.535  & 0.211   & 3.873   & 1.139   & 1.167   & -12.890\\\\\n",
       "\t 0.000   & 14.984  & 0.141   & 4.655   & 1.565   & 1.974   &  11.575\\\\\n",
       "\t 0.000   &  0.340  & 0.125   & 2.492   & 1.062   & 1.632   &  13.329\\\\\n",
       "\t 0.133   & 14.090  & 0.125   & 2.989   & 1.810   & 1.949   &   2.785\\\\\n",
       "\t 0.000   &  7.059  & 0.156   & 2.938   & 1.043   & 1.998   &  -6.669\\\\\n",
       "\t 0.000   &  6.613  & 0.164   & 3.935   & 1.245   & 1.242   &  -2.987\\\\\n",
       "\\end{tabular}\n"
      ],
      "text/markdown": [
       "\n",
       "V1 | V2 | V3 | V4 | V5 | V6 | V7 | \n",
       "|---|---|---|---|---|---|\n",
       "| 0.008   |  6.535  | 0.211   | 3.873   | 1.139   | 1.167   | -12.890 | \n",
       "| 0.000   | 14.984  | 0.141   | 4.655   | 1.565   | 1.974   |  11.575 | \n",
       "| 0.000   |  0.340  | 0.125   | 2.492   | 1.062   | 1.632   |  13.329 | \n",
       "| 0.133   | 14.090  | 0.125   | 2.989   | 1.810   | 1.949   |   2.785 | \n",
       "| 0.000   |  7.059  | 0.156   | 2.938   | 1.043   | 1.998   |  -6.669 | \n",
       "| 0.000   |  6.613  | 0.164   | 3.935   | 1.245   | 1.242   |  -2.987 | \n",
       "\n",
       "\n"
      ],
      "text/plain": [
       "  V1    V2     V3    V4    V5    V6    V7     \n",
       "1 0.008  6.535 0.211 3.873 1.139 1.167 -12.890\n",
       "2 0.000 14.984 0.141 4.655 1.565 1.974  11.575\n",
       "3 0.000  0.340 0.125 2.492 1.062 1.632  13.329\n",
       "4 0.133 14.090 0.125 2.989 1.810 1.949   2.785\n",
       "5 0.000  7.059 0.156 2.938 1.043 1.998  -6.669\n",
       "6 0.000  6.613 0.164 3.935 1.245 1.242  -2.987"
      ]
     },
     "metadata": {},
     "output_type": "display_data"
    }
   ],
   "source": [
    "data4 <- read.table('./hw9t4v3.txt')\n",
    "head(data4)"
   ]
  },
  {
   "cell_type": "code",
   "execution_count": 305,
   "metadata": {
    "collapsed": true
   },
   "outputs": [],
   "source": [
    "data4.train = head(data4, 400)\n",
    "data4.test = tail(data4, 100)"
   ]
  },
  {
   "cell_type": "code",
   "execution_count": 312,
   "metadata": {},
   "outputs": [
    {
     "data": {
      "text/plain": [
       "\n",
       "Call:\n",
       "lm(formula = V7 ~ V1 + V2 + V3 + V4 + V5 + V6, data = data4.train)\n",
       "\n",
       "Residuals:\n",
       "   Min     1Q Median     3Q    Max \n",
       "-9.883 -4.672 -1.214  3.098 27.931 \n",
       "\n",
       "Coefficients:\n",
       "             Estimate Std. Error t value Pr(>|t|)    \n",
       "(Intercept) -17.94389    2.29390  -7.822 4.83e-14 ***\n",
       "V1           -1.83028    4.18218  -0.438    0.662    \n",
       "V2            0.36531    0.07064   5.171 3.71e-07 ***\n",
       "V3           -5.17126    8.89049  -0.582    0.561    \n",
       "V4           -0.14689    0.32583  -0.451    0.652    \n",
       "V5            3.29289    0.48899   6.734 5.87e-11 ***\n",
       "V6            4.62633    0.73556   6.290 8.49e-10 ***\n",
       "---\n",
       "Signif. codes:  0 ‘***’ 0.001 ‘**’ 0.01 ‘*’ 0.05 ‘.’ 0.1 ‘ ’ 1\n",
       "\n",
       "Residual standard error: 6.338 on 393 degrees of freedom\n",
       "Multiple R-squared:  0.2265,\tAdjusted R-squared:  0.2147 \n",
       "F-statistic: 19.19 on 6 and 393 DF,  p-value: < 2.2e-16\n"
      ]
     },
     "metadata": {},
     "output_type": "display_data"
    }
   ],
   "source": [
    "lm4 <- lm(V7 ~ V1 + V2 + V3 + V4 + V5 + V6, data=data4.train)\n",
    "summary(lm4)"
   ]
  },
  {
   "cell_type": "code",
   "execution_count": 380,
   "metadata": {},
   "outputs": [
    {
     "name": "stderr",
     "output_type": "stream",
     "text": [
      "Warning message:\n",
      "“'qq.plot' is deprecated.\n",
      "Use 'qqPlot' instead.\n",
      "See help(\"Deprecated\") and help(\"car-deprecated\").”"
     ]
    },
    {
     "data": {
      "image/png": "[encoded data removed]",
      "text/plain": [
       "plot without title"
      ]
     },
     "metadata": {},
     "output_type": "display_data"
    }
   ],
   "source": [
    "qq.plot(lm4$residuals)"
   ]
  },
  {
   "cell_type": "code",
   "execution_count": 313,
   "metadata": {},
   "outputs": [
    {
     "data": {
      "text/plain": [
       "\n",
       "\tAnderson-Darling normality test\n",
       "\n",
       "data:  lm4$residuals\n",
       "A = 7.3574, p-value < 2.2e-16\n"
      ]
     },
     "metadata": {},
     "output_type": "display_data"
    }
   ],
   "source": [
    "nortest::ad.test(lm4$residuals)"
   ]
  },
  {
   "cell_type": "markdown",
   "metadata": {},
   "source": [
    "Снова гипотеза о нормальности остатков отвергается -> воспользуемся прямолинейным отбором с AIC & BIC. Уж очень отклонено от прямой облако точек"
   ]
  },
  {
   "cell_type": "code",
   "execution_count": 314,
   "metadata": {},
   "outputs": [
    {
     "name": "stdout",
     "output_type": "stream",
     "text": [
      "[1] \"MSE equals to -> \"\n"
     ]
    },
    {
     "data": {
      "text/html": [
       "47.5726982649014"
      ],
      "text/latex": [
       "47.5726982649014"
      ],
      "text/markdown": [
       "47.5726982649014"
      ],
      "text/plain": [
       "[1] 47.5727"
      ]
     },
     "metadata": {},
     "output_type": "display_data"
    }
   ],
   "source": [
    "print(\"MSE equals to -> \")\n",
    "(mean((data4.test['V7'] - predict(lm4, data4.test[-7])) ** 2))"
   ]
  },
  {
   "cell_type": "code",
   "execution_count": 315,
   "metadata": {},
   "outputs": [
    {
     "name": "stdout",
     "output_type": "stream",
     "text": [
      "[1] \"MAE equals to -> \"\n"
     ]
    },
    {
     "data": {
      "text/html": [
       "5.30041724713533"
      ],
      "text/latex": [
       "5.30041724713533"
      ],
      "text/markdown": [
       "5.30041724713533"
      ],
      "text/plain": [
       "[1] 5.300417"
      ]
     },
     "metadata": {},
     "output_type": "display_data"
    }
   ],
   "source": [
    "print(\"MAE equals to -> \")\n",
    "sum(abs((data4.test['V7'] - predict(lm4, data4.test[-7])))) / 100"
   ]
  },
  {
   "cell_type": "markdown",
   "metadata": {},
   "source": [
    "Отберем признаки"
   ]
  },
  {
   "cell_type": "code",
   "execution_count": 319,
   "metadata": {
    "collapsed": true
   },
   "outputs": [],
   "source": [
    "bestAIC <- bestglm(data4.train, IC=\"AIC\")\n",
    "bestBIC <- bestglm(data4.train, IC=\"BIC\")"
   ]
  },
  {
   "cell_type": "code",
   "execution_count": 320,
   "metadata": {},
   "outputs": [
    {
     "data": {
      "text/plain": [
       "AIC\n",
       "BICq equivalent for q in (3.84678321977416e-05, 0.944740253519736)\n",
       "Best Model:\n",
       "              Estimate Std. Error    t value     Pr(>|t|)\n",
       "(Intercept) -19.196956 1.52367554 -12.599110 7.693873e-31\n",
       "V2            0.365009 0.07032928   5.190001 3.367048e-07\n",
       "V5            3.267986 0.48574215   6.727820 6.048512e-11\n",
       "V6            4.620992 0.73207038   6.312223 7.381113e-10"
      ]
     },
     "metadata": {},
     "output_type": "display_data"
    }
   ],
   "source": [
    "bestAIC"
   ]
  },
  {
   "cell_type": "code",
   "execution_count": 321,
   "metadata": {},
   "outputs": [
    {
     "data": {
      "text/plain": [
       "BIC\n",
       "BICq equivalent for q in (3.84678321977416e-05, 0.944740253519736)\n",
       "Best Model:\n",
       "              Estimate Std. Error    t value     Pr(>|t|)\n",
       "(Intercept) -19.196956 1.52367554 -12.599110 7.693873e-31\n",
       "V2            0.365009 0.07032928   5.190001 3.367048e-07\n",
       "V5            3.267986 0.48574215   6.727820 6.048512e-11\n",
       "V6            4.620992 0.73207038   6.312223 7.381113e-10"
      ]
     },
     "metadata": {},
     "output_type": "display_data"
    }
   ],
   "source": [
    "bestBIC"
   ]
  },
  {
   "cell_type": "markdown",
   "metadata": {},
   "source": [
    "Модели снова совпадают, чего и следовало ожижать. После отбора остались всего 3 признака: 2, 5 , 6. Проверим качетво модели, построенной на них"
   ]
  },
  {
   "cell_type": "code",
   "execution_count": 323,
   "metadata": {},
   "outputs": [
    {
     "data": {
      "text/html": [
       "47.3079736140291"
      ],
      "text/latex": [
       "47.3079736140291"
      ],
      "text/markdown": [
       "47.3079736140291"
      ],
      "text/plain": [
       "[1] 47.30797"
      ]
     },
     "metadata": {},
     "output_type": "display_data"
    }
   ],
   "source": [
    "(mean((data4.test['V7'] - predict(bestAIC$BestModel, data4.test[-7])) ** 2))"
   ]
  },
  {
   "cell_type": "code",
   "execution_count": 324,
   "metadata": {},
   "outputs": [
    {
     "data": {
      "text/html": [
       "5.29200873638175"
      ],
      "text/latex": [
       "5.29200873638175"
      ],
      "text/markdown": [
       "5.29200873638175"
      ],
      "text/plain": [
       "[1] 5.292009"
      ]
     },
     "metadata": {},
     "output_type": "display_data"
    }
   ],
   "source": [
    "(sum(abs(data4.test['V7'] - predict(bestAIC$BestModel, data4.test[-7]))) / 100)"
   ]
  },
  {
   "cell_type": "markdown",
   "metadata": {},
   "source": [
    "Опять, как и в прошлом случае качество стало получше, но несильно"
   ]
  },
  {
   "cell_type": "markdown",
   "metadata": {},
   "source": [
    "# Task5"
   ]
  },
  {
   "cell_type": "markdown",
   "metadata": {},
   "source": [
    "Пусть вектор ошибок в линейной регрессионной модели$ Y = X\\Theta + \\varepsilon$ состоит из независимых компонент, имеющих распределение Лапласа с параметром $\\sigma^2$. Найти фактический уровень значимости критерия Голдфелда-Квандта в данной модели в зависимости от n. Как часто будет отвергаться гипотеза гомоскедастичности, если распределение i-той компоненты вектора ошибок – Laplace($\\sigma^2(1 + \\frac{i}{n}))$?\n"
   ]
  },
  {
   "cell_type": "code",
   "execution_count": 329,
   "metadata": {},
   "outputs": [
    {
     "name": "stderr",
     "output_type": "stream",
     "text": [
      "Loading required package: zoo\n",
      "\n",
      "Attaching package: ‘zoo’\n",
      "\n",
      "The following objects are masked from ‘package:base’:\n",
      "\n",
      "    as.Date, as.Date.numeric\n",
      "\n"
     ]
    }
   ],
   "source": [
    "library('lmtest')"
   ]
  },
  {
   "cell_type": "markdown",
   "metadata": {},
   "source": [
    "Для проверки гипотезы будем использовать критерий Голдфелда-Квандта"
   ]
  },
  {
   "cell_type": "code",
   "execution_count": 331,
   "metadata": {
    "collapsed": true
   },
   "outputs": [],
   "source": [
    "sigma_squared <- 4"
   ]
  },
  {
   "cell_type": "markdown",
   "metadata": {},
   "source": [
    "Будем строить трехмерную модель"
   ]
  },
  {
   "cell_type": "code",
   "execution_count": 334,
   "metadata": {},
   "outputs": [
    {
     "name": "stderr",
     "output_type": "stream",
     "text": [
      "\n",
      "Attaching package: ‘rmutil’\n",
      "\n",
      "The following object is masked from ‘package:stats’:\n",
      "\n",
      "    nobs\n",
      "\n"
     ]
    }
   ],
   "source": [
    "library('rmutil') # для Лапласса"
   ]
  },
  {
   "cell_type": "markdown",
   "metadata": {},
   "source": [
    "Сначала посмотрим на тех случаях, где у нас выполнена гомоскедастичность(с равными дисперсиями ошибки)"
   ]
  },
  {
   "cell_type": "code",
   "execution_count": 359,
   "metadata": {},
   "outputs": [],
   "source": [
    "sample_sizes <- c(10, 100, 300, 1000, 3000, 8000, 15000, 30000, 100000)\n",
    "\n",
    "k <- 100\n",
    "real_signif <- c()\n",
    "signif_level <- 0.05\n",
    "for(n in sample_sizes) {\n",
    "    cur_signif <- 0\n",
    "    for(k_ in seq(1:k)) {\n",
    "        x1 <- rpois(n, 3)\n",
    "        x2 <- runif(n,5,95)\n",
    "        x3 <- rbinom(n,1,.5)\n",
    "\n",
    "        b0 <- 17\n",
    "        b1 <- 0.5\n",
    "        b2 <- 0.037\n",
    "        b3 <- -5.2\n",
    "\n",
    "        eps <-  rlaplace(n,0, sigma_squared)\n",
    "        y <- b0 + b1*x1  + b2*x2  + b3*x3 + eps\n",
    "        if(gqtest(y ~ 1 + x1 + x2 + x3)$p.value < signif_level)\n",
    "            cur_signif <- cur_signif + 1\n",
    "    }\n",
    "    real_signif <- append(real_signif, cur_signif / 100.) \n",
    "}"
   ]
  },
  {
   "cell_type": "code",
   "execution_count": 362,
   "metadata": {},
   "outputs": [
    {
     "data": {
      "text/html": [
       "<ol class=list-inline>\n",
       "\t<li>0.02</li>\n",
       "\t<li>0.15</li>\n",
       "\t<li>0.15</li>\n",
       "\t<li>0.18</li>\n",
       "\t<li>0.15</li>\n",
       "\t<li>0.18</li>\n",
       "\t<li>0.12</li>\n",
       "\t<li>0.16</li>\n",
       "\t<li>0.12</li>\n",
       "</ol>\n"
      ],
      "text/latex": [
       "\\begin{enumerate*}\n",
       "\\item 0.02\n",
       "\\item 0.15\n",
       "\\item 0.15\n",
       "\\item 0.18\n",
       "\\item 0.15\n",
       "\\item 0.18\n",
       "\\item 0.12\n",
       "\\item 0.16\n",
       "\\item 0.12\n",
       "\\end{enumerate*}\n"
      ],
      "text/markdown": [
       "1. 0.02\n",
       "2. 0.15\n",
       "3. 0.15\n",
       "4. 0.18\n",
       "5. 0.15\n",
       "6. 0.18\n",
       "7. 0.12\n",
       "8. 0.16\n",
       "9. 0.12\n",
       "\n",
       "\n"
      ],
      "text/plain": [
       "[1] 0.02 0.15 0.15 0.18 0.15 0.18 0.12 0.16 0.12"
      ]
     },
     "metadata": {},
     "output_type": "display_data"
    }
   ],
   "source": [
    "real_signif"
   ]
  },
  {
   "cell_type": "markdown",
   "metadata": {},
   "source": [
    "А теперь проведем тот же самый анализ, если компоненты имеют разную дисперсию, а именно, $\\sigma^2(1 + \\frac{i}{n})$"
   ]
  },
  {
   "cell_type": "code",
   "execution_count": 365,
   "metadata": {
    "collapsed": true
   },
   "outputs": [],
   "source": [
    "sample_sizes <- c(10, 100, 300, 1000, 3000, 5000)\n",
    "\n",
    "k <- 100\n",
    "real_signif_get <- c()\n",
    "signif_level <- 0.05\n",
    "for(n in sample_sizes) {\n",
    "    cur_signif <- 0\n",
    "    for(k_ in seq(1:k)) {\n",
    "        x1 <- rpois(n, 3)\n",
    "        x2 <- runif(n,5,95)\n",
    "        x3 <- rbinom(n,1,.5)\n",
    "\n",
    "        b0 <- 17\n",
    "        b1 <- 0.5\n",
    "        b2 <- 0.037\n",
    "        b3 <- -5.2\n",
    "\n",
    "        eps <- c()\n",
    "        for(i in seq(1:n)) {\n",
    "            eps <- append(eps,  rlaplace(1,0, sigma_squared * (1 + i / n)))\n",
    "        }\n",
    "        y <- b0 + b1*x1  + b2*x2  + b3*x3 + eps\n",
    "        if(gqtest(y ~ 1 + x1 + x2 + x3)$p.value < signif_level)\n",
    "            cur_signif <- cur_signif + 1\n",
    "    }\n",
    "    real_signif_get <- append(real_signif_get, cur_signif / 100.) \n",
    "}"
   ]
  },
  {
   "cell_type": "code",
   "execution_count": 366,
   "metadata": {},
   "outputs": [
    {
     "data": {
      "text/html": [
       "<ol class=list-inline>\n",
       "\t<li>0.07</li>\n",
       "\t<li>0.66</li>\n",
       "\t<li>0.95</li>\n",
       "\t<li>1</li>\n",
       "\t<li>1</li>\n",
       "\t<li>1</li>\n",
       "</ol>\n"
      ],
      "text/latex": [
       "\\begin{enumerate*}\n",
       "\\item 0.07\n",
       "\\item 0.66\n",
       "\\item 0.95\n",
       "\\item 1\n",
       "\\item 1\n",
       "\\item 1\n",
       "\\end{enumerate*}\n"
      ],
      "text/markdown": [
       "1. 0.07\n",
       "2. 0.66\n",
       "3. 0.95\n",
       "4. 1\n",
       "5. 1\n",
       "6. 1\n",
       "\n",
       "\n"
      ],
      "text/plain": [
       "[1] 0.07 0.66 0.95 1.00 1.00 1.00"
      ]
     },
     "metadata": {},
     "output_type": "display_data"
    }
   ],
   "source": [
    "real_signif_get"
   ]
  },
  {
   "cell_type": "markdown",
   "metadata": {},
   "source": [
    "Вообще супер! Мы свели ростом выборки к нулевой ошибке второго рода, что очень хорошо"
   ]
  },
  {
   "cell_type": "markdown",
   "metadata": {},
   "source": [
    "# Task 6"
   ]
  },
  {
   "cell_type": "markdown",
   "metadata": {},
   "source": [
    "Выданы данные {$(y_i,x_{ij})$,i = 1,...,n+1, j = 1,...,k}, причем $y_{n+1}$ известен. Исполь- зуя стандартную и робастные регрессионные модели, произвести отбор признаков по первым n объектам и предсказать значение n+1-го отклика. Какая модель дала наи- лучший результат и почему? Можно ли пользоваться стандартными процедурами, такими, как критерий Фишера и информационные критерии, для отбора признаков в робастных моделях?\n"
   ]
  },
  {
   "cell_type": "code",
   "execution_count": 367,
   "metadata": {},
   "outputs": [
    {
     "data": {
      "text/html": [
       "<table>\n",
       "<thead><tr><th scope=col>V1</th><th scope=col>V2</th><th scope=col>V3</th><th scope=col>V4</th><th scope=col>V5</th><th scope=col>V6</th><th scope=col>V7</th></tr></thead>\n",
       "<tbody>\n",
       "\t<tr><td>2.106 </td><td>12.336</td><td>3.943 </td><td>0.848 </td><td>2.113 </td><td>0.848 </td><td>60.994</td></tr>\n",
       "\t<tr><td>1.153 </td><td>15.633</td><td>4.870 </td><td>1.637 </td><td>1.127 </td><td>2.032 </td><td>55.021</td></tr>\n",
       "\t<tr><td>1.855 </td><td>12.000</td><td>3.827 </td><td>1.062 </td><td>1.820 </td><td>1.395 </td><td>58.002</td></tr>\n",
       "\t<tr><td>1.681 </td><td> 1.301</td><td>0.554 </td><td>1.998 </td><td>1.684 </td><td>1.998 </td><td>20.817</td></tr>\n",
       "\t<tr><td>2.536 </td><td> 0.672</td><td>0.389 </td><td>1.958 </td><td>2.510 </td><td>2.271 </td><td>28.611</td></tr>\n",
       "\t<tr><td>1.679 </td><td> 1.641</td><td>0.664 </td><td>1.939 </td><td>1.662 </td><td>1.939 </td><td>21.371</td></tr>\n",
       "</tbody>\n",
       "</table>\n"
      ],
      "text/latex": [
       "\\begin{tabular}{r|lllllll}\n",
       " V1 & V2 & V3 & V4 & V5 & V6 & V7\\\\\n",
       "\\hline\n",
       "\t 2.106  & 12.336 & 3.943  & 0.848  & 2.113  & 0.848  & 60.994\\\\\n",
       "\t 1.153  & 15.633 & 4.870  & 1.637  & 1.127  & 2.032  & 55.021\\\\\n",
       "\t 1.855  & 12.000 & 3.827  & 1.062  & 1.820  & 1.395  & 58.002\\\\\n",
       "\t 1.681  &  1.301 & 0.554  & 1.998  & 1.684  & 1.998  & 20.817\\\\\n",
       "\t 2.536  &  0.672 & 0.389  & 1.958  & 2.510  & 2.271  & 28.611\\\\\n",
       "\t 1.679  &  1.641 & 0.664  & 1.939  & 1.662  & 1.939  & 21.371\\\\\n",
       "\\end{tabular}\n"
      ],
      "text/markdown": [
       "\n",
       "V1 | V2 | V3 | V4 | V5 | V6 | V7 | \n",
       "|---|---|---|---|---|---|\n",
       "| 2.106  | 12.336 | 3.943  | 0.848  | 2.113  | 0.848  | 60.994 | \n",
       "| 1.153  | 15.633 | 4.870  | 1.637  | 1.127  | 2.032  | 55.021 | \n",
       "| 1.855  | 12.000 | 3.827  | 1.062  | 1.820  | 1.395  | 58.002 | \n",
       "| 1.681  |  1.301 | 0.554  | 1.998  | 1.684  | 1.998  | 20.817 | \n",
       "| 2.536  |  0.672 | 0.389  | 1.958  | 2.510  | 2.271  | 28.611 | \n",
       "| 1.679  |  1.641 | 0.664  | 1.939  | 1.662  | 1.939  | 21.371 | \n",
       "\n",
       "\n"
      ],
      "text/plain": [
       "  V1    V2     V3    V4    V5    V6    V7    \n",
       "1 2.106 12.336 3.943 0.848 2.113 0.848 60.994\n",
       "2 1.153 15.633 4.870 1.637 1.127 2.032 55.021\n",
       "3 1.855 12.000 3.827 1.062 1.820 1.395 58.002\n",
       "4 1.681  1.301 0.554 1.998 1.684 1.998 20.817\n",
       "5 2.536  0.672 0.389 1.958 2.510 2.271 28.611\n",
       "6 1.679  1.641 0.664 1.939 1.662 1.939 21.371"
      ]
     },
     "metadata": {},
     "output_type": "display_data"
    }
   ],
   "source": [
    "data6 = read.table('./hw9t6v3.txt')\n",
    "head(data6)"
   ]
  },
  {
   "cell_type": "code",
   "execution_count": 368,
   "metadata": {},
   "outputs": [
    {
     "data": {
      "text/html": [
       "401"
      ],
      "text/latex": [
       "401"
      ],
      "text/markdown": [
       "401"
      ],
      "text/plain": [
       "[1] 401"
      ]
     },
     "metadata": {},
     "output_type": "display_data"
    }
   ],
   "source": [
    "length(rownames(data6))"
   ]
  },
  {
   "cell_type": "code",
   "execution_count": 369,
   "metadata": {
    "collapsed": true
   },
   "outputs": [],
   "source": [
    "data6.train = head(data6, 400)\n",
    "data6.test = tail(data6, 1)"
   ]
  },
  {
   "cell_type": "markdown",
   "metadata": {},
   "source": [
    "Построим обычную линейную регрессию и посмотрим, как распределены остатки, нормально ли?"
   ]
  },
  {
   "cell_type": "code",
   "execution_count": 371,
   "metadata": {},
   "outputs": [
    {
     "data": {
      "text/plain": [
       "\n",
       "Call:\n",
       "lm(formula = V7 ~ ., data = data6.train)\n",
       "\n",
       "Coefficients:\n",
       "(Intercept)           V1           V2           V3           V4           V5  \n",
       "     123.37       752.94       163.81      -569.91       103.51      -742.46  \n",
       "         V6  \n",
       "     -34.87  \n"
      ]
     },
     "metadata": {},
     "output_type": "display_data"
    }
   ],
   "source": [
    "data6.linear = lm(V7 ~ ., data=data6.train)\n",
    "data6.linear"
   ]
  },
  {
   "cell_type": "markdown",
   "metadata": {},
   "source": [
    "ойой, что-то веса слишком большие, скорее всего, мы переобучились. Может в этом помочь регуляризация или отбор признаков. Но для начала, посмотрим, насколько плох ответ нашего алго для тестового элемента"
   ]
  },
  {
   "cell_type": "code",
   "execution_count": 378,
   "metadata": {},
   "outputs": [
    {
     "data": {
      "text/plain": [
       "\n",
       "\tLilliefors (Kolmogorov-Smirnov) normality test\n",
       "\n",
       "data:  data6.linear$residuals\n",
       "D = 0.40623, p-value < 2.2e-16\n"
      ]
     },
     "metadata": {},
     "output_type": "display_data"
    }
   ],
   "source": [
    "nortest::lillie.test(data6.linear$residuals)"
   ]
  },
  {
   "cell_type": "code",
   "execution_count": 379,
   "metadata": {},
   "outputs": [
    {
     "name": "stderr",
     "output_type": "stream",
     "text": [
      "Warning message:\n",
      "“'qq.plot' is deprecated.\n",
      "Use 'qqPlot' instead.\n",
      "See help(\"Deprecated\") and help(\"car-deprecated\").”"
     ]
    },
    {
     "data": {
      "image/png": "[encoded data removed]",
      "text/plain": [
       "plot without title"
      ]
     },
     "metadata": {},
     "output_type": "display_data"
    }
   ],
   "source": [
    "qq.plot(data6.linear$residuals)"
   ]
  },
  {
   "cell_type": "markdown",
   "metadata": {},
   "source": [
    "Остатки выглядят, что распределены нормально, но есть пара выбросов, которые очень портят нашу статистику. Поэтому критерий Фишера вроде можно применить., как и Стьюдента, ну и прямолинейный отбор тоже можно попробовать"
   ]
  },
  {
   "cell_type": "code",
   "execution_count": 401,
   "metadata": {
    "collapsed": true
   },
   "outputs": [],
   "source": [
    "library('foreign')\n",
    "library('MASS')"
   ]
  },
  {
   "cell_type": "code",
   "execution_count": 377,
   "metadata": {},
   "outputs": [
    {
     "data": {
      "text/html": [
       "<table>\n",
       "<thead><tr><th></th><th scope=col>V7</th></tr></thead>\n",
       "<tbody>\n",
       "\t<tr><th scope=row>401</th><td>60497597</td></tr>\n",
       "</tbody>\n",
       "</table>\n"
      ],
      "text/latex": [
       "\\begin{tabular}{r|l}\n",
       "  & V7\\\\\n",
       "\\hline\n",
       "\t401 & 60497597\\\\\n",
       "\\end{tabular}\n"
      ],
      "text/markdown": [
       "\n",
       "| <!--/--> | V7 | \n",
       "|---|\n",
       "| 401 | 60497597 | \n",
       "\n",
       "\n"
      ],
      "text/plain": [
       "    V7      \n",
       "401 60497597"
      ]
     },
     "metadata": {},
     "output_type": "display_data"
    }
   ],
   "source": [
    "(data6.test['V7'] - predict(data6.linear, test[-7])) ** 2"
   ]
  },
  {
   "cell_type": "markdown",
   "metadata": {},
   "source": [
    "Совсем не то, чего мы хотим("
   ]
  },
  {
   "cell_type": "code",
   "execution_count": null,
   "metadata": {
    "collapsed": true
   },
   "outputs": [],
   "source": []
  },
  {
   "cell_type": "markdown",
   "metadata": {},
   "source": [
    "C отбором"
   ]
  },
  {
   "cell_type": "code",
   "execution_count": 433,
   "metadata": {},
   "outputs": [
    {
     "data": {
      "text/plain": [
       "AIC\n",
       "BICq equivalent for q in (0, 0.913406738151602)\n",
       "Best Model:\n",
       "            Estimate Std. Error  t value    Pr(>|t|)\n",
       "(Intercept) 88.35431   29.60841 2.984095 0.003019085"
      ]
     },
     "metadata": {},
     "output_type": "display_data"
    }
   ],
   "source": [
    "bestglm(data6.train, IC=\"AIC\")"
   ]
  },
  {
   "cell_type": "code",
   "execution_count": 434,
   "metadata": {},
   "outputs": [
    {
     "data": {
      "text/html": [
       "<table>\n",
       "<thead><tr><th></th><th scope=col>V7</th></tr></thead>\n",
       "<tbody>\n",
       "\t<tr><th scope=row>401</th><td>2475.79</td></tr>\n",
       "</tbody>\n",
       "</table>\n"
      ],
      "text/latex": [
       "\\begin{tabular}{r|l}\n",
       "  & V7\\\\\n",
       "\\hline\n",
       "\t401 & 2475.79\\\\\n",
       "\\end{tabular}\n"
      ],
      "text/markdown": [
       "\n",
       "| <!--/--> | V7 | \n",
       "|---|\n",
       "| 401 | 2475.79 | \n",
       "\n",
       "\n"
      ],
      "text/plain": [
       "    V7     \n",
       "401 2475.79"
      ]
     },
     "metadata": {},
     "output_type": "display_data"
    }
   ],
   "source": [
    "(data6.test['V7'] - predict(bestglm(data6.train, IC=\"AIC\")$BestModel, test[-7])) ** 2"
   ]
  },
  {
   "cell_type": "markdown",
   "metadata": {},
   "source": [
    "Он вообще никакие признаки не стал брать, значит они вообще неинформативны стали("
   ]
  },
  {
   "cell_type": "markdown",
   "metadata": {},
   "source": [
    "После отбора признаков стало все намного лучше"
   ]
  },
  {
   "cell_type": "markdown",
   "metadata": {},
   "source": [
    "Теперь попробуем построить робастную модель, которая убрав выбросы, должна показать очень зороший результат!"
   ]
  },
  {
   "cell_type": "code",
   "execution_count": 382,
   "metadata": {},
   "outputs": [
    {
     "data": {
      "text/plain": [
       "\n",
       "Call:\n",
       "lm(formula = V7 ~ ., data = data6.train)\n",
       "\n",
       "Residuals:\n",
       "    Min      1Q  Median      3Q     Max \n",
       "-1072.9   -80.9   -41.7     3.7  9004.7 \n",
       "\n",
       "Coefficients:\n",
       "            Estimate Std. Error t value Pr(>|t|)\n",
       "(Intercept)   123.37     223.87   0.551    0.582\n",
       "V1            752.94    1406.77   0.535    0.593\n",
       "V2            163.81     236.62   0.692    0.489\n",
       "V3           -569.91     788.25  -0.723    0.470\n",
       "V4            103.51     100.23   1.033    0.302\n",
       "V5           -742.46    1409.95  -0.527    0.599\n",
       "V6            -34.87      67.66  -0.515    0.607\n",
       "\n",
       "Residual standard error: 594.3 on 393 degrees of freedom\n",
       "Multiple R-squared:  0.008095,\tAdjusted R-squared:  -0.007049 \n",
       "F-statistic: 0.5346 on 6 and 393 DF,  p-value: 0.782\n"
      ]
     },
     "metadata": {},
     "output_type": "display_data"
    }
   ],
   "source": [
    "summary(ols <- lm(V7 ~ ., data = data6.train))"
   ]
  },
  {
   "cell_type": "markdown",
   "metadata": {},
   "source": [
    "Посмотрим на графики, чтобы выявить выбросы"
   ]
  },
  {
   "cell_type": "code",
   "execution_count": 384,
   "metadata": {
    "collapsed": true
   },
   "outputs": [],
   "source": [
    "help(par)"
   ]
  },
  {
   "cell_type": "code",
   "execution_count": 383,
   "metadata": {
    "scrolled": false
   },
   "outputs": [
    {
     "data": {
      "image/png": "[encoded data removed]",
      "text/plain": [
       "Plot with title “”"
      ]
     },
     "metadata": {},
     "output_type": "display_data"
    }
   ],
   "source": [
    "opar <- par(mfrow = c(2,2), oma = c(0, 0, 1.1, 0))\n",
    "plot(ols, las = 1)"
   ]
  },
  {
   "cell_type": "markdown",
   "metadata": {},
   "source": [
    "Подозреваевыми выбросами являются элементы с номерами: 10 , 90, 216\n",
    "Взглянем на них"
   ]
  },
  {
   "cell_type": "code",
   "execution_count": 399,
   "metadata": {},
   "outputs": [
    {
     "data": {
      "text/html": [
       "88.2302269326683"
      ],
      "text/latex": [
       "88.2302269326683"
      ],
      "text/markdown": [
       "88.2302269326683"
      ],
      "text/plain": [
       "[1] 88.23023"
      ]
     },
     "metadata": {},
     "output_type": "display_data"
    },
    {
     "data": {
      "text/html": [
       "49.343"
      ],
      "text/latex": [
       "49.343"
      ],
      "text/markdown": [
       "49.343"
      ],
      "text/plain": [
       "[1] 49.343"
      ]
     },
     "metadata": {},
     "output_type": "display_data"
    }
   ],
   "source": [
    "mean((data6[['V7']]))\n",
    "median((data6[['V7']])) "
   ]
  },
  {
   "cell_type": "code",
   "execution_count": 390,
   "metadata": {},
   "outputs": [
    {
     "data": {
      "text/html": [
       "<table>\n",
       "<thead><tr><th></th><th scope=col>V1</th><th scope=col>V2</th><th scope=col>V3</th><th scope=col>V4</th><th scope=col>V5</th><th scope=col>V6</th><th scope=col>V7</th></tr></thead>\n",
       "<tbody>\n",
       "\t<tr><th scope=row>10</th><td>1.729    </td><td>4.988    </td><td>1.661    </td><td>1.911    </td><td>1.687    </td><td>1.911    </td><td> 7536.898</td></tr>\n",
       "\t<tr><th scope=row>90</th><td>2.235    </td><td>3.605    </td><td>1.355    </td><td>1.418    </td><td>2.227    </td><td>1.418    </td><td>-1004.473</td></tr>\n",
       "\t<tr><th scope=row>216</th><td>2.515    </td><td>0.973    </td><td>0.456    </td><td>2.000    </td><td>2.540    </td><td>2.346    </td><td> 9160.565</td></tr>\n",
       "</tbody>\n",
       "</table>\n"
      ],
      "text/latex": [
       "\\begin{tabular}{r|lllllll}\n",
       "  & V1 & V2 & V3 & V4 & V5 & V6 & V7\\\\\n",
       "\\hline\n",
       "\t10 & 1.729     & 4.988     & 1.661     & 1.911     & 1.687     & 1.911     &  7536.898\\\\\n",
       "\t90 & 2.235     & 3.605     & 1.355     & 1.418     & 2.227     & 1.418     & -1004.473\\\\\n",
       "\t216 & 2.515     & 0.973     & 0.456     & 2.000     & 2.540     & 2.346     &  9160.565\\\\\n",
       "\\end{tabular}\n"
      ],
      "text/markdown": [
       "\n",
       "| <!--/--> | V1 | V2 | V3 | V4 | V5 | V6 | V7 | \n",
       "|---|---|---|\n",
       "| 10 | 1.729     | 4.988     | 1.661     | 1.911     | 1.687     | 1.911     |  7536.898 | \n",
       "| 90 | 2.235     | 3.605     | 1.355     | 1.418     | 2.227     | 1.418     | -1004.473 | \n",
       "| 216 | 2.515     | 0.973     | 0.456     | 2.000     | 2.540     | 2.346     |  9160.565 | \n",
       "\n",
       "\n"
      ],
      "text/plain": [
       "    V1    V2    V3    V4    V5    V6    V7       \n",
       "10  1.729 4.988 1.661 1.911 1.687 1.911  7536.898\n",
       "90  2.235 3.605 1.355 1.418 2.227 1.418 -1004.473\n",
       "216 2.515 0.973 0.456 2.000 2.540 2.346  9160.565"
      ]
     },
     "metadata": {},
     "output_type": "display_data"
    }
   ],
   "source": [
    "data6.train[c(10, 90, 216),]"
   ]
  },
  {
   "cell_type": "markdown",
   "metadata": {},
   "source": [
    "Видно, что у них отклик слишком сильно оклонен от среднего, да и медианы"
   ]
  },
  {
   "cell_type": "markdown",
   "metadata": {},
   "source": [
    "Неплохо было бы их выкинуть"
   ]
  },
  {
   "cell_type": "code",
   "execution_count": 402,
   "metadata": {},
   "outputs": [],
   "source": [
    "d1 <- cooks.distance(ols)\n",
    "r <- stdres(ols)\n",
    "a <- cbind(data6.train, d1, r)"
   ]
  },
  {
   "cell_type": "markdown",
   "metadata": {},
   "source": [
    "$(1, 3\\overline{D}, \\frac{4}{n})$"
   ]
  },
  {
   "cell_type": "code",
   "execution_count": 404,
   "metadata": {
    "collapsed": true
   },
   "outputs": [],
   "source": [
    "cook_bounds <- c(1, 3 * mean(d1), (4 / length(row.names(data6.train))))"
   ]
  },
  {
   "cell_type": "code",
   "execution_count": 405,
   "metadata": {},
   "outputs": [
    {
     "data": {
      "text/html": [
       "<ol class=list-inline>\n",
       "\t<li>1</li>\n",
       "\t<li>0.00704880053107802</li>\n",
       "\t<li>0.01</li>\n",
       "</ol>\n"
      ],
      "text/latex": [
       "\\begin{enumerate*}\n",
       "\\item 1\n",
       "\\item 0.00704880053107802\n",
       "\\item 0.01\n",
       "\\end{enumerate*}\n"
      ],
      "text/markdown": [
       "1. 1\n",
       "2. 0.00704880053107802\n",
       "3. 0.01\n",
       "\n",
       "\n"
      ],
      "text/plain": [
       "[1] 1.000000000 0.007048801 0.010000000"
      ]
     },
     "metadata": {},
     "output_type": "display_data"
    }
   ],
   "source": [
    "cook_bounds"
   ]
  },
  {
   "cell_type": "code",
   "execution_count": 410,
   "metadata": {},
   "outputs": [
    {
     "data": {
      "text/html": [
       "<table>\n",
       "<thead><tr><th scope=col>V1</th><th scope=col>V2</th><th scope=col>V3</th><th scope=col>V4</th><th scope=col>V5</th><th scope=col>V6</th><th scope=col>V7</th><th scope=col>d1</th><th scope=col>r</th></tr></thead>\n",
       "<tbody>\n",
       "</tbody>\n",
       "</table>\n"
      ],
      "text/latex": [
       "\\begin{tabular}{r|lllllllll}\n",
       " V1 & V2 & V3 & V4 & V5 & V6 & V7 & d1 & r\\\\\n",
       "\\hline\n",
       "\\end{tabular}\n"
      ],
      "text/markdown": [
       "\n",
       "V1 | V2 | V3 | V4 | V5 | V6 | V7 | d1 | r | \n",
       "||\n",
       "\n",
       "\n"
      ],
      "text/plain": [
       "     V1 V2 V3 V4 V5 V6 V7 d1 r"
      ]
     },
     "metadata": {},
     "output_type": "display_data"
    }
   ],
   "source": [
    "a[d1 > cook_bounds[1],]"
   ]
  },
  {
   "cell_type": "code",
   "execution_count": 411,
   "metadata": {},
   "outputs": [
    {
     "data": {
      "text/html": [
       "<table>\n",
       "<thead><tr><th></th><th scope=col>V1</th><th scope=col>V2</th><th scope=col>V3</th><th scope=col>V4</th><th scope=col>V5</th><th scope=col>V6</th><th scope=col>V7</th><th scope=col>d1</th><th scope=col>r</th></tr></thead>\n",
       "<tbody>\n",
       "\t<tr><th scope=row>10</th><td>1.729     </td><td>4.988     </td><td>1.661     </td><td>1.911     </td><td>1.687     </td><td>1.911     </td><td> 7536.898 </td><td>0.43092660</td><td>12.508517 </td></tr>\n",
       "\t<tr><th scope=row>90</th><td>2.235     </td><td>3.605     </td><td>1.355     </td><td>1.418     </td><td>2.227     </td><td>1.418     </td><td>-1004.473 </td><td>0.01132909</td><td>-1.826719 </td></tr>\n",
       "\t<tr><th scope=row>216</th><td>2.515     </td><td>0.973     </td><td>0.456     </td><td>2.000     </td><td>2.540     </td><td>2.346     </td><td> 9160.565 </td><td>0.47906933</td><td>15.261645 </td></tr>\n",
       "</tbody>\n",
       "</table>\n"
      ],
      "text/latex": [
       "\\begin{tabular}{r|lllllllll}\n",
       "  & V1 & V2 & V3 & V4 & V5 & V6 & V7 & d1 & r\\\\\n",
       "\\hline\n",
       "\t10 & 1.729      & 4.988      & 1.661      & 1.911      & 1.687      & 1.911      &  7536.898  & 0.43092660 & 12.508517 \\\\\n",
       "\t90 & 2.235      & 3.605      & 1.355      & 1.418      & 2.227      & 1.418      & -1004.473  & 0.01132909 & -1.826719 \\\\\n",
       "\t216 & 2.515      & 0.973      & 0.456      & 2.000      & 2.540      & 2.346      &  9160.565  & 0.47906933 & 15.261645 \\\\\n",
       "\\end{tabular}\n"
      ],
      "text/markdown": [
       "\n",
       "| <!--/--> | V1 | V2 | V3 | V4 | V5 | V6 | V7 | d1 | r | \n",
       "|---|---|---|\n",
       "| 10 | 1.729      | 4.988      | 1.661      | 1.911      | 1.687      | 1.911      |  7536.898  | 0.43092660 | 12.508517  | \n",
       "| 90 | 2.235      | 3.605      | 1.355      | 1.418      | 2.227      | 1.418      | -1004.473  | 0.01132909 | -1.826719  | \n",
       "| 216 | 2.515      | 0.973      | 0.456      | 2.000      | 2.540      | 2.346      |  9160.565  | 0.47906933 | 15.261645  | \n",
       "\n",
       "\n"
      ],
      "text/plain": [
       "    V1    V2    V3    V4    V5    V6    V7        d1         r        \n",
       "10  1.729 4.988 1.661 1.911 1.687 1.911  7536.898 0.43092660 12.508517\n",
       "90  2.235 3.605 1.355 1.418 2.227 1.418 -1004.473 0.01132909 -1.826719\n",
       "216 2.515 0.973 0.456 2.000 2.540 2.346  9160.565 0.47906933 15.261645"
      ]
     },
     "metadata": {},
     "output_type": "display_data"
    }
   ],
   "source": [
    "a[d1 > cook_bounds[2],]"
   ]
  },
  {
   "cell_type": "code",
   "execution_count": 412,
   "metadata": {},
   "outputs": [
    {
     "data": {
      "text/html": [
       "<table>\n",
       "<thead><tr><th></th><th scope=col>V1</th><th scope=col>V2</th><th scope=col>V3</th><th scope=col>V4</th><th scope=col>V5</th><th scope=col>V6</th><th scope=col>V7</th><th scope=col>d1</th><th scope=col>r</th></tr></thead>\n",
       "<tbody>\n",
       "\t<tr><th scope=row>10</th><td>1.729     </td><td>4.988     </td><td>1.661     </td><td>1.911     </td><td>1.687     </td><td>1.911     </td><td> 7536.898 </td><td>0.43092660</td><td>12.508517 </td></tr>\n",
       "\t<tr><th scope=row>90</th><td>2.235     </td><td>3.605     </td><td>1.355     </td><td>1.418     </td><td>2.227     </td><td>1.418     </td><td>-1004.473 </td><td>0.01132909</td><td>-1.826719 </td></tr>\n",
       "\t<tr><th scope=row>216</th><td>2.515     </td><td>0.973     </td><td>0.456     </td><td>2.000     </td><td>2.540     </td><td>2.346     </td><td> 9160.565 </td><td>0.47906933</td><td>15.261645 </td></tr>\n",
       "</tbody>\n",
       "</table>\n"
      ],
      "text/latex": [
       "\\begin{tabular}{r|lllllllll}\n",
       "  & V1 & V2 & V3 & V4 & V5 & V6 & V7 & d1 & r\\\\\n",
       "\\hline\n",
       "\t10 & 1.729      & 4.988      & 1.661      & 1.911      & 1.687      & 1.911      &  7536.898  & 0.43092660 & 12.508517 \\\\\n",
       "\t90 & 2.235      & 3.605      & 1.355      & 1.418      & 2.227      & 1.418      & -1004.473  & 0.01132909 & -1.826719 \\\\\n",
       "\t216 & 2.515      & 0.973      & 0.456      & 2.000      & 2.540      & 2.346      &  9160.565  & 0.47906933 & 15.261645 \\\\\n",
       "\\end{tabular}\n"
      ],
      "text/markdown": [
       "\n",
       "| <!--/--> | V1 | V2 | V3 | V4 | V5 | V6 | V7 | d1 | r | \n",
       "|---|---|---|\n",
       "| 10 | 1.729      | 4.988      | 1.661      | 1.911      | 1.687      | 1.911      |  7536.898  | 0.43092660 | 12.508517  | \n",
       "| 90 | 2.235      | 3.605      | 1.355      | 1.418      | 2.227      | 1.418      | -1004.473  | 0.01132909 | -1.826719  | \n",
       "| 216 | 2.515      | 0.973      | 0.456      | 2.000      | 2.540      | 2.346      |  9160.565  | 0.47906933 | 15.261645  | \n",
       "\n",
       "\n"
      ],
      "text/plain": [
       "    V1    V2    V3    V4    V5    V6    V7        d1         r        \n",
       "10  1.729 4.988 1.661 1.911 1.687 1.911  7536.898 0.43092660 12.508517\n",
       "90  2.235 3.605 1.355 1.418 2.227 1.418 -1004.473 0.01132909 -1.826719\n",
       "216 2.515 0.973 0.456 2.000 2.540 2.346  9160.565 0.47906933 15.261645"
      ]
     },
     "metadata": {},
     "output_type": "display_data"
    }
   ],
   "source": [
    "a[d1 > cook_bounds[3],]"
   ]
  },
  {
   "cell_type": "markdown",
   "metadata": {},
   "source": [
    "Да! Получили те же элементы, что мы и ожидали"
   ]
  },
  {
   "cell_type": "markdown",
   "metadata": {},
   "source": [
    "Воспользуемся реализованным методом для Робастной регрессии"
   ]
  },
  {
   "cell_type": "code",
   "execution_count": 413,
   "metadata": {},
   "outputs": [
    {
     "data": {
      "text/plain": [
       "\n",
       "Call: rlm(formula = V7 ~ ., data = data6.train)\n",
       "Residuals:\n",
       "       Min         1Q     Median         3Q        Max \n",
       "-1.041e+03 -1.117e+00  4.122e-02  1.070e+00  9.128e+03 \n",
       "\n",
       "Coefficients:\n",
       "            Value   Std. Error t value\n",
       "(Intercept) -2.6190  0.8030    -3.2617\n",
       "V1           3.5393  5.0458     0.7014\n",
       "V2           3.4685  0.8487     4.0869\n",
       "V3          -1.7149  2.8273    -0.6065\n",
       "V4           0.0789  0.3595     0.2194\n",
       "V5          10.6435  5.0572     2.1046\n",
       "V6          -1.6527  0.2427    -6.8101\n",
       "\n",
       "Residual standard error: 1.685 on 393 degrees of freedom"
      ]
     },
     "metadata": {},
     "output_type": "display_data"
    }
   ],
   "source": [
    "summary(rr.huber <- rlm(V7 ~ ., data = data6.train))"
   ]
  },
  {
   "cell_type": "markdown",
   "metadata": {},
   "source": [
    "Здесь хоть получились не такие большие веса по модулю, что уже довольно-таки хорошо, протестируем на наешм элементе"
   ]
  },
  {
   "cell_type": "code",
   "execution_count": 414,
   "metadata": {},
   "outputs": [
    {
     "data": {
      "text/html": [
       "<table>\n",
       "<thead><tr><th></th><th scope=col>V7</th></tr></thead>\n",
       "<tbody>\n",
       "\t<tr><th scope=row>401</th><td>3741.097</td></tr>\n",
       "</tbody>\n",
       "</table>\n"
      ],
      "text/latex": [
       "\\begin{tabular}{r|l}\n",
       "  & V7\\\\\n",
       "\\hline\n",
       "\t401 & 3741.097\\\\\n",
       "\\end{tabular}\n"
      ],
      "text/markdown": [
       "\n",
       "| <!--/--> | V7 | \n",
       "|---|\n",
       "| 401 | 3741.097 | \n",
       "\n",
       "\n"
      ],
      "text/plain": [
       "    V7      \n",
       "401 3741.097"
      ]
     },
     "metadata": {},
     "output_type": "display_data"
    }
   ],
   "source": [
    "(data6.test['V7'] - predict(rr.huber, test[-7])) ** 2"
   ]
  },
  {
   "cell_type": "markdown",
   "metadata": {},
   "source": [
    "Ошибка уменьшилась в огромное число раз, по сравнению с неробастной моделью"
   ]
  },
  {
   "cell_type": "markdown",
   "metadata": {},
   "source": [
    "Попробуем сделать с другой функцие весов"
   ]
  },
  {
   "cell_type": "code",
   "execution_count": 416,
   "metadata": {},
   "outputs": [
    {
     "data": {
      "text/plain": [
       "\n",
       "Call: rlm(formula = V7 ~ ., data = data6.train, psi = psi.bisquare)\n",
       "Residuals:\n",
       "       Min         1Q     Median         3Q        Max \n",
       "-1.041e+03 -1.005e+00  8.819e-02  1.167e+00  9.128e+03 \n",
       "\n",
       "Coefficients:\n",
       "            Value   Std. Error t value\n",
       "(Intercept) -3.1682  0.6663    -4.7547\n",
       "V1          -1.5320  4.1872    -0.3659\n",
       "V2           3.2574  0.7043     4.6251\n",
       "V3          -1.0405  2.3462    -0.4435\n",
       "V4           0.2606  0.2983     0.8736\n",
       "V5          15.7781  4.1967     3.7596\n",
       "V6          -1.6641  0.2014    -8.2629\n",
       "\n",
       "Residual standard error: 1.593 on 393 degrees of freedom"
      ]
     },
     "metadata": {},
     "output_type": "display_data"
    }
   ],
   "source": [
    "rr.bisquare <- rlm(V7 ~ ., data = data6.train, psi = psi.bisquare)\n",
    "summary(rr.bisquare)"
   ]
  },
  {
   "cell_type": "code",
   "execution_count": 417,
   "metadata": {},
   "outputs": [
    {
     "data": {
      "text/html": [
       "<table>\n",
       "<thead><tr><th></th><th scope=col>V7</th></tr></thead>\n",
       "<tbody>\n",
       "\t<tr><th scope=row>401</th><td>2432.671</td></tr>\n",
       "</tbody>\n",
       "</table>\n"
      ],
      "text/latex": [
       "\\begin{tabular}{r|l}\n",
       "  & V7\\\\\n",
       "\\hline\n",
       "\t401 & 2432.671\\\\\n",
       "\\end{tabular}\n"
      ],
      "text/markdown": [
       "\n",
       "| <!--/--> | V7 | \n",
       "|---|\n",
       "| 401 | 2432.671 | \n",
       "\n",
       "\n"
      ],
      "text/plain": [
       "    V7      \n",
       "401 2432.671"
      ]
     },
     "metadata": {},
     "output_type": "display_data"
    }
   ],
   "source": [
    "(data6.test['V7'] - predict(rr.bisquare, test[-7])) ** 2"
   ]
  },
  {
   "cell_type": "markdown",
   "metadata": {},
   "source": [
    "Стало еще лучше. Ну и наконец посмотрим, что будет, если из изначальной выборки выкинуть те три точки и запустить обычную лингер"
   ]
  },
  {
   "cell_type": "code",
   "execution_count": 422,
   "metadata": {},
   "outputs": [
    {
     "data": {
      "text/plain": [
       "\n",
       "Call:\n",
       "lm(formula = V7 ~ ., data = data6.train[c(-10, -90, -216), ])\n",
       "\n",
       "Coefficients:\n",
       "(Intercept)           V1           V2           V3           V4           V5  \n",
       "    -0.8806     109.9646      -4.5552      24.8707      -3.3949     -95.3865  \n",
       "         V6  \n",
       "    -1.5887  \n"
      ]
     },
     "metadata": {},
     "output_type": "display_data"
    }
   ],
   "source": [
    "data6.linear.tuned <- lm(V7 ~ ., data=data6.train[c(-10, -90, -216),])\n",
    "data6.linear.tuned"
   ]
  },
  {
   "cell_type": "code",
   "execution_count": 423,
   "metadata": {},
   "outputs": [
    {
     "data": {
      "text/html": [
       "<table>\n",
       "<thead><tr><th></th><th scope=col>V7</th></tr></thead>\n",
       "<tbody>\n",
       "\t<tr><th scope=row>401</th><td>17612.99</td></tr>\n",
       "</tbody>\n",
       "</table>\n"
      ],
      "text/latex": [
       "\\begin{tabular}{r|l}\n",
       "  & V7\\\\\n",
       "\\hline\n",
       "\t401 & 17612.99\\\\\n",
       "\\end{tabular}\n"
      ],
      "text/markdown": [
       "\n",
       "| <!--/--> | V7 | \n",
       "|---|\n",
       "| 401 | 17612.99 | \n",
       "\n",
       "\n"
      ],
      "text/plain": [
       "    V7      \n",
       "401 17612.99"
      ]
     },
     "metadata": {},
     "output_type": "display_data"
    }
   ],
   "source": [
    "(data6.test['V7'] - predict(data6.linear.tuned, test[-7])) ** 2"
   ]
  },
  {
   "cell_type": "markdown",
   "metadata": {},
   "source": [
    "Хуже, чем встроенная регрессия, но лучше, чем было изначально, причем намного!"
   ]
  },
  {
   "cell_type": "code",
   "execution_count": 437,
   "metadata": {},
   "outputs": [],
   "source": [
    "corel <- cor(data6.train[-7])"
   ]
  },
  {
   "cell_type": "code",
   "execution_count": 447,
   "metadata": {},
   "outputs": [
    {
     "data": {
      "text/html": [
       "<table>\n",
       "<thead><tr><th></th><th scope=col>V1</th><th scope=col>V2</th><th scope=col>V3</th><th scope=col>V4</th><th scope=col>V5</th><th scope=col>V6</th></tr></thead>\n",
       "<tbody>\n",
       "\t<tr><th scope=row>V1</th><td> 1.000000000 </td><td>-0.002898147 </td><td>-0.004260410 </td><td>-0.0027729928</td><td> 0.9994858693</td><td>-0.03547643  </td></tr>\n",
       "\t<tr><th scope=row>V2</th><td>-0.002898147 </td><td> 1.000000000 </td><td> 0.999601422 </td><td>-0.0725881935</td><td>-0.0039221106</td><td>-0.09132865  </td></tr>\n",
       "\t<tr><th scope=row>V3</th><td>-0.004260410 </td><td> 0.999601422 </td><td> 1.000000000 </td><td>-0.0727958340</td><td>-0.0053052344</td><td>-0.09213216  </td></tr>\n",
       "\t<tr><th scope=row>V4</th><td>-0.002772993 </td><td>-0.072588193 </td><td>-0.072795834 </td><td> 1.0000000000</td><td>-0.0008949449</td><td> 0.70300021  </td></tr>\n",
       "\t<tr><th scope=row>V5</th><td> 0.999485869 </td><td>-0.003922111 </td><td>-0.005305234 </td><td>-0.0008949449</td><td> 1.0000000000</td><td>-0.03379616  </td></tr>\n",
       "\t<tr><th scope=row>V6</th><td>-0.035476433 </td><td>-0.091328653 </td><td>-0.092132156 </td><td> 0.7030002071</td><td>-0.0337961643</td><td> 1.00000000  </td></tr>\n",
       "</tbody>\n",
       "</table>\n"
      ],
      "text/latex": [
       "\\begin{tabular}{r|llllll}\n",
       "  & V1 & V2 & V3 & V4 & V5 & V6\\\\\n",
       "\\hline\n",
       "\tV1 &  1.000000000  & -0.002898147  & -0.004260410  & -0.0027729928 &  0.9994858693 & -0.03547643  \\\\\n",
       "\tV2 & -0.002898147  &  1.000000000  &  0.999601422  & -0.0725881935 & -0.0039221106 & -0.09132865  \\\\\n",
       "\tV3 & -0.004260410  &  0.999601422  &  1.000000000  & -0.0727958340 & -0.0053052344 & -0.09213216  \\\\\n",
       "\tV4 & -0.002772993  & -0.072588193  & -0.072795834  &  1.0000000000 & -0.0008949449 &  0.70300021  \\\\\n",
       "\tV5 &  0.999485869  & -0.003922111  & -0.005305234  & -0.0008949449 &  1.0000000000 & -0.03379616  \\\\\n",
       "\tV6 & -0.035476433  & -0.091328653  & -0.092132156  &  0.7030002071 & -0.0337961643 &  1.00000000  \\\\\n",
       "\\end{tabular}\n"
      ],
      "text/markdown": [
       "\n",
       "| <!--/--> | V1 | V2 | V3 | V4 | V5 | V6 | \n",
       "|---|---|---|---|---|---|\n",
       "| V1 |  1.000000000  | -0.002898147  | -0.004260410  | -0.0027729928 |  0.9994858693 | -0.03547643   | \n",
       "| V2 | -0.002898147  |  1.000000000  |  0.999601422  | -0.0725881935 | -0.0039221106 | -0.09132865   | \n",
       "| V3 | -0.004260410  |  0.999601422  |  1.000000000  | -0.0727958340 | -0.0053052344 | -0.09213216   | \n",
       "| V4 | -0.002772993  | -0.072588193  | -0.072795834  |  1.0000000000 | -0.0008949449 |  0.70300021   | \n",
       "| V5 |  0.999485869  | -0.003922111  | -0.005305234  | -0.0008949449 |  1.0000000000 | -0.03379616   | \n",
       "| V6 | -0.035476433  | -0.091328653  | -0.092132156  |  0.7030002071 | -0.0337961643 |  1.00000000   | \n",
       "\n",
       "\n"
      ],
      "text/plain": [
       "   V1           V2           V3           V4            V5           \n",
       "V1  1.000000000 -0.002898147 -0.004260410 -0.0027729928  0.9994858693\n",
       "V2 -0.002898147  1.000000000  0.999601422 -0.0725881935 -0.0039221106\n",
       "V3 -0.004260410  0.999601422  1.000000000 -0.0727958340 -0.0053052344\n",
       "V4 -0.002772993 -0.072588193 -0.072795834  1.0000000000 -0.0008949449\n",
       "V5  0.999485869 -0.003922111 -0.005305234 -0.0008949449  1.0000000000\n",
       "V6 -0.035476433 -0.091328653 -0.092132156  0.7030002071 -0.0337961643\n",
       "   V6         \n",
       "V1 -0.03547643\n",
       "V2 -0.09132865\n",
       "V3 -0.09213216\n",
       "V4  0.70300021\n",
       "V5 -0.03379616\n",
       "V6  1.00000000"
      ]
     },
     "metadata": {},
     "output_type": "display_data"
    }
   ],
   "source": [
    "corel"
   ]
  },
  {
   "cell_type": "markdown",
   "metadata": {},
   "source": []
  },
  {
   "cell_type": "code",
   "execution_count": 439,
   "metadata": {},
   "outputs": [
    {
     "data": {
      "text/html": [
       "<dl>\n",
       "\t<dt>$values</dt>\n",
       "\t\t<dd><ol class=list-inline>\n",
       "\t<li>2.07372300240046</li>\n",
       "\t<li>2.00285289365094</li>\n",
       "\t<li>1.62636766371661</li>\n",
       "\t<li>0.296147463559425</li>\n",
       "\t<li>0.000512725074420284</li>\n",
       "\t<li>0.000396251598147476</li>\n",
       "</ol>\n",
       "</dd>\n",
       "\t<dt>$vectors</dt>\n",
       "\t\t<dd><table>\n",
       "<tbody>\n",
       "\t<tr><td>-0.07669013  </td><td> 0.69948058  </td><td>-0.06812579  </td><td> 0.013936823 </td><td> 0.7045180469</td><td> 0.0605351110</td></tr>\n",
       "\t<tr><td>-0.63975465  </td><td>-0.09725359  </td><td>-0.28498612  </td><td> 0.008869863 </td><td>-0.0613413574</td><td> 0.7044126707</td></tr>\n",
       "\t<tr><td>-0.63979827  </td><td>-0.09819303  </td><td>-0.28447209  </td><td> 0.007314162 </td><td> 0.0607285650</td><td>-0.7045214530</td></tr>\n",
       "\t<tr><td> 0.28298314  </td><td>-0.01913160  </td><td>-0.64934211  </td><td>-0.705626051 </td><td> 0.0009135019</td><td> 0.0006253721</td></tr>\n",
       "\t<tr><td>-0.07555264  </td><td> 0.69952681  </td><td>-0.06917270  </td><td> 0.013422967 </td><td>-0.7044164086</td><td>-0.0615347208</td></tr>\n",
       "\t<tr><td> 0.29950482  </td><td>-0.04385203  </td><td>-0.63779886  </td><td> 0.708226866 </td><td> 0.0005381282</td><td>-0.0009481001</td></tr>\n",
       "</tbody>\n",
       "</table>\n",
       "</dd>\n",
       "</dl>\n"
      ],
      "text/latex": [
       "\\begin{description}\n",
       "\\item[\\$values] \\begin{enumerate*}\n",
       "\\item 2.07372300240046\n",
       "\\item 2.00285289365094\n",
       "\\item 1.62636766371661\n",
       "\\item 0.296147463559425\n",
       "\\item 0.000512725074420284\n",
       "\\item 0.000396251598147476\n",
       "\\end{enumerate*}\n",
       "\n",
       "\\item[\\$vectors] \\begin{tabular}{llllll}\n",
       "\t -0.07669013   &  0.69948058   & -0.06812579   &  0.013936823  &  0.7045180469 &  0.0605351110\\\\\n",
       "\t -0.63975465   & -0.09725359   & -0.28498612   &  0.008869863  & -0.0613413574 &  0.7044126707\\\\\n",
       "\t -0.63979827   & -0.09819303   & -0.28447209   &  0.007314162  &  0.0607285650 & -0.7045214530\\\\\n",
       "\t  0.28298314   & -0.01913160   & -0.64934211   & -0.705626051  &  0.0009135019 &  0.0006253721\\\\\n",
       "\t -0.07555264   &  0.69952681   & -0.06917270   &  0.013422967  & -0.7044164086 & -0.0615347208\\\\\n",
       "\t  0.29950482   & -0.04385203   & -0.63779886   &  0.708226866  &  0.0005381282 & -0.0009481001\\\\\n",
       "\\end{tabular}\n",
       "\n",
       "\\end{description}\n"
      ],
      "text/markdown": [
       "$values\n",
       ":   1. 2.07372300240046\n",
       "2. 2.00285289365094\n",
       "3. 1.62636766371661\n",
       "4. 0.296147463559425\n",
       "5. 0.000512725074420284\n",
       "6. 0.000396251598147476\n",
       "\n",
       "\n",
       "\n",
       "$vectors\n",
       ":   \n",
       "| -0.07669013   |  0.69948058   | -0.06812579   |  0.013936823  |  0.7045180469 |  0.0605351110 | \n",
       "| -0.63975465   | -0.09725359   | -0.28498612   |  0.008869863  | -0.0613413574 |  0.7044126707 | \n",
       "| -0.63979827   | -0.09819303   | -0.28447209   |  0.007314162  |  0.0607285650 | -0.7045214530 | \n",
       "|  0.28298314   | -0.01913160   | -0.64934211   | -0.705626051  |  0.0009135019 |  0.0006253721 | \n",
       "| -0.07555264   |  0.69952681   | -0.06917270   |  0.013422967  | -0.7044164086 | -0.0615347208 | \n",
       "|  0.29950482   | -0.04385203   | -0.63779886   |  0.708226866  |  0.0005381282 | -0.0009481001 | \n",
       "\n",
       "\n",
       "\n",
       "\n",
       "\n"
      ],
      "text/plain": [
       "$values\n",
       "[1] 2.0737230024 2.0028528937 1.6263676637 0.2961474636 0.0005127251\n",
       "[6] 0.0003962516\n",
       "\n",
       "$vectors\n",
       "            [,1]        [,2]        [,3]         [,4]          [,5]\n",
       "[1,] -0.07669013  0.69948058 -0.06812579  0.013936823  0.7045180469\n",
       "[2,] -0.63975465 -0.09725359 -0.28498612  0.008869863 -0.0613413574\n",
       "[3,] -0.63979827 -0.09819303 -0.28447209  0.007314162  0.0607285650\n",
       "[4,]  0.28298314 -0.01913160 -0.64934211 -0.705626051  0.0009135019\n",
       "[5,] -0.07555264  0.69952681 -0.06917270  0.013422967 -0.7044164086\n",
       "[6,]  0.29950482 -0.04385203 -0.63779886  0.708226866  0.0005381282\n",
       "              [,6]\n",
       "[1,]  0.0605351110\n",
       "[2,]  0.7044126707\n",
       "[3,] -0.7045214530\n",
       "[4,]  0.0006253721\n",
       "[5,] -0.0615347208\n",
       "[6,] -0.0009481001\n"
      ]
     },
     "metadata": {},
     "output_type": "display_data"
    }
   ],
   "source": [
    "eigen6 <- eigen(corel)\n",
    "eigen6"
   ]
  },
  {
   "cell_type": "code",
   "execution_count": 440,
   "metadata": {},
   "outputs": [
    {
     "data": {
      "text/html": [
       "5233.34924602289"
      ],
      "text/latex": [
       "5233.34924602289"
      ],
      "text/markdown": [
       "5233.34924602289"
      ],
      "text/plain": [
       "[1] 5233.349"
      ]
     },
     "metadata": {},
     "output_type": "display_data"
    }
   ],
   "source": [
    "max(eigen6$values) / min(eigen6$values)"
   ]
  },
  {
   "cell_type": "markdown",
   "metadata": {},
   "source": [
    "У нас есть проблема мультиколлинеарности"
   ]
  },
  {
   "cell_type": "code",
   "execution_count": 444,
   "metadata": {},
   "outputs": [
    {
     "data": {
      "text/html": [
       "<dl class=dl-horizontal>\n",
       "\t<dt>V1</dt>\n",
       "\t\t<dd>977.552777733538</dd>\n",
       "\t<dt>V2</dt>\n",
       "\t\t<dd>1259.81870334634</dd>\n",
       "\t<dt>V3</dt>\n",
       "\t\t<dd>1260.05945529352</dd>\n",
       "\t<dt>V4</dt>\n",
       "\t\t<dd>1.98195374745881</dd>\n",
       "\t<dt>V5</dt>\n",
       "\t\t<dd>977.581413353906</dd>\n",
       "\t<dt>V6</dt>\n",
       "\t\t<dd>1.9908717759884</dd>\n",
       "</dl>\n"
      ],
      "text/latex": [
       "\\begin{description*}\n",
       "\\item[V1] 977.552777733538\n",
       "\\item[V2] 1259.81870334634\n",
       "\\item[V3] 1260.05945529352\n",
       "\\item[V4] 1.98195374745881\n",
       "\\item[V5] 977.581413353906\n",
       "\\item[V6] 1.9908717759884\n",
       "\\end{description*}\n"
      ],
      "text/markdown": [
       "V1\n",
       ":   977.552777733538V2\n",
       ":   1259.81870334634V3\n",
       ":   1260.05945529352V4\n",
       ":   1.98195374745881V5\n",
       ":   977.581413353906V6\n",
       ":   1.9908717759884\n",
       "\n"
      ],
      "text/plain": [
       "         V1          V2          V3          V4          V5          V6 \n",
       " 977.552778 1259.818703 1260.059455    1.981954  977.581413    1.990872 "
      ]
     },
     "metadata": {},
     "output_type": "display_data"
    }
   ],
   "source": [
    "vif(rr.bisquare)"
   ]
  },
  {
   "cell_type": "markdown",
   "metadata": {},
   "source": [
    "Дропнем все, кроме 4 и 6, так как остальные итак хорошо обхясняются другими и построим модель"
   ]
  },
  {
   "cell_type": "code",
   "execution_count": 445,
   "metadata": {},
   "outputs": [
    {
     "data": {
      "text/plain": [
       "\n",
       "Call: rlm(formula = V7 ~ V4 + V6, data = data6.train, psi = psi.bisquare)\n",
       "Residuals:\n",
       "      Min        1Q    Median        3Q       Max \n",
       "-1055.443   -12.525     1.142    11.634  9113.622 \n",
       "\n",
       "Coefficients:\n",
       "            Value   Std. Error t value\n",
       "(Intercept) 57.4281  3.7574    15.2840\n",
       "V4          -0.5787  3.0843    -0.1876\n",
       "V6          -3.9761  2.0773    -1.9140\n",
       "\n",
       "Residual standard error: 17.58 on 397 degrees of freedom"
      ]
     },
     "metadata": {},
     "output_type": "display_data"
    }
   ],
   "source": [
    "rr.bisquare <- rlm(V7 ~ V4 + V6, data = data6.train, psi = psi.bisquare)\n",
    "summary(rr.bisquare)"
   ]
  },
  {
   "cell_type": "code",
   "execution_count": 446,
   "metadata": {
    "scrolled": false
   },
   "outputs": [
    {
     "data": {
      "text/html": [
       "<table>\n",
       "<thead><tr><th></th><th scope=col>V7</th></tr></thead>\n",
       "<tbody>\n",
       "\t<tr><th scope=row>401</th><td>5824.433</td></tr>\n",
       "</tbody>\n",
       "</table>\n"
      ],
      "text/latex": [
       "\\begin{tabular}{r|l}\n",
       "  & V7\\\\\n",
       "\\hline\n",
       "\t401 & 5824.433\\\\\n",
       "\\end{tabular}\n"
      ],
      "text/markdown": [
       "\n",
       "| <!--/--> | V7 | \n",
       "|---|\n",
       "| 401 | 5824.433 | \n",
       "\n",
       "\n"
      ],
      "text/plain": [
       "    V7      \n",
       "401 5824.433"
      ]
     },
     "metadata": {},
     "output_type": "display_data"
    }
   ],
   "source": [
    "(data6.test['V7'] - predict(rr.bisquare, test[-7])) ** 2"
   ]
  },
  {
   "cell_type": "markdown",
   "metadata": {},
   "source": [
    "Не очень, а взглянем на матрицу ковариаций и оставим только тот набор признаков, чтобы к нему нельзя добавить другой, который коррелирует зотя бы с одним < 0.99"
   ]
  },
  {
   "cell_type": "code",
   "execution_count": 448,
   "metadata": {
    "scrolled": true
   },
   "outputs": [
    {
     "data": {
      "text/html": [
       "<table>\n",
       "<thead><tr><th></th><th scope=col>V1</th><th scope=col>V2</th><th scope=col>V3</th><th scope=col>V4</th><th scope=col>V5</th><th scope=col>V6</th></tr></thead>\n",
       "<tbody>\n",
       "\t<tr><th scope=row>V1</th><td> 1.000000000 </td><td>-0.002898147 </td><td>-0.004260410 </td><td>-0.0027729928</td><td> 0.9994858693</td><td>-0.03547643  </td></tr>\n",
       "\t<tr><th scope=row>V2</th><td>-0.002898147 </td><td> 1.000000000 </td><td> 0.999601422 </td><td>-0.0725881935</td><td>-0.0039221106</td><td>-0.09132865  </td></tr>\n",
       "\t<tr><th scope=row>V3</th><td>-0.004260410 </td><td> 0.999601422 </td><td> 1.000000000 </td><td>-0.0727958340</td><td>-0.0053052344</td><td>-0.09213216  </td></tr>\n",
       "\t<tr><th scope=row>V4</th><td>-0.002772993 </td><td>-0.072588193 </td><td>-0.072795834 </td><td> 1.0000000000</td><td>-0.0008949449</td><td> 0.70300021  </td></tr>\n",
       "\t<tr><th scope=row>V5</th><td> 0.999485869 </td><td>-0.003922111 </td><td>-0.005305234 </td><td>-0.0008949449</td><td> 1.0000000000</td><td>-0.03379616  </td></tr>\n",
       "\t<tr><th scope=row>V6</th><td>-0.035476433 </td><td>-0.091328653 </td><td>-0.092132156 </td><td> 0.7030002071</td><td>-0.0337961643</td><td> 1.00000000  </td></tr>\n",
       "</tbody>\n",
       "</table>\n"
      ],
      "text/latex": [
       "\\begin{tabular}{r|llllll}\n",
       "  & V1 & V2 & V3 & V4 & V5 & V6\\\\\n",
       "\\hline\n",
       "\tV1 &  1.000000000  & -0.002898147  & -0.004260410  & -0.0027729928 &  0.9994858693 & -0.03547643  \\\\\n",
       "\tV2 & -0.002898147  &  1.000000000  &  0.999601422  & -0.0725881935 & -0.0039221106 & -0.09132865  \\\\\n",
       "\tV3 & -0.004260410  &  0.999601422  &  1.000000000  & -0.0727958340 & -0.0053052344 & -0.09213216  \\\\\n",
       "\tV4 & -0.002772993  & -0.072588193  & -0.072795834  &  1.0000000000 & -0.0008949449 &  0.70300021  \\\\\n",
       "\tV5 &  0.999485869  & -0.003922111  & -0.005305234  & -0.0008949449 &  1.0000000000 & -0.03379616  \\\\\n",
       "\tV6 & -0.035476433  & -0.091328653  & -0.092132156  &  0.7030002071 & -0.0337961643 &  1.00000000  \\\\\n",
       "\\end{tabular}\n"
      ],
      "text/markdown": [
       "\n",
       "| <!--/--> | V1 | V2 | V3 | V4 | V5 | V6 | \n",
       "|---|---|---|---|---|---|\n",
       "| V1 |  1.000000000  | -0.002898147  | -0.004260410  | -0.0027729928 |  0.9994858693 | -0.03547643   | \n",
       "| V2 | -0.002898147  |  1.000000000  |  0.999601422  | -0.0725881935 | -0.0039221106 | -0.09132865   | \n",
       "| V3 | -0.004260410  |  0.999601422  |  1.000000000  | -0.0727958340 | -0.0053052344 | -0.09213216   | \n",
       "| V4 | -0.002772993  | -0.072588193  | -0.072795834  |  1.0000000000 | -0.0008949449 |  0.70300021   | \n",
       "| V5 |  0.999485869  | -0.003922111  | -0.005305234  | -0.0008949449 |  1.0000000000 | -0.03379616   | \n",
       "| V6 | -0.035476433  | -0.091328653  | -0.092132156  |  0.7030002071 | -0.0337961643 |  1.00000000   | \n",
       "\n",
       "\n"
      ],
      "text/plain": [
       "   V1           V2           V3           V4            V5           \n",
       "V1  1.000000000 -0.002898147 -0.004260410 -0.0027729928  0.9994858693\n",
       "V2 -0.002898147  1.000000000  0.999601422 -0.0725881935 -0.0039221106\n",
       "V3 -0.004260410  0.999601422  1.000000000 -0.0727958340 -0.0053052344\n",
       "V4 -0.002772993 -0.072588193 -0.072795834  1.0000000000 -0.0008949449\n",
       "V5  0.999485869 -0.003922111 -0.005305234 -0.0008949449  1.0000000000\n",
       "V6 -0.035476433 -0.091328653 -0.092132156  0.7030002071 -0.0337961643\n",
       "   V6         \n",
       "V1 -0.03547643\n",
       "V2 -0.09132865\n",
       "V3 -0.09213216\n",
       "V4  0.70300021\n",
       "V5 -0.03379616\n",
       "V6  1.00000000"
      ]
     },
     "metadata": {},
     "output_type": "display_data"
    }
   ],
   "source": [
    "corel"
   ]
  },
  {
   "cell_type": "markdown",
   "metadata": {},
   "source": [
    "Оставим 1 2 4"
   ]
  },
  {
   "cell_type": "code",
   "execution_count": 449,
   "metadata": {},
   "outputs": [
    {
     "data": {
      "text/plain": [
       "\n",
       "Call: rlm(formula = V7 ~ V1 + V2 + V4, data = data6.train, psi = psi.bisquare)\n",
       "Residuals:\n",
       "       Min         1Q     Median         3Q        Max \n",
       "-1041.1150    -1.2445     0.0288     1.2074  9128.5077 \n",
       "\n",
       "Coefficients:\n",
       "            Value    Std. Error t value \n",
       "(Intercept)  -3.9007   0.5498    -7.0950\n",
       "V1           14.2417   0.1481    96.1688\n",
       "V2            2.9546   0.0220   134.3043\n",
       "V4           -1.3674   0.2349    -5.8201\n",
       "\n",
       "Residual standard error: 1.861 on 396 degrees of freedom"
      ]
     },
     "metadata": {},
     "output_type": "display_data"
    }
   ],
   "source": [
    "rr.bisquare <- rlm(V7 ~ V1 + V2 + V4, data = data6.train, psi = psi.bisquare)\n",
    "summary(rr.bisquare)"
   ]
  },
  {
   "cell_type": "code",
   "execution_count": 450,
   "metadata": {},
   "outputs": [
    {
     "data": {
      "text/html": [
       "<table>\n",
       "<thead><tr><th></th><th scope=col>V7</th></tr></thead>\n",
       "<tbody>\n",
       "\t<tr><th scope=row>401</th><td>210.0332</td></tr>\n",
       "</tbody>\n",
       "</table>\n"
      ],
      "text/latex": [
       "\\begin{tabular}{r|l}\n",
       "  & V7\\\\\n",
       "\\hline\n",
       "\t401 & 210.0332\\\\\n",
       "\\end{tabular}\n"
      ],
      "text/markdown": [
       "\n",
       "| <!--/--> | V7 | \n",
       "|---|\n",
       "| 401 | 210.0332 | \n",
       "\n",
       "\n"
      ],
      "text/plain": [
       "    V7      \n",
       "401 210.0332"
      ]
     },
     "metadata": {},
     "output_type": "display_data"
    }
   ],
   "source": [
    "(data6.test['V7'] - predict(rr.bisquare, test[-7])) ** 2"
   ]
  },
  {
   "cell_type": "markdown",
   "metadata": {},
   "source": [
    "О, стало вообще хорошо, избавились от мультиколлинеарности"
   ]
  },
  {
   "cell_type": "markdown",
   "metadata": {},
   "source": [
    "Ну , на этом и юстановлюсь, но можно просто еще посмотрев на матрицу ковариаций другие попробовать"
   ]
  },
  {
   "cell_type": "code",
   "execution_count": null,
   "metadata": {
    "collapsed": true
   },
   "outputs": [],
   "source": []
  }
 ],
 "metadata": {
  "kernelspec": {
   "display_name": "R",
   "language": "R",
   "name": "ir"
  },
  "language_info": {
   "codemirror_mode": "r",
   "file_extension": ".r",
   "mimetype": "text/x-r-source",
   "name": "R",
   "pygments_lexer": "r",
   "version": "3.3.2"
  }
 },
 "nbformat": 4,
 "nbformat_minor": 2
}
