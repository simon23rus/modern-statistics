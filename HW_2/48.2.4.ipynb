{
 "cells": [
  {
   "cell_type": "code",
   "execution_count": 7,
   "metadata": {
    "collapsed": true,
    "deletable": true,
    "editable": true
   },
   "outputs": [],
   "source": [
    "import numpy as np\n",
    "import pandas as pd\n",
    "import matplotlib.pyplot as plt\n",
    "import scipy.stats as sps\n",
    "import scipy.optimize\n",
    "from tqdm import tqdm\n",
    "import scipy.special\n",
    "\n",
    "%matplotlib inline"
   ]
  },
  {
   "cell_type": "markdown",
   "metadata": {},
   "source": [
    "Посчитаем интегралы, взяв в кач-ве априорных распределений сопряженные $\\\\Beta(\\alpha_0, \\beta)$ и $\\Gamma(\\alpha_1, \\theta)$ распределения соответствено(с некоторыми параметрами)"
   ]
  },
  {
   "cell_type": "markdown",
   "metadata": {},
   "source": [
    "$$K(X) = \\frac{\\mathsf{P}(\\left. \\mathcal{P}_0 \\right| X)}{\\mathsf{P}(\\left. \\mathcal{P}_1 \\right| X)} = \\frac{\\int\\limits_\\Theta p^0_\\theta(X) q^0(\\theta) d\\theta}{\\int\\limits_\\Sigma p^1_\\sigma(X) q^1(\\sigma) d\\sigma}$$"
   ]
  },
  {
   "cell_type": "markdown",
   "metadata": {},
   "source": [
    " $p^0(X) = \\int\\limits_{0}^{1} (\\Pi C_m^{x_i}) p^{\\sum{x_i}}(1 - p)^{mn - \\sum{x_i}} \\cdot \\frac{ p^{\\alpha - 1} (1 - p)^{\\beta - 1} } {B(\\alpha, \\beta)} dp = \\frac{(\\Pi C_m^{x_i}) \\cdot B(\\sum{x_i} + \\alpha, mn - \\sum{x_i} + \\beta)} {{B(\\alpha, \\beta)}}$ - Бета функция"
   ]
  },
  {
   "cell_type": "markdown",
   "metadata": {},
   "source": [
    "$p^1(X) = \\int\\limits_{0}^{+\\infty} \\Pi(\\frac{e^{-\\lambda} \\cdot \\lambda^{x_i}} {x_i!} ) \\cdot \\frac{\\theta^{\\alpha} \\lambda^{\\alpha - 1} e^{-\\theta \\lambda}} {\\Gamma{(\\alpha)}} d\\lambda = \\frac{\\theta^\\alpha}{(\\Pi x_i!) \\cdot \\Gamma{(\\alpha)}} \\cdot \\int\\limits_{0}^{+\\infty} e^{-\\lambda(\\theta + n)} \\lambda^{\\sum{x_i} + \\alpha - 1 }d\\lambda $ = / преобразуем подинтегральную фунеции так, чтобы она стала Гамма функцией /= $\\frac{\\theta^\\alpha}{(\\Pi x_i!) \\cdot \\Gamma{(\\alpha)}} \\cdot \\frac{1}{(\\theta + n)^{\\sum{x_i} + \\alpha}} \\cdot \\Gamma(\\sum{x_i} + \\alpha)$ "
   ]
  },
  {
   "cell_type": "code",
   "execution_count": 109,
   "metadata": {
    "collapsed": false
   },
   "outputs": [],
   "source": [
    "m = 10\n",
    "p = 1 / 3\n",
    "alpha = 2\n",
    "beta = 3"
   ]
  },
  {
   "cell_type": "code",
   "execution_count": 117,
   "metadata": {
    "collapsed": true
   },
   "outputs": [],
   "source": [
    "alpha_1 = 2\n",
    "theta = 3"
   ]
  },
  {
   "cell_type": "code",
   "execution_count": 110,
   "metadata": {
    "collapsed": true
   },
   "outputs": [],
   "source": [
    "confidences = [0.01, 0.05, 0.1]\n",
    "sample_sizes = [100, 250, 500]"
   ]
  },
  {
   "cell_type": "code",
   "execution_count": 111,
   "metadata": {
    "collapsed": false
   },
   "outputs": [],
   "source": [
    "sample = sps.binom.rvs(m, p, size=sample_sizes[0])"
   ]
  },
  {
   "cell_type": "code",
   "execution_count": 112,
   "metadata": {
    "collapsed": false
   },
   "outputs": [
    {
     "data": {
      "text/plain": [
       "array([4, 0, 3, 2, 5, 5, 2, 3, 4, 5, 4, 3, 2, 2, 2, 3, 5, 4, 4, 5, 2, 4, 6,\n",
       "       5, 3, 3, 1, 4, 4, 5, 3, 4, 1, 3, 3, 3, 3, 1, 4, 6, 3, 5, 3, 4, 5, 2,\n",
       "       5, 1, 4, 3, 6, 2, 5, 3, 1, 2, 4, 4, 3, 3, 3, 3, 4, 5, 4, 4, 5, 4, 7,\n",
       "       3, 4, 3, 2, 2, 3, 1, 0, 2, 5, 2, 4, 4, 3, 4, 2, 5, 3, 5, 5, 6, 2, 3,\n",
       "       3, 2, 1, 1, 3, 2, 3, 5])"
      ]
     },
     "execution_count": 112,
     "metadata": {},
     "output_type": "execute_result"
    }
   ],
   "source": [
    "sample"
   ]
  },
  {
   "cell_type": "code",
   "execution_count": null,
   "metadata": {
    "collapsed": true
   },
   "outputs": [],
   "source": []
  },
  {
   "cell_type": "code",
   "execution_count": 131,
   "metadata": {
    "collapsed": false
   },
   "outputs": [],
   "source": [
    "chis = np.sum(np.log(scipy.special.binom(10, sample))) - scipy.special.betaln(alpha, beta) + scipy.special.betaln(sum(sample) + alpha, m * len(sample) - sum(sample) + beta)"
   ]
  },
  {
   "cell_type": "code",
   "execution_count": 130,
   "metadata": {
    "collapsed": false
   },
   "outputs": [],
   "source": [
    "znam = alpha_1 * np.log(theta) - (np.sum(np.log(scipy.special.factorial(sample))) +\n",
    "                    scipy.special.gammaln(alpha_1)) +  scipy.special.gammaln(sum(sample) + alpha_1)\\\n",
    "                - np.log(theta + len(sample)) * (sum(sample) + alpha_1)"
   ]
  },
  {
   "cell_type": "code",
   "execution_count": 161,
   "metadata": {
    "collapsed": false
   },
   "outputs": [
    {
     "data": {
      "text/plain": [
       "7.8644289397595912"
      ]
     },
     "execution_count": 161,
     "metadata": {},
     "output_type": "execute_result"
    }
   ],
   "source": [
    "K = chis - znam\n",
    "K"
   ]
  },
  {
   "cell_type": "code",
   "execution_count": 160,
   "metadata": {
    "collapsed": false
   },
   "outputs": [
    {
     "name": "stderr",
     "output_type": "stream",
     "text": [
      "100%|██████████| 100000/100000 [00:21<00:00, 4633.76it/s]\n",
      "100%|██████████| 100000/100000 [00:23<00:00, 4282.39it/s]\n",
      "100%|██████████| 100000/100000 [00:19<00:00, 5085.13it/s]\n"
     ]
    }
   ],
   "source": [
    "K_stats = []\n",
    "for ss in (sample_sizes):\n",
    "    to_add = []\n",
    "    for i in tqdm(range(int(1e5))):\n",
    "        sample = sps.binom.rvs(m, p, size=sample_sizes[0])\n",
    "        chis = np.sum(np.log(scipy.special.binom(10, sample))) \\\n",
    "                    - scipy.special.betaln(alpha, beta) \\\n",
    "                    + scipy.special.betaln(sum(sample) \\\n",
    "                    + alpha, m * len(sample) - sum(sample) + beta)\n",
    "            \n",
    "            \n",
    "        znam = alpha_1 * np.log(theta) - (np.sum(np.log(scipy.special.factorial(sample))) +\n",
    "                    scipy.special.gammaln(alpha_1)) +  scipy.special.gammaln(sum(sample) + alpha_1)\\\n",
    "                - np.log(theta + len(sample)) * (sum(sample) + alpha_1)\n",
    "            \n",
    "            \n",
    "        K_stat =  chis - znam\n",
    "        to_add.append(K_stat)\n",
    "    K_stats.append(to_add)"
   ]
  },
  {
   "cell_type": "markdown",
   "metadata": {},
   "source": [
    "Посчитали нашу статистику, теперь возьмем и посмотрим на гистограммы этого распределения"
   ]
  },
  {
   "cell_type": "code",
   "execution_count": 162,
   "metadata": {
    "collapsed": false
   },
   "outputs": [
    {
     "data": {
      "image/png": "[encoded data removed]",
      "text/plain": [
       "<matplotlib.figure.Figure at 0x1146b2b70>"
      ]
     },
     "metadata": {},
     "output_type": "display_data"
    }
   ],
   "source": [
    "plt.hist(K_stats[0])\n",
    "plt.show()"
   ]
  },
  {
   "cell_type": "code",
   "execution_count": 163,
   "metadata": {
    "collapsed": false
   },
   "outputs": [
    {
     "data": {
      "image/png": "[encoded data removed]",
      "text/plain": [
       "<matplotlib.figure.Figure at 0x114b905c0>"
      ]
     },
     "metadata": {},
     "output_type": "display_data"
    }
   ],
   "source": [
    "plt.hist(K_stats[1])\n",
    "plt.show()"
   ]
  },
  {
   "cell_type": "code",
   "execution_count": 164,
   "metadata": {
    "collapsed": false
   },
   "outputs": [
    {
     "data": {
      "image/png": "[encoded data removed]",
      "text/plain": [
       "<matplotlib.figure.Figure at 0x114fdc3c8>"
      ]
     },
     "metadata": {},
     "output_type": "display_data"
    }
   ],
   "source": [
    "plt.hist(K_stats[2])\n",
    "plt.show()"
   ]
  },
  {
   "cell_type": "markdown",
   "metadata": {},
   "source": [
    "Теперь, для того чтобы получить нужный уровень значимости, осталось найти выборочные квантили этого распределения разных уровней."
   ]
  },
  {
   "cell_type": "code",
   "execution_count": 165,
   "metadata": {
    "collapsed": false
   },
   "outputs": [
    {
     "name": "stderr",
     "output_type": "stream",
     "text": [
      "100%|██████████| 3/3 [00:00<00:00, 23.78it/s]\n"
     ]
    }
   ],
   "source": [
    "quantiles = []\n",
    "for conf in tqdm(confidences):\n",
    "    to_add = []\n",
    "    for stat in K_stats:\n",
    "        quant = np.percentile(stat, 1 - conf)\n",
    "        to_add.append(quant)\n",
    "    quantiles.append(to_add)"
   ]
  },
  {
   "cell_type": "code",
   "execution_count": 166,
   "metadata": {
    "collapsed": false
   },
   "outputs": [
    {
     "data": {
      "text/plain": [
       "[[2.532422750961425, 2.43787236676549, 2.454395833583908],\n",
       " [2.48180457940623, 2.3877251699571955, 2.397224044009636],\n",
       " [2.4184024463206626, 2.3312706945447754, 2.3278362212444312]]"
      ]
     },
     "execution_count": 166,
     "metadata": {},
     "output_type": "execute_result"
    }
   ],
   "source": [
    "quantiles"
   ]
  },
  {
   "cell_type": "markdown",
   "metadata": {},
   "source": [
    "Вот мы получили наши квантили(критические значения), для всех заданных в условии параметрах"
   ]
  },
  {
   "cell_type": "code",
   "execution_count": 167,
   "metadata": {
    "collapsed": false
   },
   "outputs": [
    {
     "name": "stdout",
     "output_type": "stream",
     "text": [
      "conf size  val\n",
      "0.01 100 2.53242275096\n",
      "0.01 250 2.43787236677\n",
      "0.01 500 2.45439583358\n",
      "0.05 100 2.48180457941\n",
      "0.05 250 2.38772516996\n",
      "0.05 500 2.39722404401\n",
      "0.1 100 2.41840244632\n",
      "0.1 250 2.33127069454\n",
      "0.1 500 2.32783622124\n"
     ]
    }
   ],
   "source": [
    "print ('conf size  val')\n",
    "for i in range(3):\n",
    "    for j in range(3):\n",
    "        print(confidences[i], sample_sizes[j], quantiles[i][j])"
   ]
  },
  {
   "cell_type": "code",
   "execution_count": null,
   "metadata": {
    "collapsed": true
   },
   "outputs": [],
   "source": []
  }
 ],
 "metadata": {
  "kernelspec": {
   "display_name": "Python 3",
   "language": "python",
   "name": "python3"
  },
  "language_info": {
   "codemirror_mode": {
    "name": "ipython",
    "version": 3
   },
   "file_extension": ".py",
   "mimetype": "text/x-python",
   "name": "python",
   "nbconvert_exporter": "python",
   "pygments_lexer": "ipython3",
   "version": "3.5.2"
  }
 },
 "nbformat": 4,
 "nbformat_minor": 2
}
